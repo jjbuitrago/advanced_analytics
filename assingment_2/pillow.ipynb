{
 "cells": [
  {
   "cell_type": "code",
   "execution_count": 85,
   "metadata": {},
   "outputs": [],
   "source": [
    "from PIL import Image\n",
    "import json\n",
    "import numpy as np"
   ]
  },
  {
   "cell_type": "markdown",
   "metadata": {},
   "source": [
    "Getting pixels of an image"
   ]
  },
  {
   "cell_type": "code",
   "execution_count": 68,
   "metadata": {},
   "outputs": [],
   "source": [
    "with open('metadata.json') as f:\n",
    "    coords = json.load(f)\n",
    " "
   ]
  },
  {
   "cell_type": "code",
   "execution_count": 109,
   "metadata": {},
   "outputs": [],
   "source": [
    "image_name = \"42.637205_2.8694305.png\"\n",
    "im = Image.open(f\"test_images/{image_name}\", \"r\")"
   ]
  },
  {
   "cell_type": "code",
   "execution_count": 111,
   "metadata": {},
   "outputs": [],
   "source": [
    "def get_pixels_range(bounds_x_y):\n",
    "    min_x = 512\n",
    "    max_x = 0\n",
    "    min_y = 512\n",
    "    max_y = 0\n",
    "\n",
    "    for coords in bounds_x_y:\n",
    "        if coords[\"x\"] > max_x: max_x = coords[\"x\"]\n",
    "        if coords[\"x\"] < min_x: min_x = coords[\"x\"]\n",
    "        if coords[\"y\"] > max_y: max_y = coords[\"y\"]\n",
    "        if coords[\"y\"] < min_y: min_y = coords[\"y\"]\n",
    "\n",
    "    return [int(x) for x in [np.floor(min_x), np.ceil(max_x), np.floor(min_y), np.ceil(max_y)]]\n",
    "    "
   ]
  },
  {
   "cell_type": "code",
   "execution_count": 112,
   "metadata": {},
   "outputs": [
    {
     "name": "stdout",
     "output_type": "stream",
     "text": [
      "219 293 191 293\n"
     ]
    }
   ],
   "source": [
    "min_x, max_x, min_y,max_y = get_pixels_range(coords[image_name][\"bounds_x_y\"])\n",
    "\n",
    "pixels = im.load()\n",
    "width, height = im.size\n",
    "\n",
    "all_pixels = []\n",
    "for height in range(min_y,max_y):\n",
    "    for width in range(min_x, max_x):\n",
    "        cpixel = pixels[width, height]\n",
    "        all_pixels.append(cpixel)\n",
    "\n",
    "img = Image.new('RGB', (max_x-min_x,max_y-min_y))\n",
    "img.putdata(all_pixels)\n",
    "img.show()"
   ]
  }
 ],
 "metadata": {
  "interpreter": {
   "hash": "916dbcbb3f70747c44a77c7bcd40155683ae19c65e1c03b4aa3499c5328201f1"
  },
  "kernelspec": {
   "display_name": "Python 3.9.7 64-bit",
   "language": "python",
   "name": "python3"
  },
  "language_info": {
   "codemirror_mode": {
    "name": "ipython",
    "version": 3
   },
   "file_extension": ".py",
   "mimetype": "text/x-python",
   "name": "python",
   "nbconvert_exporter": "python",
   "pygments_lexer": "ipython3",
   "version": "3.9.7"
  },
  "orig_nbformat": 4
 },
 "nbformat": 4,
 "nbformat_minor": 2
}
