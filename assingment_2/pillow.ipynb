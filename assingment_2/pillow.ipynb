{
 "cells": [
  {
   "cell_type": "code",
   "execution_count": 57,
   "metadata": {},
   "outputs": [],
   "source": [
    "from PIL import Image\n",
    "import json\n",
    "import numpy as np\n",
    "import matplotlib.pyplot as plt\n",
    "import os"
   ]
  },
  {
   "cell_type": "markdown",
   "metadata": {},
   "source": [
    "Getting pixels of an image"
   ]
  },
  {
   "cell_type": "code",
   "execution_count": 3,
   "metadata": {},
   "outputs": [],
   "source": [
    "with open('metadata.json') as f:\n",
    "    coords = json.load(f)"
   ]
  },
  {
   "cell_type": "code",
   "execution_count": 109,
   "metadata": {},
   "outputs": [],
   "source": [
    "image_name = \"42.637205_2.8694305.png\"\n",
    "im = Image.open(f\"images/{image_name}\", \"r\")"
   ]
  },
  {
   "cell_type": "code",
   "execution_count": 15,
   "metadata": {},
   "outputs": [],
   "source": [
    "def get_pixels_range(bounds_x_y):\n",
    "    min_x = 512\n",
    "    max_x = 0\n",
    "    min_y = 512\n",
    "    max_y = 0\n",
    "\n",
    "    for coords in bounds_x_y:\n",
    "        if coords[\"x\"] > max_x: max_x = coords[\"x\"]\n",
    "        if coords[\"x\"] < min_x: min_x = coords[\"x\"]\n",
    "        if coords[\"y\"] > max_y: max_y = coords[\"y\"]\n",
    "        if coords[\"y\"] < min_y: min_y = coords[\"y\"]\n",
    "\n",
    "    return [int(x) for x in [np.floor(min_x), np.ceil(max_x), np.floor(min_y), np.ceil(max_y)]]\n",
    "    "
   ]
  },
  {
   "cell_type": "markdown",
   "metadata": {},
   "source": [
    "### Images processing"
   ]
  },
  {
   "cell_type": "markdown",
   "metadata": {},
   "source": [
    "The idea is to generate a dataset with images that are pools by using the metadata.json file and images that are not pools, train a CNN and, in order to find the pools in new data, iterate over an image and get the subimage with the highest probability of being a pool. So given that the rectangles have different pixels sizes, for simplicity, I need the biggest rectangle so all the subimages will be cropped with the same size. This will be done based on the json file."
   ]
  },
  {
   "cell_type": "code",
   "execution_count": 37,
   "metadata": {},
   "outputs": [],
   "source": [
    "filenames = list(coords.keys())\n",
    "image_names = os.listdir(\"images\")\n",
    "print(f\"There are {len(filenames) - len(image_names)} objects in the json without image\")"
   ]
  },
  {
   "cell_type": "code",
   "execution_count": 94,
   "metadata": {},
   "outputs": [
    {
     "name": "stdout",
     "output_type": "stream",
     "text": [
      "Max width is 0. Max height is 0\n"
     ]
    }
   ],
   "source": [
    "# max_width = 0\n",
    "# max_height = 0\n",
    "widths = []\n",
    "heights = []\n",
    "\n",
    "for filename in [el for el in filenames if el not in [\"42.677504_2.6868817.png\", \"42.7004154_3.0166456.png\"]]:\n",
    "    min_x, max_x, min_y,max_y = get_pixels_range(coords[filename][\"bounds_x_y\"])\n",
    "    im_width = max_x - min_x\n",
    "    im_height = max_y - min_y\n",
    "    widths.append(im_width)\n",
    "    heights.append(im_height)\n",
    "    # if im_width > max_width:\n",
    "    #     max_width = im_width\n",
    "    #     new = filename\n",
    "    # if im_height > max_height:\n",
    "    #     max_height = im_height\n",
    "    #     other = filename\n",
    "        \n",
    "# print(f\"Max width is {max_width}. Max height is {max_height}\")"
   ]
  },
  {
   "cell_type": "markdown",
   "metadata": {},
   "source": [
    "The problem is that there are some images where the pool is really big, so it will be considered an outlier. Since the image is 512x512. By choosing image size of 100 is almost taking into account 90% of the images we have"
   ]
  },
  {
   "cell_type": "code",
   "execution_count": 128,
   "metadata": {},
   "outputs": [
    {
     "data": {
      "text/plain": [
       "Text(85, -10, '0.25: 62.0\\n0.50: 77.0\\n0.95: 114.0')"
      ]
     },
     "execution_count": 128,
     "metadata": {},
     "output_type": "execute_result"
    },
    {
     "data": {
      "image/png": "[encoded data removed]",
      "text/plain": [
       "<Figure size 432x288 with 2 Axes>"
      ]
     },
     "metadata": {
      "needs_background": "light"
     },
     "output_type": "display_data"
    }
   ],
   "source": [
    "fig = plt.figure()\n",
    "ax1 = fig.add_subplot(1,2,1)\n",
    "plt.boxplot(widths)\n",
    "plt.title('Widths')\n",
    "plt.annotate(f\"0.25: {np.percentile(widths, 25)}\\n0.50: {np.percentile(widths,50)}\\n0.95: {np.percentile(widths, 95)}\",\n",
    "xy=(0, 1), xycoords=(\"data\", 'axes fraction'),\n",
    "                    xytext=(85, -10), textcoords='offset points',\n",
    "                    ha=\"left\", va=\"top\"\n",
    ")\n",
    "ax1 = fig.add_subplot(1,2,2)\n",
    "plt.boxplot(heights)\n",
    "plt.title('Heights')\n",
    "plt.annotate(f\"0.25: {np.percentile(heights, 25)}\\n0.50: {np.percentile(heights,50)}\\n0.95: {np.percentile(heights, 95)}\",\n",
    "xy=(0, 1), xycoords=(\"data\", 'axes fraction'),\n",
    "                    xytext=(85, -10), textcoords='offset points',\n",
    "                    ha=\"left\", va=\"top\"\n",
    ")"
   ]
  },
  {
   "cell_type": "code",
   "execution_count": 138,
   "metadata": {},
   "outputs": [],
   "source": [
    "xAxis = [el[\"x\"] for el in coords[filenames[100]][\"bounds_x_y\"]]\n",
    "yAxis = [512 - el[\"y\"] for el in coords[filenames[100]][\"bounds_x_y\"]]\n",
    "plt.scatter(xAxis, yAxis)\n",
    "plt.xlabel(\"x coords\")\n",
    "plt.ylabel(\"y coords\")\n",
    "plt.show()"
   ]
  },
  {
   "cell_type": "code",
   "execution_count": 146,
   "metadata": {},
   "outputs": [
    {
     "name": "stderr",
     "output_type": "stream",
     "text": [
      "\n",
      "(eog:274210): EOG-CRITICAL **: 18:52:00.334: eog_image_get_file: assertion 'EOG_IS_IMAGE (img)' failed\n",
      "\n",
      "(eog:274210): GLib-GIO-CRITICAL **: 18:52:00.334: g_file_equal: assertion 'G_IS_FILE (file1)' failed\n"
     ]
    }
   ],
   "source": [
    "min_x, max_x, min_y,max_y = get_pixels_range(coords[filenames[123]][\"bounds_x_y\"])\n",
    "\n",
    "im = Image.open(f\"images/{filenames[123]}\")\n",
    "im.show()\n",
    "\n",
    "pixels = im.load()\n",
    "\n",
    "all_pixels = []\n",
    "for height in range(min_y,max_y):\n",
    "    for width in range(min_x, max_x):\n",
    "        cpixel = pixels[width, height]\n",
    "        all_pixels.append(cpixel)\n",
    "\n",
    "img = Image.new('RGB', (max_x-min_x,max_y-min_y))\n",
    "img.putdata(all_pixels)\n",
    "img.show()\n",
    "img.save(f\"cropped_images/{filenames[123]}\")"
   ]
  },
  {
   "cell_type": "code",
   "execution_count": 137,
   "metadata": {},
   "outputs": [
    {
     "data": {
      "text/plain": [
       "(196, 316, 198, 286, 120, 88)"
      ]
     },
     "execution_count": 137,
     "metadata": {},
     "output_type": "execute_result"
    }
   ],
   "source": [
    "min_x, max_x, min_y,max_y, max_x-min_x,max_y-min_y"
   ]
  },
  {
   "cell_type": "code",
   "execution_count": 150,
   "metadata": {},
   "outputs": [],
   "source": [
    "def get_pixels(min_y,max_y,min_x, max_x, pixels):\n",
    "    all_pixels = []\n",
    "    for height in range(min_y,max_y):\n",
    "        for width in range(min_x, max_x):\n",
    "            cpixel = pixels[width, height]\n",
    "            all_pixels.append(cpixel)\n",
    "    \n",
    "    return all_pixels\n"
   ]
  },
  {
   "cell_type": "markdown",
   "metadata": {},
   "source": [
    "The next step is to crop the image and save it in the class_a folder and crop four images (for the moment) a save them in class_b folder. It is four images for each side of the pool (one above, one below, one left and one right)"
   ]
  },
  {
   "cell_type": "code",
   "execution_count": 222,
   "metadata": {},
   "outputs": [],
   "source": [
    "for filename in filenames:\n",
    "    \n",
    "    min_x, max_x, min_y, max_y = get_pixels_range(\n",
    "        coords[filename][\"bounds_x_y\"])\n",
    "    im_width = max_x - min_x\n",
    "    im_height = max_y - min_y\n",
    "\n",
    "    if im_width < 101 and im_height < 101:\n",
    "        center_x, center_y = (int(np.ceil((max_x + min_x)/2)),\n",
    "                              int(np.ceil((max_y + min_y)/2)))\n",
    "        try:\n",
    "            im = Image.open(f\"images/{filename}\")\n",
    "        except FileNotFoundError:\n",
    "            continue\n",
    "        pixels = im.load()\n",
    "\n",
    "        all_pixels = get_pixels(center_y-50, center_y+50,\n",
    "                                center_x - 50, center_x + 50, pixels)\n",
    "\n",
    "        img = Image.new('RGB', (100, 100))\n",
    "        img.putdata(all_pixels)\n",
    "        img.save(f\"cropped_images/class_a/{filename}\")\n",
    "\n",
    "        ix = 1\n",
    "        for extra_x, extra_y in [(-100,0),(0,-100),(100,0),(0,100)]:\n",
    "            all_pixels = get_pixels(center_y-50 + extra_y, center_y+50 + extra_y,\n",
    "                                center_x - 50 + extra_x, center_x + 50 + extra_x, pixels)\n",
    "            \n",
    "            img_n = Image.new('RGB', (100, 100))\n",
    "            img_n.putdata(all_pixels)\n",
    "            img_n.save(f\"cropped_images/class_b/{ix}_{filename}\")\n",
    "            ix +=1\n",
    "\n"
   ]
  }
 ],
 "metadata": {
  "interpreter": {
   "hash": "916dbcbb3f70747c44a77c7bcd40155683ae19c65e1c03b4aa3499c5328201f1"
  },
  "kernelspec": {
   "display_name": "Python 3.9.7 64-bit",
   "language": "python",
   "name": "python3"
  },
  "language_info": {
   "codemirror_mode": {
    "name": "ipython",
    "version": 3
   },
   "file_extension": ".py",
   "mimetype": "text/x-python",
   "name": "python",
   "nbconvert_exporter": "python",
   "pygments_lexer": "ipython3",
   "version": "3.9.7"
  },
  "orig_nbformat": 4
 },
 "nbformat": 4,
 "nbformat_minor": 2
}
