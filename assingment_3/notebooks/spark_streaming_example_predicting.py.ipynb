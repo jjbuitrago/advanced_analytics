{
 "cells": [
  {
   "cell_type": "code",
   "execution_count": 1,
   "metadata": {},
   "outputs": [],
   "source": [
    "import threading\n",
    "\n",
    "# Helper thread to avoid the Spark StreamingContext from blocking Jupyter\n",
    "        \n",
    "class StreamingThread(threading.Thread):\n",
    "    def __init__(self, ssc):\n",
    "        super().__init__()\n",
    "        self.ssc = ssc\n",
    "    def run(self):\n",
    "        self.ssc.start()\n",
    "        self.ssc.awaitTermination()\n",
    "    def stop(self):\n",
    "        print('----- Stopping... this may take a few seconds -----')\n",
    "        self.ssc.stop(stopSparkContext=False, stopGraceFully=True)"
   ]
  },
  {
   "cell_type": "code",
   "execution_count": 2,
   "metadata": {
    "scrolled": true
   },
   "outputs": [
    {
     "name": "stderr",
     "output_type": "stream",
     "text": [
      "22/04/14 01:34:45 WARN Utils: Your hostname, pop-os resolves to a loopback address: 127.0.1.1; using 192.168.1.103 instead (on interface wlp1s0)\n",
      "22/04/14 01:34:45 WARN Utils: Set SPARK_LOCAL_IP if you need to bind to another address\n",
      "WARNING: An illegal reflective access operation has occurred\n",
      "WARNING: Illegal reflective access by org.apache.spark.unsafe.Platform (file:/home/juanjosebuitrago/.local/lib/python3.9/site-packages/pyspark/jars/spark-unsafe_2.12-3.2.0.jar) to constructor java.nio.DirectByteBuffer(long,int)\n",
      "WARNING: Please consider reporting this to the maintainers of org.apache.spark.unsafe.Platform\n",
      "WARNING: Use --illegal-access=warn to enable warnings of further illegal reflective access operations\n",
      "WARNING: All illegal access operations will be denied in a future release\n",
      "Using Spark's default log4j profile: org/apache/spark/log4j-defaults.properties\n",
      "Setting default log level to \"WARN\".\n",
      "To adjust logging level use sc.setLogLevel(newLevel). For SparkR, use setLogLevel(newLevel).\n",
      "22/04/14 01:34:46 WARN NativeCodeLoader: Unable to load native-hadoop library for your platform... using builtin-java classes where applicable\n",
      "22/04/14 01:34:47 WARN Utils: Service 'SparkUI' could not bind on port 4040. Attempting port 4041.\n",
      "22/04/14 01:34:47 WARN Utils: Service 'SparkUI' could not bind on port 4041. Attempting port 4042.\n",
      "22/04/14 01:34:47 WARN Utils: Service 'SparkUI' could not bind on port 4042. Attempting port 4043.\n",
      "22/04/14 01:34:47 WARN Utils: Service 'SparkUI' could not bind on port 4043. Attempting port 4044.\n"
     ]
    }
   ],
   "source": [
    "#Initializing PySpark\n",
    "from pyspark import SparkContext, SparkConf\n",
    "from pyspark.sql.session import SparkSession\n",
    "\n",
    "# #Spark Config\n",
    "conf = SparkConf().setAppName(\"sample_app\")\n",
    "sc = SparkContext(conf=conf)\n",
    "spark = SparkSession(sc)"
   ]
  },
  {
   "cell_type": "code",
   "execution_count": 3,
   "metadata": {},
   "outputs": [],
   "source": [
    "from pyspark.streaming import StreamingContext\n",
    "from pyspark.sql import Row\n",
    "from pyspark.sql.functions import udf, struct, array, col, lit\n",
    "from pyspark.sql.types import StringType"
   ]
  },
  {
   "cell_type": "code",
   "execution_count": 4,
   "metadata": {},
   "outputs": [],
   "source": [
    "globals()['models_loaded'] = False\n",
    "globals()['my_model'] = None\n",
    "\n",
    "# Toy predict function. Normally you'd use your loaded globals()['my_model'] here\n",
    "def predict(df):\n",
    "    return 'predicted-name-of-channel'\n",
    "\n",
    "predict_udf = udf(predict, StringType())\n",
    "\n",
    "def process(time, rdd):\n",
    "    if rdd.isEmpty():\n",
    "        return\n",
    "    \n",
    "    print(\"========= %s =========\" % str(time))\n",
    "    \n",
    "    # Convert to data frame\n",
    "    df = spark.read.json(rdd)\n",
    "    df.show()\n",
    "    \n",
    "    # Utilize our predict function\n",
    "    df_withpreds = df.withColumn(\"pred\", predict_udf(\n",
    "        struct([df[x] for x in df.columns])\n",
    "    ))\n",
    "    df_withpreds.show()\n",
    "    \n",
    "    # Normally, you wouldn't use a UDF (User Defined Function) Python function to predict as we did here (you can)\n",
    "    # but an MLlib model you've built and saved with Spark\n",
    "    # In this case, you need to prevent loading your model in every call to \"process\" as follows:\n",
    "    \n",
    "    # Load in the model if not yet loaded:\n",
    "    if not globals()['models_loaded']:\n",
    "        # load in your models here\n",
    "        globals()['my_model'] = '***' # Replace '***' with:    [...].load('my_logistic_regression')\n",
    "        globals()['models_loaded'] = True\n",
    "        \n",
    "    # And then predict using the loaded model: \n",
    "    # df_result = globals()['my_model'].transform(df)\n",
    "    # df_result.show()"
   ]
  },
  {
   "cell_type": "code",
   "execution_count": 5,
   "metadata": {},
   "outputs": [],
   "source": [
    "ssc = StreamingContext(sc, 10)"
   ]
  },
  {
   "cell_type": "code",
   "execution_count": 6,
   "metadata": {
    "scrolled": true
   },
   "outputs": [],
   "source": [
    "lines = ssc.socketTextStream(\"localhost\", 8080)\n",
    "lines.foreachRDD(process)"
   ]
  },
  {
   "cell_type": "code",
   "execution_count": 7,
   "metadata": {
    "scrolled": false
   },
   "outputs": [
    {
     "name": "stderr",
     "output_type": "stream",
     "text": [
      "22/04/14 01:35:05 WARN RandomBlockReplicationPolicy: Expecting 1 replicas with only 0 peer/s.\n",
      "22/04/14 01:35:05 WARN BlockManager: Block input-0-1649892905400 replicated to only 0 peer(s) instead of 1 peers\n",
      "22/04/14 01:35:06 WARN RandomBlockReplicationPolicy: Expecting 1 replicas with only 0 peer/s.\n",
      "22/04/14 01:35:06 WARN BlockManager: Block input-0-1649892906400 replicated to only 0 peer(s) instead of 1 peers\n",
      "22/04/14 01:35:07 WARN RandomBlockReplicationPolicy: Expecting 1 replicas with only 0 peer/s.\n",
      "22/04/14 01:35:07 WARN BlockManager: Block input-0-1649892907400 replicated to only 0 peer(s) instead of 1 peers\n",
      "22/04/14 01:35:08 WARN RandomBlockReplicationPolicy: Expecting 1 replicas with only 0 peer/s.\n",
      "22/04/14 01:35:08 WARN BlockManager: Block input-0-1649892908400 replicated to only 0 peer(s) instead of 1 peers\n",
      "22/04/14 01:35:09 WARN RandomBlockReplicationPolicy: Expecting 1 replicas with only 0 peer/s.\n",
      "22/04/14 01:35:09 WARN BlockManager: Block input-0-1649892909400 replicated to only 0 peer(s) instead of 1 peers\n",
      "22/04/14 01:35:09 WARN RandomBlockReplicationPolicy: Expecting 1 replicas with only 0 peer/s.\n",
      "22/04/14 01:35:09 WARN BlockManager: Block input-0-1649892909600 replicated to only 0 peer(s) instead of 1 peers\n",
      "22/04/14 01:35:10 WARN RandomBlockReplicationPolicy: Expecting 1 replicas with only 0 peer/s.\n",
      "22/04/14 01:35:10 WARN BlockManager: Block input-0-1649892910400 replicated to only 0 peer(s) instead of 1 peers\n",
      "                                                                                \r"
     ]
    },
    {
     "name": "stdout",
     "output_type": "stream",
     "text": [
      "========= 2022-04-14 01:35:10 =========\n"
     ]
    },
    {
     "name": "stderr",
     "output_type": "stream",
     "text": [
      "22/04/14 01:35:11 WARN RandomBlockReplicationPolicy: Expecting 1 replicas with only 0 peer/s.\n",
      "22/04/14 01:35:11 WARN BlockManager: Block input-0-1649892911400 replicated to only 0 peer(s) instead of 1 peers\n",
      "22/04/14 01:35:11 WARN RandomBlockReplicationPolicy: Expecting 1 replicas with only 0 peer/s.\n",
      "22/04/14 01:35:11 WARN BlockManager: Block input-0-1649892911600 replicated to only 0 peer(s) instead of 1 peers\n",
      "22/04/14 01:35:12 WARN RandomBlockReplicationPolicy: Expecting 1 replicas with only 0 peer/s.\n",
      "22/04/14 01:35:12 WARN BlockManager: Block input-0-1649892912400 replicated to only 0 peer(s) instead of 1 peers\n",
      "22/04/14 01:35:12 WARN RandomBlockReplicationPolicy: Expecting 1 replicas with only 0 peer/s.\n",
      "22/04/14 01:35:12 WARN BlockManager: Block input-0-1649892912600 replicated to only 0 peer(s) instead of 1 peers\n",
      "22/04/14 01:35:13 WARN RandomBlockReplicationPolicy: Expecting 1 replicas with only 0 peer/s.\n",
      "22/04/14 01:35:13 WARN BlockManager: Block input-0-1649892913400 replicated to only 0 peer(s) instead of 1 peers\n",
      "22/04/14 01:35:13 WARN RandomBlockReplicationPolicy: Expecting 1 replicas with only 0 peer/s.\n",
      "22/04/14 01:35:13 WARN BlockManager: Block input-0-1649892913600 replicated to only 0 peer(s) instead of 1 peers\n",
      "22/04/14 01:35:14 WARN RandomBlockReplicationPolicy: Expecting 1 replicas with only 0 peer/s.\n",
      "22/04/14 01:35:14 WARN BlockManager: Block input-0-1649892914400 replicated to only 0 peer(s) instead of 1 peers\n",
      "22/04/14 01:35:14 WARN RandomBlockReplicationPolicy: Expecting 1 replicas with only 0 peer/s.\n",
      "22/04/14 01:35:14 WARN BlockManager: Block input-0-1649892914600 replicated to only 0 peer(s) instead of 1 peers\n",
      "                                                                                \r"
     ]
    },
    {
     "name": "stdout",
     "output_type": "stream",
     "text": [
      "+----------+--------------------+----------------+-------------+\n",
      "|   channel|            datetime|         message|     username|\n",
      "+----------+--------------------+----------------+-------------+\n",
      "|#asmongold|2022-04-13T23:35:...|              4*|    thetestty|\n",
      "|#asmongold|2022-04-13T23:35:...|@DingoPWN zacmon|   frippyfrap|\n",
      "|#asmongold|2022-04-13T23:35:...|              EZ|     juugels_|\n",
      "|#asmongold|2022-04-13T23:35:...| they scramblin!|linktothejake|\n",
      "|#asmongold|2022-04-13T23:35:...|              EZ|        mrdrz|\n",
      "|#asmongold|2022-04-13T23:35:...|     EZ GOT EMMM|        meer_|\n",
      "+----------+--------------------+----------------+-------------+\n",
      "\n"
     ]
    },
    {
     "name": "stderr",
     "output_type": "stream",
     "text": [
      "22/04/14 01:35:15 WARN RandomBlockReplicationPolicy: Expecting 1 replicas with only 0 peer/s.\n",
      "22/04/14 01:35:15 WARN BlockManager: Block input-0-1649892915600 replicated to only 0 peer(s) instead of 1 peers\n",
      "22/04/14 01:35:16 WARN RandomBlockReplicationPolicy: Expecting 1 replicas with only 0 peer/s.\n",
      "22/04/14 01:35:16 WARN BlockManager: Block input-0-1649892916600 replicated to only 0 peer(s) instead of 1 peers\n"
     ]
    },
    {
     "name": "stdout",
     "output_type": "stream",
     "text": [
      "+----------+--------------------+----------------+-------------+--------------------+\n",
      "|   channel|            datetime|         message|     username|                pred|\n",
      "+----------+--------------------+----------------+-------------+--------------------+\n",
      "|#asmongold|2022-04-13T23:35:...|              4*|    thetestty|predicted-name-of...|\n",
      "|#asmongold|2022-04-13T23:35:...|@DingoPWN zacmon|   frippyfrap|predicted-name-of...|\n",
      "|#asmongold|2022-04-13T23:35:...|              EZ|     juugels_|predicted-name-of...|\n",
      "|#asmongold|2022-04-13T23:35:...| they scramblin!|linktothejake|predicted-name-of...|\n",
      "|#asmongold|2022-04-13T23:35:...|              EZ|        mrdrz|predicted-name-of...|\n",
      "|#asmongold|2022-04-13T23:35:...|     EZ GOT EMMM|        meer_|predicted-name-of...|\n",
      "+----------+--------------------+----------------+-------------+--------------------+\n",
      "\n"
     ]
    },
    {
     "name": "stderr",
     "output_type": "stream",
     "text": [
      "22/04/14 01:35:17 WARN RandomBlockReplicationPolicy: Expecting 1 replicas with only 0 peer/s.\n",
      "22/04/14 01:35:17 WARN BlockManager: Block input-0-1649892917600 replicated to only 0 peer(s) instead of 1 peers\n",
      "22/04/14 01:35:18 WARN RandomBlockReplicationPolicy: Expecting 1 replicas with only 0 peer/s.\n",
      "22/04/14 01:35:18 WARN BlockManager: Block input-0-1649892918600 replicated to only 0 peer(s) instead of 1 peers\n",
      "22/04/14 01:35:19 WARN RandomBlockReplicationPolicy: Expecting 1 replicas with only 0 peer/s.\n",
      "22/04/14 01:35:19 WARN BlockManager: Block input-0-1649892919600 replicated to only 0 peer(s) instead of 1 peers\n",
      "                                                                                \r"
     ]
    },
    {
     "name": "stdout",
     "output_type": "stream",
     "text": [
      "========= 2022-04-14 01:35:20 =========\n",
      "+----------+--------------------+--------------------+---------------+\n",
      "|   channel|            datetime|             message|       username|\n",
      "+----------+--------------------+--------------------+---------------+\n",
      "|#asmongold|2022-04-13T23:35:...|                 oof|    mydixierack|\n",
      "|#asmongold|2022-04-13T23:35:...|wtf\\r\\n:squi___!s...|    tomtheshiba|\n",
      "|#asmongold|2022-04-13T23:35:...|                  EZ|   maxfaussett1|\n",
      "|#asmongold|2022-04-13T23:35:...|@Thexppkiller TAR...| shinygoldstarz|\n",
      "|#asmongold|2022-04-13T23:35:...|              monkaW|          meer_|\n",
      "|#asmongold|2022-04-13T23:35:...|             waduhek|        deeehoc|\n",
      "|#asmongold|2022-04-13T23:35:...|            OMEGALUL| tinyangrygnome|\n",
      "|#asmongold|2022-04-13T23:35:...|theres also a sin...|        mezzops|\n",
      "|#asmongold|2022-04-13T23:35:...|                  D:|  linktothejake|\n",
      "|#asmongold|2022-04-13T23:35:...|            OMEGALUL|       miimitan|\n",
      "|#asmongold|2022-04-13T23:35:...|            OMEGALUL|         uundzz|\n",
      "|#asmongold|2022-04-13T23:35:...|        tankboat lol|      afrohorze|\n",
      "|#asmongold|2022-04-13T23:35:...|KEKW\\r\\n:soakedph...|         relaxv|\n",
      "|#asmongold|2022-04-13T23:35:...|             LUL LUL|     flavoursum|\n",
      "|#asmongold|2022-04-13T23:35:...|              monkaS|    elmerfudge7|\n",
      "|#asmongold|2022-04-13T23:35:...|                 LOL|born___confused|\n",
      "|#asmongold|2022-04-13T23:35:...|                KEKW|      reptar_77|\n",
      "|#asmongold|2022-04-13T23:35:...|                KEKW|         bluecw|\n",
      "|#asmongold|2022-04-13T23:35:...|           from back|     freejam013|\n",
      "|#asmongold|2022-04-13T23:35:...|            asmonBoy|      bitbrain_|\n",
      "+----------+--------------------+--------------------+---------------+\n",
      "only showing top 20 rows\n",
      "\n"
     ]
    },
    {
     "name": "stderr",
     "output_type": "stream",
     "text": [
      "22/04/14 01:35:20 WARN RandomBlockReplicationPolicy: Expecting 1 replicas with only 0 peer/s.\n",
      "22/04/14 01:35:20 WARN BlockManager: Block input-0-1649892920600 replicated to only 0 peer(s) instead of 1 peers\n"
     ]
    },
    {
     "name": "stdout",
     "output_type": "stream",
     "text": [
      "+----------+--------------------+--------------------+---------------+--------------------+\n",
      "|   channel|            datetime|             message|       username|                pred|\n",
      "+----------+--------------------+--------------------+---------------+--------------------+\n",
      "|#asmongold|2022-04-13T23:35:...|                 oof|    mydixierack|predicted-name-of...|\n",
      "|#asmongold|2022-04-13T23:35:...|wtf\\r\\n:squi___!s...|    tomtheshiba|predicted-name-of...|\n",
      "|#asmongold|2022-04-13T23:35:...|                  EZ|   maxfaussett1|predicted-name-of...|\n",
      "|#asmongold|2022-04-13T23:35:...|@Thexppkiller TAR...| shinygoldstarz|predicted-name-of...|\n",
      "|#asmongold|2022-04-13T23:35:...|              monkaW|          meer_|predicted-name-of...|\n",
      "|#asmongold|2022-04-13T23:35:...|             waduhek|        deeehoc|predicted-name-of...|\n",
      "|#asmongold|2022-04-13T23:35:...|            OMEGALUL| tinyangrygnome|predicted-name-of...|\n",
      "|#asmongold|2022-04-13T23:35:...|theres also a sin...|        mezzops|predicted-name-of...|\n",
      "|#asmongold|2022-04-13T23:35:...|                  D:|  linktothejake|predicted-name-of...|\n",
      "|#asmongold|2022-04-13T23:35:...|            OMEGALUL|       miimitan|predicted-name-of...|\n",
      "|#asmongold|2022-04-13T23:35:...|            OMEGALUL|         uundzz|predicted-name-of...|\n",
      "|#asmongold|2022-04-13T23:35:...|        tankboat lol|      afrohorze|predicted-name-of...|\n",
      "|#asmongold|2022-04-13T23:35:...|KEKW\\r\\n:soakedph...|         relaxv|predicted-name-of...|\n",
      "|#asmongold|2022-04-13T23:35:...|             LUL LUL|     flavoursum|predicted-name-of...|\n",
      "|#asmongold|2022-04-13T23:35:...|              monkaS|    elmerfudge7|predicted-name-of...|\n",
      "|#asmongold|2022-04-13T23:35:...|                 LOL|born___confused|predicted-name-of...|\n",
      "|#asmongold|2022-04-13T23:35:...|                KEKW|      reptar_77|predicted-name-of...|\n",
      "|#asmongold|2022-04-13T23:35:...|                KEKW|         bluecw|predicted-name-of...|\n",
      "|#asmongold|2022-04-13T23:35:...|           from back|     freejam013|predicted-name-of...|\n",
      "|#asmongold|2022-04-13T23:35:...|            asmonBoy|      bitbrain_|predicted-name-of...|\n",
      "+----------+--------------------+--------------------+---------------+--------------------+\n",
      "only showing top 20 rows\n",
      "\n"
     ]
    },
    {
     "name": "stderr",
     "output_type": "stream",
     "text": [
      "22/04/14 01:35:21 WARN RandomBlockReplicationPolicy: Expecting 1 replicas with only 0 peer/s.\n",
      "22/04/14 01:35:21 WARN BlockManager: Block input-0-1649892921600 replicated to only 0 peer(s) instead of 1 peers\n",
      "22/04/14 01:35:22 WARN RandomBlockReplicationPolicy: Expecting 1 replicas with only 0 peer/s.\n",
      "22/04/14 01:35:22 WARN BlockManager: Block input-0-1649892922600 replicated to only 0 peer(s) instead of 1 peers\n",
      "22/04/14 01:35:23 WARN RandomBlockReplicationPolicy: Expecting 1 replicas with only 0 peer/s.\n",
      "22/04/14 01:35:23 WARN BlockManager: Block input-0-1649892923600 replicated to only 0 peer(s) instead of 1 peers\n"
     ]
    }
   ],
   "source": [
    "ssc_t = StreamingThread(ssc)\n",
    "ssc_t.start()"
   ]
  },
  {
   "cell_type": "code",
   "execution_count": 8,
   "metadata": {
    "scrolled": false
   },
   "outputs": [
    {
     "name": "stdout",
     "output_type": "stream",
     "text": [
      "----- Stopping... this may take a few seconds -----\n"
     ]
    },
    {
     "name": "stderr",
     "output_type": "stream",
     "text": [
      "22/04/14 01:35:24 WARN SocketReceiver: Error receiving data\n",
      "java.net.SocketException: Socket closed\n",
      "\tat java.base/java.net.SocketInputStream.socketRead0(Native Method)\n",
      "\tat java.base/java.net.SocketInputStream.socketRead(SocketInputStream.java:115)\n",
      "\tat java.base/java.net.SocketInputStream.read(SocketInputStream.java:168)\n",
      "\tat java.base/java.net.SocketInputStream.read(SocketInputStream.java:140)\n",
      "\tat java.base/sun.nio.cs.StreamDecoder.readBytes(StreamDecoder.java:284)\n",
      "\tat java.base/sun.nio.cs.StreamDecoder.implRead(StreamDecoder.java:326)\n",
      "\tat java.base/sun.nio.cs.StreamDecoder.read(StreamDecoder.java:178)\n",
      "\tat java.base/java.io.InputStreamReader.read(InputStreamReader.java:181)\n",
      "\tat java.base/java.io.BufferedReader.fill(BufferedReader.java:161)\n",
      "\tat java.base/java.io.BufferedReader.readLine(BufferedReader.java:326)\n",
      "\tat java.base/java.io.BufferedReader.readLine(BufferedReader.java:392)\n",
      "\tat org.apache.spark.streaming.dstream.SocketReceiver$$anon$2.getNext(SocketInputDStream.scala:121)\n",
      "\tat org.apache.spark.streaming.dstream.SocketReceiver$$anon$2.getNext(SocketInputDStream.scala:119)\n",
      "\tat org.apache.spark.util.NextIterator.hasNext(NextIterator.scala:73)\n",
      "\tat org.apache.spark.streaming.dstream.SocketReceiver.receive(SocketInputDStream.scala:91)\n",
      "\tat org.apache.spark.streaming.dstream.SocketReceiver$$anon$1.run(SocketInputDStream.scala:72)\n",
      "22/04/14 01:35:24 ERROR ReceiverTracker: Deregistered receiver for stream 0: Stopped by driver\n",
      "22/04/14 01:35:24 WARN ReceiverSupervisorImpl: Restarting receiver with delay 2000 ms: Error receiving data\n",
      "java.net.SocketException: Socket closed\n",
      "\tat java.base/java.net.SocketInputStream.socketRead0(Native Method)\n",
      "\tat java.base/java.net.SocketInputStream.socketRead(SocketInputStream.java:115)\n",
      "\tat java.base/java.net.SocketInputStream.read(SocketInputStream.java:168)\n",
      "\tat java.base/java.net.SocketInputStream.read(SocketInputStream.java:140)\n",
      "\tat java.base/sun.nio.cs.StreamDecoder.readBytes(StreamDecoder.java:284)\n",
      "\tat java.base/sun.nio.cs.StreamDecoder.implRead(StreamDecoder.java:326)\n",
      "\tat java.base/sun.nio.cs.StreamDecoder.read(StreamDecoder.java:178)\n",
      "\tat java.base/java.io.InputStreamReader.read(InputStreamReader.java:181)\n",
      "\tat java.base/java.io.BufferedReader.fill(BufferedReader.java:161)\n",
      "\tat java.base/java.io.BufferedReader.readLine(BufferedReader.java:326)\n",
      "\tat java.base/java.io.BufferedReader.readLine(BufferedReader.java:392)\n",
      "\tat org.apache.spark.streaming.dstream.SocketReceiver$$anon$2.getNext(SocketInputDStream.scala:121)\n",
      "\tat org.apache.spark.streaming.dstream.SocketReceiver$$anon$2.getNext(SocketInputDStream.scala:119)\n",
      "\tat org.apache.spark.util.NextIterator.hasNext(NextIterator.scala:73)\n",
      "\tat org.apache.spark.streaming.dstream.SocketReceiver.receive(SocketInputDStream.scala:91)\n",
      "\tat org.apache.spark.streaming.dstream.SocketReceiver$$anon$1.run(SocketInputDStream.scala:72)\n",
      "22/04/14 01:35:24 WARN ReceiverSupervisorImpl: Receiver has been stopped\n",
      "22/04/14 01:35:24 WARN RandomBlockReplicationPolicy: Expecting 1 replicas with only 0 peer/s.\n",
      "22/04/14 01:35:24 WARN BlockManager: Block input-0-1649892924600 replicated to only 0 peer(s) instead of 1 peers\n",
      "Exception in thread \"receiver-supervisor-future-0\" java.lang.InterruptedException: sleep interrupted\n",
      "\tat java.base/java.lang.Thread.sleep(Native Method)\n",
      "\tat org.apache.spark.streaming.receiver.ReceiverSupervisor.$anonfun$restartReceiver$1(ReceiverSupervisor.scala:196)\n",
      "\tat scala.runtime.java8.JFunction0$mcV$sp.apply(JFunction0$mcV$sp.java:23)\n",
      "\tat scala.concurrent.Future$.$anonfun$apply$1(Future.scala:659)\n",
      "\tat scala.util.Success.$anonfun$map$1(Try.scala:255)\n",
      "\tat scala.util.Success.map(Try.scala:213)\n",
      "\tat scala.concurrent.Future.$anonfun$map$1(Future.scala:292)\n",
      "\tat scala.concurrent.impl.Promise.liftedTree1$1(Promise.scala:33)\n",
      "\tat scala.concurrent.impl.Promise.$anonfun$transform$1(Promise.scala:33)\n",
      "\tat scala.concurrent.impl.CallbackRunnable.run(Promise.scala:64)\n",
      "\tat java.base/java.util.concurrent.ThreadPoolExecutor.runWorker(ThreadPoolExecutor.java:1128)\n",
      "\tat java.base/java.util.concurrent.ThreadPoolExecutor$Worker.run(ThreadPoolExecutor.java:628)\n",
      "\tat java.base/java.lang.Thread.run(Thread.java:829)\n",
      "                                                                                \r"
     ]
    },
    {
     "name": "stdout",
     "output_type": "stream",
     "text": [
      "========= 2022-04-14 01:35:30 =========\n",
      "+----------+--------------------+--------------------+-----------------+\n",
      "|   channel|            datetime|             message|         username|\n",
      "+----------+--------------------+--------------------+-----------------+\n",
      "|#asmongold|2022-04-13T23:35:...|             LUL LUL|   shelikesraiden|\n",
      "|#asmongold|2022-04-13T23:35:...|              SNIPER|           relaxv|\n",
      "|#asmongold|2022-04-13T23:35:...|       lol motorboat|      weirdo_dude|\n",
      "|#asmongold|2022-04-13T23:35:...|lame\\r\\n:freejam0...|            dskay|\n",
      "|#asmongold|2022-04-13T23:35:...|           THE CHIEF|          fubous7|\n",
      "|#asmongold|2022-04-13T23:35:...|                 LuL|     refinedalien|\n",
      "|#asmongold|2022-04-13T23:35:...|           KEKW Clap|         hitpoint|\n",
      "|#asmongold|2022-04-13T23:35:...|Master chief OMEG...|            meer_|\n",
      "|#asmongold|2022-04-13T23:35:...|            OMEGALUL|          808mate|\n",
      "|#asmongold|2022-04-13T23:35:...|MAster Chief\\r\\n:...|    ripleyhrgiger|\n",
      "|#asmongold|2022-04-13T23:35:...|OMEGALUL\\r\\n:tomt...|         melito87|\n",
      "|#asmongold|2022-04-13T23:35:...|            OMEGALUL|           droxcy|\n",
      "|#asmongold|2022-04-13T23:35:...|                KEKW|        htamer109|\n",
      "|#asmongold|2022-04-13T23:35:...|KEKW\\r\\n:icetoadd...|      achtenbigos|\n",
      "|#asmongold|2022-04-13T23:35:...|snipers asmonWeir...|   fatroundporker|\n",
      "|#asmongold|2022-04-13T23:35:...|       Stream sniper|           jeebuu|\n",
      "|#asmongold|2022-04-13T23:35:...|PotFriend\\r\\n:sha...|     drferaldruid|\n",
      "|#asmongold|2022-04-13T23:35:...|                KEKW|veiloflonelystars|\n",
      "|#asmongold|2022-04-13T23:35:...|              SNIPER|      castlerainn|\n",
      "|#asmongold|2022-04-13T23:35:...|@DingoPWN the eve...|         dingopwn|\n",
      "+----------+--------------------+--------------------+-----------------+\n",
      "only showing top 20 rows\n",
      "\n",
      "+----------+--------------------+--------------------+-----------------+--------------------+\n",
      "|   channel|            datetime|             message|         username|                pred|\n",
      "+----------+--------------------+--------------------+-----------------+--------------------+\n",
      "|#asmongold|2022-04-13T23:35:...|             LUL LUL|   shelikesraiden|predicted-name-of...|\n",
      "|#asmongold|2022-04-13T23:35:...|              SNIPER|           relaxv|predicted-name-of...|\n",
      "|#asmongold|2022-04-13T23:35:...|       lol motorboat|      weirdo_dude|predicted-name-of...|\n",
      "|#asmongold|2022-04-13T23:35:...|lame\\r\\n:freejam0...|            dskay|predicted-name-of...|\n",
      "|#asmongold|2022-04-13T23:35:...|           THE CHIEF|          fubous7|predicted-name-of...|\n",
      "|#asmongold|2022-04-13T23:35:...|                 LuL|     refinedalien|predicted-name-of...|\n",
      "|#asmongold|2022-04-13T23:35:...|           KEKW Clap|         hitpoint|predicted-name-of...|\n",
      "|#asmongold|2022-04-13T23:35:...|Master chief OMEG...|            meer_|predicted-name-of...|\n",
      "|#asmongold|2022-04-13T23:35:...|            OMEGALUL|          808mate|predicted-name-of...|\n",
      "|#asmongold|2022-04-13T23:35:...|MAster Chief\\r\\n:...|    ripleyhrgiger|predicted-name-of...|\n",
      "|#asmongold|2022-04-13T23:35:...|OMEGALUL\\r\\n:tomt...|         melito87|predicted-name-of...|\n",
      "|#asmongold|2022-04-13T23:35:...|            OMEGALUL|           droxcy|predicted-name-of...|\n",
      "|#asmongold|2022-04-13T23:35:...|                KEKW|        htamer109|predicted-name-of...|\n",
      "|#asmongold|2022-04-13T23:35:...|KEKW\\r\\n:icetoadd...|      achtenbigos|predicted-name-of...|\n",
      "|#asmongold|2022-04-13T23:35:...|snipers asmonWeir...|   fatroundporker|predicted-name-of...|\n",
      "|#asmongold|2022-04-13T23:35:...|       Stream sniper|           jeebuu|predicted-name-of...|\n",
      "|#asmongold|2022-04-13T23:35:...|PotFriend\\r\\n:sha...|     drferaldruid|predicted-name-of...|\n",
      "|#asmongold|2022-04-13T23:35:...|                KEKW|veiloflonelystars|predicted-name-of...|\n",
      "|#asmongold|2022-04-13T23:35:...|              SNIPER|      castlerainn|predicted-name-of...|\n",
      "|#asmongold|2022-04-13T23:35:...|@DingoPWN the eve...|         dingopwn|predicted-name-of...|\n",
      "+----------+--------------------+--------------------+-----------------+--------------------+\n",
      "only showing top 20 rows\n",
      "\n"
     ]
    }
   ],
   "source": [
    "ssc_t.stop()"
   ]
  }
 ],
 "metadata": {
  "kernelspec": {
   "display_name": "Python 3",
   "language": "python",
   "name": "python3"
  },
  "language_info": {
   "codemirror_mode": {
    "name": "ipython",
    "version": 3
   },
   "file_extension": ".py",
   "mimetype": "text/x-python",
   "name": "python",
   "nbconvert_exporter": "python",
   "pygments_lexer": "ipython3",
   "version": "3.9.7"
  },
  "toc": {
   "base_numbering": 1,
   "nav_menu": {},
   "number_sections": true,
   "sideBar": true,
   "skip_h1_title": false,
   "title_cell": "Table of Contents",
   "title_sidebar": "Contents",
   "toc_cell": false,
   "toc_position": {},
   "toc_section_display": true,
   "toc_window_display": false
  }
 },
 "nbformat": 4,
 "nbformat_minor": 2
}
