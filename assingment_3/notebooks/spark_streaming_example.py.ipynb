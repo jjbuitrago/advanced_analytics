{
 "cells": [
  {
   "cell_type": "code",
   "execution_count": 1,
   "metadata": {},
   "outputs": [],
   "source": [
    "import threading\n",
    "\n",
    "# Helper thread to avoid the Spark StreamingContext from blocking Jupyter\n",
    "        \n",
    "class StreamingThread(threading.Thread):\n",
    "    def __init__(self, ssc):\n",
    "        super().__init__()\n",
    "        self.ssc = ssc\n",
    "    def run(self):\n",
    "        self.ssc.start()\n",
    "        self.ssc.awaitTermination()\n",
    "    def stop(self):\n",
    "        print('----- Stopping... this may take a few seconds -----')\n",
    "        self.ssc.stop(stopSparkContext=False, stopGraceFully=True)"
   ]
  },
  {
   "cell_type": "code",
   "execution_count": 2,
   "metadata": {},
   "outputs": [
    {
     "name": "stderr",
     "output_type": "stream",
     "text": [
      "22/04/14 01:37:24 WARN Utils: Your hostname, pop-os resolves to a loopback address: 127.0.1.1; using 192.168.1.103 instead (on interface wlp1s0)\n",
      "22/04/14 01:37:24 WARN Utils: Set SPARK_LOCAL_IP if you need to bind to another address\n",
      "WARNING: An illegal reflective access operation has occurred\n",
      "WARNING: Illegal reflective access by org.apache.spark.unsafe.Platform (file:/home/juanjosebuitrago/.local/lib/python3.9/site-packages/pyspark/jars/spark-unsafe_2.12-3.2.0.jar) to constructor java.nio.DirectByteBuffer(long,int)\n",
      "WARNING: Please consider reporting this to the maintainers of org.apache.spark.unsafe.Platform\n",
      "WARNING: Use --illegal-access=warn to enable warnings of further illegal reflective access operations\n",
      "WARNING: All illegal access operations will be denied in a future release\n",
      "Using Spark's default log4j profile: org/apache/spark/log4j-defaults.properties\n",
      "Setting default log level to \"WARN\".\n",
      "To adjust logging level use sc.setLogLevel(newLevel). For SparkR, use setLogLevel(newLevel).\n",
      "22/04/14 01:37:25 WARN NativeCodeLoader: Unable to load native-hadoop library for your platform... using builtin-java classes where applicable\n",
      "22/04/14 01:37:27 WARN Utils: Service 'SparkUI' could not bind on port 4040. Attempting port 4041.\n",
      "22/04/14 01:37:27 WARN Utils: Service 'SparkUI' could not bind on port 4041. Attempting port 4042.\n",
      "22/04/14 01:37:27 WARN Utils: Service 'SparkUI' could not bind on port 4042. Attempting port 4043.\n",
      "22/04/14 01:37:27 WARN Utils: Service 'SparkUI' could not bind on port 4043. Attempting port 4044.\n",
      "22/04/14 01:37:27 WARN Utils: Service 'SparkUI' could not bind on port 4044. Attempting port 4045.\n"
     ]
    }
   ],
   "source": [
    "#Initializing PySpark\n",
    "from pyspark import SparkContext, SparkConf\n",
    "\n",
    "# #Spark Config\n",
    "conf = SparkConf().setAppName(\"sample_app\")\n",
    "sc = SparkContext(conf=conf)"
   ]
  },
  {
   "cell_type": "code",
   "execution_count": 3,
   "metadata": {},
   "outputs": [],
   "source": [
    "from pyspark.streaming import StreamingContext"
   ]
  },
  {
   "cell_type": "code",
   "execution_count": 4,
   "metadata": {},
   "outputs": [],
   "source": [
    "ssc = StreamingContext(sc, 10)"
   ]
  },
  {
   "cell_type": "code",
   "execution_count": 5,
   "metadata": {
    "scrolled": true
   },
   "outputs": [],
   "source": [
    "# Connect to localhost:8080 as the stream is being forwarded to a local socket\n",
    "lines = ssc.socketTextStream(\"localhost\", 8080)\n",
    "lines.pprint()"
   ]
  },
  {
   "cell_type": "code",
   "execution_count": 6,
   "metadata": {
    "scrolled": false
   },
   "outputs": [
    {
     "name": "stderr",
     "output_type": "stream",
     "text": [
      "22/04/14 01:37:42 WARN RandomBlockReplicationPolicy: Expecting 1 replicas with only 0 peer/s.\n",
      "22/04/14 01:37:42 WARN BlockManager: Block input-0-1649893062600 replicated to only 0 peer(s) instead of 1 peers\n",
      "22/04/14 01:37:43 WARN RandomBlockReplicationPolicy: Expecting 1 replicas with only 0 peer/s.\n",
      "22/04/14 01:37:43 WARN BlockManager: Block input-0-1649893063600 replicated to only 0 peer(s) instead of 1 peers\n",
      "22/04/14 01:37:45 WARN RandomBlockReplicationPolicy: Expecting 1 replicas with only 0 peer/s.\n",
      "22/04/14 01:37:45 WARN BlockManager: Block input-0-1649893065600 replicated to only 0 peer(s) instead of 1 peers\n",
      "22/04/14 01:37:46 WARN RandomBlockReplicationPolicy: Expecting 1 replicas with only 0 peer/s.\n",
      "22/04/14 01:37:46 WARN BlockManager: Block input-0-1649893066600 replicated to only 0 peer(s) instead of 1 peers\n",
      "22/04/14 01:37:47 WARN RandomBlockReplicationPolicy: Expecting 1 replicas with only 0 peer/s.\n",
      "22/04/14 01:37:47 WARN BlockManager: Block input-0-1649893067600 replicated to only 0 peer(s) instead of 1 peers\n",
      "22/04/14 01:37:49 WARN RandomBlockReplicationPolicy: Expecting 1 replicas with only 0 peer/s.\n",
      "22/04/14 01:37:49 WARN BlockManager: Block input-0-1649893069600 replicated to only 0 peer(s) instead of 1 peers\n",
      "                                                                                \r"
     ]
    },
    {
     "name": "stdout",
     "output_type": "stream",
     "text": [
      "-------------------------------------------\n",
      "Time: 2022-04-14 01:37:50\n",
      "-------------------------------------------\n",
      "{\"datetime\": \"2022-04-13T23:37:41.689674\", \"username\": \"thegruump\", \"channel\": \"#asmongold\", \"message\": \"literally evreyone has that opinion\"}\n",
      "{\"datetime\": \"2022-04-13T23:37:43.129263\", \"username\": \"herrasaatana\", \"channel\": \"#asmongold\", \"message\": \"I cant believe it took this long for a no build mode. Literally first time I've tried it now because of it\"}\n",
      "{\"datetime\": \"2022-04-13T23:37:42.754139\", \"username\": \"somre\", \"channel\": \"#asmongold\", \"message\": \"the skill ceiling on fortnite is insane\"}\n",
      "{\"datetime\": \"2022-04-13T23:37:45.450161\", \"username\": \"s_k_gh\", \"channel\": \"#asmongold\", \"message\": \"In china\"}\n",
      "{\"datetime\": \"2022-04-13T23:37:45.290268\", \"username\": \"thunderw0lf\", \"channel\": \"#asmongold\", \"message\": \"PubG is FTP now it's popular\"}\n",
      "{\"datetime\": \"2022-04-13T23:37:46.036448\", \"username\": \"elmerfudge7\", \"channel\": \"#asmongold\", \"message\": \"FeelsStrongMan pubg\"}\n",
      "{\"datetime\": \"2022-04-13T23:37:46.706928\", \"username\": \"stirfryed1\", \"channel\": \"#asmongold\", \"message\": \"Pubg is only popular in china\"}\n",
      "{\"datetime\": \"2022-04-13T23:37:49.449941\", \"username\": \"la_la_lama\", \"channel\": \"#asmongold\", \"message\": \"when only a few people streamsniping it's annoying, when the whole server is hunting you it might be fun\"}\n",
      "{\"datetime\": \"2022-04-13T23:37:48.833039\", \"username\": \"chaoticexplosive\", \"channel\": \"#asmongold\", \"message\": \"pub g mobile makes billions every year\"}\n",
      "\n"
     ]
    },
    {
     "name": "stderr",
     "output_type": "stream",
     "text": [
      "22/04/14 01:37:53 WARN RandomBlockReplicationPolicy: Expecting 1 replicas with only 0 peer/s.\n",
      "22/04/14 01:37:53 WARN BlockManager: Block input-0-1649893073600 replicated to only 0 peer(s) instead of 1 peers\n",
      "22/04/14 01:37:54 WARN RandomBlockReplicationPolicy: Expecting 1 replicas with only 0 peer/s.\n",
      "22/04/14 01:37:54 WARN BlockManager: Block input-0-1649893074600 replicated to only 0 peer(s) instead of 1 peers\n",
      "22/04/14 01:37:56 WARN RandomBlockReplicationPolicy: Expecting 1 replicas with only 0 peer/s.\n",
      "22/04/14 01:37:56 WARN BlockManager: Block input-0-1649893076600 replicated to only 0 peer(s) instead of 1 peers\n",
      "22/04/14 01:37:59 WARN RandomBlockReplicationPolicy: Expecting 1 replicas with only 0 peer/s.\n",
      "22/04/14 01:37:59 WARN BlockManager: Block input-0-1649893079600 replicated to only 0 peer(s) instead of 1 peers\n",
      "                                                                                \r"
     ]
    },
    {
     "name": "stdout",
     "output_type": "stream",
     "text": [
      "-------------------------------------------\n",
      "Time: 2022-04-14 01:38:00\n",
      "-------------------------------------------\n",
      "{\"datetime\": \"2022-04-13T23:37:53.441728\", \"username\": \"l0rentzi124\", \"channel\": \"#asmongold\", \"message\": \"PUBG pop off in Asia I think\"}\n",
      "{\"datetime\": \"2022-04-13T23:37:53.009174\", \"username\": \"crspybacon\", \"channel\": \"#asmongold\", \"message\": \"every game is a dead game to twitch viewers\"}\n",
      "{\"datetime\": \"2022-04-13T23:37:54.275385\", \"username\": \"supersoniccoomer\", \"channel\": \"#asmongold\", \"message\": \"not even that they just got better they made recources crazy like 20x\"}\n",
      "{\"datetime\": \"2022-04-13T23:37:56.249648\", \"username\": \"hitpoint\", \"channel\": \"#asmongold\", \"message\": \"monkaW\"}\n",
      "{\"datetime\": \"2022-04-13T23:37:59.542883\", \"username\": \"catman847\", \"channel\": \"#asmongold\", \"message\": \"your mad because your bad\"}\n",
      "\n"
     ]
    },
    {
     "name": "stderr",
     "output_type": "stream",
     "text": [
      "22/04/14 01:38:08 WARN RandomBlockReplicationPolicy: Expecting 1 replicas with only 0 peer/s.\n",
      "22/04/14 01:38:08 WARN BlockManager: Block input-0-1649893088600 replicated to only 0 peer(s) instead of 1 peers\n",
      "22/04/14 01:38:09 WARN RandomBlockReplicationPolicy: Expecting 1 replicas with only 0 peer/s.\n",
      "22/04/14 01:38:09 WARN BlockManager: Block input-0-1649893089600 replicated to only 0 peer(s) instead of 1 peers\n",
      "                                                                                \r"
     ]
    },
    {
     "name": "stdout",
     "output_type": "stream",
     "text": [
      "-------------------------------------------\n",
      "Time: 2022-04-14 01:38:10\n",
      "-------------------------------------------\n",
      "{\"datetime\": \"2022-04-13T23:38:07.737916\", \"username\": \"starkos7\", \"channel\": \"#asmongold\", \"message\": \"Pog i found out today that i have no gag reflex\"}\n",
      "{\"datetime\": \"2022-04-13T23:38:08.773027\", \"username\": \"realcyberturtle\", \"channel\": \"#asmongold\", \"message\": \"This man still grinding for a dub respect\"}\n",
      "\n"
     ]
    },
    {
     "name": "stderr",
     "output_type": "stream",
     "text": [
      "22/04/14 01:38:10 WARN RandomBlockReplicationPolicy: Expecting 1 replicas with only 0 peer/s.\n",
      "22/04/14 01:38:10 WARN BlockManager: Block input-0-1649893090600 replicated to only 0 peer(s) instead of 1 peers\n",
      "22/04/14 01:38:11 WARN RandomBlockReplicationPolicy: Expecting 1 replicas with only 0 peer/s.\n",
      "22/04/14 01:38:11 WARN BlockManager: Block input-0-1649893091600 replicated to only 0 peer(s) instead of 1 peers\n",
      "22/04/14 01:38:12 WARN RandomBlockReplicationPolicy: Expecting 1 replicas with only 0 peer/s.\n",
      "22/04/14 01:38:12 WARN BlockManager: Block input-0-1649893092600 replicated to only 0 peer(s) instead of 1 peers\n",
      "22/04/14 01:38:13 WARN RandomBlockReplicationPolicy: Expecting 1 replicas with only 0 peer/s.\n",
      "22/04/14 01:38:13 WARN BlockManager: Block input-0-1649893093600 replicated to only 0 peer(s) instead of 1 peers\n",
      "22/04/14 01:38:14 WARN RandomBlockReplicationPolicy: Expecting 1 replicas with only 0 peer/s.\n",
      "22/04/14 01:38:14 WARN BlockManager: Block input-0-1649893094600 replicated to only 0 peer(s) instead of 1 peers\n",
      "22/04/14 01:38:15 WARN RandomBlockReplicationPolicy: Expecting 1 replicas with only 0 peer/s.\n",
      "22/04/14 01:38:15 WARN BlockManager: Block input-0-1649893095600 replicated to only 0 peer(s) instead of 1 peers\n",
      "22/04/14 01:38:16 WARN RandomBlockReplicationPolicy: Expecting 1 replicas with only 0 peer/s.\n",
      "22/04/14 01:38:16 WARN BlockManager: Block input-0-1649893096600 replicated to only 0 peer(s) instead of 1 peers\n",
      "22/04/14 01:38:17 WARN RandomBlockReplicationPolicy: Expecting 1 replicas with only 0 peer/s.\n",
      "22/04/14 01:38:17 WARN BlockManager: Block input-0-1649893097600 replicated to only 0 peer(s) instead of 1 peers\n"
     ]
    }
   ],
   "source": [
    "ssc_t = StreamingThread(ssc)\n",
    "ssc_t.start()"
   ]
  },
  {
   "cell_type": "code",
   "execution_count": 7,
   "metadata": {},
   "outputs": [
    {
     "name": "stderr",
     "output_type": "stream",
     "text": [
      "22/04/14 01:38:18 WARN RandomBlockReplicationPolicy: Expecting 1 replicas with only 0 peer/s.\n",
      "22/04/14 01:38:18 WARN BlockManager: Block input-0-1649893098600 replicated to only 0 peer(s) instead of 1 peers\n",
      "22/04/14 01:38:18 WARN SocketReceiver: Error receiving data\n",
      "java.net.SocketException: Socket closed\n",
      "\tat java.base/java.net.SocketInputStream.socketRead0(Native Method)\n",
      "\tat java.base/java.net.SocketInputStream.socketRead(SocketInputStream.java:115)\n",
      "\tat java.base/java.net.SocketInputStream.read(SocketInputStream.java:168)\n",
      "\tat java.base/java.net.SocketInputStream.read(SocketInputStream.java:140)\n",
      "\tat java.base/sun.nio.cs.StreamDecoder.readBytes(StreamDecoder.java:284)\n",
      "\tat java.base/sun.nio.cs.StreamDecoder.implRead(StreamDecoder.java:326)\n",
      "\tat java.base/sun.nio.cs.StreamDecoder.read(StreamDecoder.java:178)\n",
      "\tat java.base/java.io.InputStreamReader.read(InputStreamReader.java:181)\n",
      "\tat java.base/java.io.BufferedReader.fill(BufferedReader.java:161)\n",
      "\tat java.base/java.io.BufferedReader.readLine(BufferedReader.java:326)\n",
      "\tat java.base/java.io.BufferedReader.readLine(BufferedReader.java:392)\n",
      "\tat org.apache.spark.streaming.dstream.SocketReceiver$$anon$2.getNext(SocketInputDStream.scala:121)\n",
      "\tat org.apache.spark.streaming.dstream.SocketReceiver$$anon$2.getNext(SocketInputDStream.scala:119)\n",
      "\tat org.apache.spark.util.NextIterator.hasNext(NextIterator.scala:73)\n",
      "\tat org.apache.spark.streaming.dstream.SocketReceiver.receive(SocketInputDStream.scala:91)\n",
      "\tat org.apache.spark.streaming.dstream.SocketReceiver$$anon$1.run(SocketInputDStream.scala:72)\n",
      "22/04/14 01:38:18 ERROR ReceiverTracker: Deregistered receiver for stream 0: Stopped by driver\n",
      "22/04/14 01:38:18 WARN ReceiverSupervisorImpl: Restarting receiver with delay 2000 ms: Error receiving data\n",
      "java.net.SocketException: Socket closed\n",
      "\tat java.base/java.net.SocketInputStream.socketRead0(Native Method)\n",
      "\tat java.base/java.net.SocketInputStream.socketRead(SocketInputStream.java:115)\n",
      "\tat java.base/java.net.SocketInputStream.read(SocketInputStream.java:168)\n",
      "\tat java.base/java.net.SocketInputStream.read(SocketInputStream.java:140)\n",
      "\tat java.base/sun.nio.cs.StreamDecoder.readBytes(StreamDecoder.java:284)\n",
      "\tat java.base/sun.nio.cs.StreamDecoder.implRead(StreamDecoder.java:326)\n",
      "\tat java.base/sun.nio.cs.StreamDecoder.read(StreamDecoder.java:178)\n",
      "\tat java.base/java.io.InputStreamReader.read(InputStreamReader.java:181)\n",
      "\tat java.base/java.io.BufferedReader.fill(BufferedReader.java:161)\n",
      "\tat java.base/java.io.BufferedReader.readLine(BufferedReader.java:326)\n",
      "\tat java.base/java.io.BufferedReader.readLine(BufferedReader.java:392)\n",
      "\tat org.apache.spark.streaming.dstream.SocketReceiver$$anon$2.getNext(SocketInputDStream.scala:121)\n",
      "\tat org.apache.spark.streaming.dstream.SocketReceiver$$anon$2.getNext(SocketInputDStream.scala:119)\n",
      "\tat org.apache.spark.util.NextIterator.hasNext(NextIterator.scala:73)\n",
      "\tat org.apache.spark.streaming.dstream.SocketReceiver.receive(SocketInputDStream.scala:91)\n",
      "\tat org.apache.spark.streaming.dstream.SocketReceiver$$anon$1.run(SocketInputDStream.scala:72)\n",
      "22/04/14 01:38:18 WARN ReceiverSupervisorImpl: Receiver has been stopped\n"
     ]
    },
    {
     "name": "stdout",
     "output_type": "stream",
     "text": [
      "----- Stopping... this may take a few seconds -----\n"
     ]
    },
    {
     "name": "stderr",
     "output_type": "stream",
     "text": [
      "Exception in thread \"receiver-supervisor-future-0\" java.lang.InterruptedException: sleep interrupted\n",
      "\tat java.base/java.lang.Thread.sleep(Native Method)\n",
      "\tat org.apache.spark.streaming.receiver.ReceiverSupervisor.$anonfun$restartReceiver$1(ReceiverSupervisor.scala:196)\n",
      "\tat scala.runtime.java8.JFunction0$mcV$sp.apply(JFunction0$mcV$sp.java:23)\n",
      "\tat scala.concurrent.Future$.$anonfun$apply$1(Future.scala:659)\n",
      "\tat scala.util.Success.$anonfun$map$1(Try.scala:255)\n",
      "\tat scala.util.Success.map(Try.scala:213)\n",
      "\tat scala.concurrent.Future.$anonfun$map$1(Future.scala:292)\n",
      "\tat scala.concurrent.impl.Promise.liftedTree1$1(Promise.scala:33)\n",
      "\tat scala.concurrent.impl.Promise.$anonfun$transform$1(Promise.scala:33)\n",
      "\tat scala.concurrent.impl.CallbackRunnable.run(Promise.scala:64)\n",
      "\tat java.base/java.util.concurrent.ThreadPoolExecutor.runWorker(ThreadPoolExecutor.java:1128)\n",
      "\tat java.base/java.util.concurrent.ThreadPoolExecutor$Worker.run(ThreadPoolExecutor.java:628)\n",
      "\tat java.base/java.lang.Thread.run(Thread.java:829)\n",
      "                                                                                \r"
     ]
    },
    {
     "name": "stdout",
     "output_type": "stream",
     "text": [
      "-------------------------------------------\n",
      "Time: 2022-04-14 01:38:20\n",
      "-------------------------------------------\n",
      "{\"datetime\": \"2022-04-13T23:38:10.387376\", \"username\": \"boozebruise\", \"channel\": \"#asmongold\", \"message\": \"im glad zoomers cant build the taj mahal anymore\"}\n",
      "{\"datetime\": \"2022-04-13T23:38:11.357367\", \"username\": \"heirlessr\", \"channel\": \"#asmongold\", \"message\": \"@crspybacon FACTS\"}\n",
      "{\"datetime\": \"2022-04-13T23:38:10.743209\", \"username\": \"kyrulu\", \"channel\": \"#asmongold\", \"message\": \"the building strats were the only thing that seemed interesting about this game to me\"}\n",
      "{\"datetime\": \"2022-04-13T23:38:12.628917\", \"username\": \"mydixierack\", \"channel\": \"#asmongold\", \"message\": \"EZ\"}\n",
      "{\"datetime\": \"2022-04-13T23:38:12.469061\", \"username\": \"fenixhaze10\", \"channel\": \"#asmongold\", \"message\": \"Pog\"}\n",
      "{\"datetime\": \"2022-04-13T23:38:12.788843\", \"username\": \"clayiru\", \"channel\": \"#asmongold\", \"message\": \"gotem EZ\"}\n",
      "{\"datetime\": \"2022-04-13T23:38:13.870595\", \"username\": \"fatroundporker\", \"channel\": \"#asmongold\", \"message\": \"remember when rocket launcher was the best weapon in fortnite\"}\n",
      "{\"datetime\": \"2022-04-13T23:38:13.710678\", \"username\": \"uundzz\", \"channel\": \"#asmongold\", \"message\": \"EZ\"}\n",
      "{\"datetime\": \"2022-04-13T23:38:15.634250\", \"username\": \"snipezz\", \"channel\": \"#asmongold\", \"message\": \"EZ Clap\"}\n",
      "{\"datetime\": \"2022-04-13T23:38:14.902866\", \"username\": \"juugels_\", \"channel\": \"#asmongold\", \"message\": \"EZ\\r\\n:linktothejake!linktothejake@linktothejake.tmi.twitch.tv PRIVMSG #asmongold :nice bro\"}\n",
      "...\n",
      "\n",
      "-------------------------------------------\n",
      "Time: 2022-04-14 01:38:30\n",
      "-------------------------------------------\n",
      "\n",
      "-------------------------------------------\n",
      "Time: 2022-04-14 01:38:40\n",
      "-------------------------------------------\n",
      "\n"
     ]
    }
   ],
   "source": [
    "ssc_t.stop()"
   ]
  }
 ],
 "metadata": {
  "kernelspec": {
   "display_name": "Python 3",
   "language": "python",
   "name": "python3"
  },
  "language_info": {
   "codemirror_mode": {
    "name": "ipython",
    "version": 3
   },
   "file_extension": ".py",
   "mimetype": "text/x-python",
   "name": "python",
   "nbconvert_exporter": "python",
   "pygments_lexer": "ipython3",
   "version": "3.9.7"
  },
  "toc": {
   "base_numbering": 1,
   "nav_menu": {},
   "number_sections": true,
   "sideBar": true,
   "skip_h1_title": false,
   "title_cell": "Table of Contents",
   "title_sidebar": "Contents",
   "toc_cell": false,
   "toc_position": {},
   "toc_section_display": true,
   "toc_window_display": false
  }
 },
 "nbformat": 4,
 "nbformat_minor": 2
}
