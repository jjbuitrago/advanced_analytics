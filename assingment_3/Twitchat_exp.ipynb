{
 "cells": [
  {
   "cell_type": "code",
   "execution_count": 45,
   "metadata": {},
   "outputs": [],
   "source": [
    "import pandas as pd \n",
    "import glob\n",
    "import os \n",
    "import sys\n",
    "from pyspark.ml.feature import Tokenizer, StopWordsRemover,StringIndexer,IDF, CountVectorizer\n",
    "from pyspark.sql.functions import col,udf, when, isnan, count, length, lower\n",
    "from pyspark.sql import SparkSession\n",
    "from pyspark.sql.types import *\n",
    "from pyspark.ml.classification import LogisticRegression, RandomForestClassifier, LinearSVC\n",
    "from pyspark.ml import Pipeline\n",
    "from pyspark.ml.evaluation import MulticlassClassificationEvaluator\n",
    "\n",
    "\n"
   ]
  },
  {
   "cell_type": "code",
   "execution_count": 46,
   "metadata": {},
   "outputs": [],
   "source": [
    "os.environ['PYSPARK_PYTHON']=sys.executable\n",
    "os.environ['PYSPARK_DRIVER_PYTHON']=sys.executable"
   ]
  },
  {
   "cell_type": "code",
   "execution_count": 47,
   "metadata": {},
   "outputs": [],
   "source": [
    "spark= SparkSession.builder.master('local[*]').appName(\"NLP\").getOrCreate()\n",
    "sc= spark.sparkContext"
   ]
  },
  {
   "cell_type": "code",
   "execution_count": 48,
   "metadata": {},
   "outputs": [],
   "source": [
    "path=r'C:\\Users\\terli\\Programs\\Python\\Projects\\Advanced Business Analytics\\Twitchchat\\Chatlogs'"
   ]
  },
  {
   "cell_type": "code",
   "execution_count": 49,
   "metadata": {},
   "outputs": [
    {
     "name": "stdout",
     "output_type": "stream",
     "text": [
      "['#xqcow' '#asmongold']\n"
     ]
    }
   ],
   "source": [
    "all_files= glob.glob(os.path.join(path,\"*.csv\"))\n",
    "df=(pd.read_csv(f) for f in all_files)\n",
    "all_chatlogs=pd.concat(df,ignore_index=True)\n",
    "\n",
    "##Keeping only Xqc and amondgold chanels\n",
    "all_chatlogs=all_chatlogs[all_chatlogs['channel'].str.contains('#xqcow|#asmongold')]\n",
    "\n",
    "\n",
    "print(all_chatlogs['channel'].unique())\n",
    "all_chatlogs.to_csv(r\"C:\\Users\\terli\\Programs\\Python\\Projects\\Advanced Business Analytics\\Twitchchat\\all_chatlogs.csv\", index=False,header=1)"
   ]
  },
  {
   "cell_type": "code",
   "execution_count": 50,
   "metadata": {},
   "outputs": [],
   "source": [
    "# chat= (spark.read.option(\"header\",True).csv(r'C:\\Users\\terli\\Programs\\Python\\Projects\\Advanced Business Analytics\\Twitchchat\\all_chatlogs.csv')).sample(withReplacement=False,fraction=0.2,seed=7).withColumn('message',lower(col('message')))\n",
    "chat= (spark.read.option(\"header\",True).csv(r'C:\\Users\\terli\\Programs\\Python\\Projects\\Advanced Business Analytics\\Twitchchat\\all_chatlogs.csv')).withColumn('message',lower(col('message')))\n",
    "chat=chat.na.drop()"
   ]
  },
  {
   "cell_type": "code",
   "execution_count": 51,
   "metadata": {},
   "outputs": [],
   "source": [
    "labelEncoder=StringIndexer(inputCol='channel',outputCol='label').fit(chat)\n",
    "labelEncoder.labels\n",
    "chat=labelEncoder.transform(chat)\n",
    "chat_vis=chat.sample(withReplacement=False,fraction=0.2,seed=7)"
   ]
  },
  {
   "cell_type": "code",
   "execution_count": 52,
   "metadata": {},
   "outputs": [],
   "source": [
    "logs,test_logs=chat.randomSplit([0.7,0.3])\n",
    "test_logs,val_logs=chat.randomSplit([0.2,0.1])"
   ]
  },
  {
   "cell_type": "code",
   "execution_count": 53,
   "metadata": {},
   "outputs": [
    {
     "data": {
      "text/plain": [
       "<bound method DataFrame.show of DataFrame[datetime: bigint, username: bigint, channel: bigint, message: bigint, label: bigint]>"
      ]
     },
     "execution_count": 53,
     "metadata": {},
     "output_type": "execute_result"
    }
   ],
   "source": [
    "logs.select([count(when(isnan(c)| col(c).isNull(),c)).alias(c) for c in logs.columns]).show"
   ]
  },
  {
   "cell_type": "code",
   "execution_count": 54,
   "metadata": {},
   "outputs": [
    {
     "name": "stdout",
     "output_type": "stream",
     "text": [
      "+--------------------+------------------+-------+--------------------+-----+\n",
      "|            datetime|          username|channel|             message|label|\n",
      "+--------------------+------------------+-------+--------------------+-----+\n",
      "|2022-04-20T11:17:...|       thepepexdvv| #xqcow|\"uhm not i litera...|  0.0|\n",
      "|2022-04-20T11:17:...|         faramarz7| #xqcow|                lulw|  0.0|\n",
      "|2022-04-20T11:17:...|           dc89427| #xqcow|gigachad i would:...|  0.0|\n",
      "|2022-04-20T11:17:...|          accxrsed| #xqcow|u got boomer reac...|  0.0|\n",
      "|2022-04-20T11:17:...|            rendoa| #xqcow|i wouldnt :):toos...|  0.0|\n",
      "|2022-04-20T11:17:...|     masaru_kato15| #xqcow|how can you not r...|  0.0|\n",
      "|2022-04-20T11:17:...|           versaw0| #xqcow|i have meningitis...|  0.0|\n",
      "|2022-04-20T11:17:...|         nulle_dud| #xqcow|peepoglad 🌹 for ...|  0.0|\n",
      "|2022-04-20T11:17:...|777777777777777464| #xqcow|  wutface 1 man spam|  0.0|\n",
      "|2022-04-20T11:17:...|           iemeigh| #xqcow|elisdancy ✨ 󠀀:sc...|  0.0|\n",
      "+--------------------+------------------+-------+--------------------+-----+\n",
      "only showing top 10 rows\n",
      "\n"
     ]
    }
   ],
   "source": [
    "logs.show(10)"
   ]
  },
  {
   "cell_type": "code",
   "execution_count": 55,
   "metadata": {},
   "outputs": [
    {
     "data": {
      "text/plain": [
       "713924"
      ]
     },
     "execution_count": 55,
     "metadata": {},
     "output_type": "execute_result"
    }
   ],
   "source": [
    "logs.count()"
   ]
  },
  {
   "cell_type": "code",
   "execution_count": 56,
   "metadata": {},
   "outputs": [
    {
     "data": {
      "text/plain": [
       "DoubleType"
      ]
     },
     "execution_count": 56,
     "metadata": {},
     "output_type": "execute_result"
    }
   ],
   "source": [
    "logs.schema['label'].dataType"
   ]
  },
  {
   "cell_type": "code",
   "execution_count": 57,
   "metadata": {},
   "outputs": [
    {
     "name": "stdout",
     "output_type": "stream",
     "text": [
      "+----------+\n",
      "|sum(label)|\n",
      "+----------+\n",
      "|  102762.0|\n",
      "+----------+\n",
      "\n"
     ]
    }
   ],
   "source": [
    "logs.agg({'label':'sum'}).show()"
   ]
  },
  {
   "cell_type": "code",
   "execution_count": 58,
   "metadata": {},
   "outputs": [
    {
     "name": "stdout",
     "output_type": "stream",
     "text": [
      "+--------------------+-------------+-------+--------------------+-----+------+\n",
      "|            datetime|     username|channel|             message|label|length|\n",
      "+--------------------+-------------+-------+--------------------+-----+------+\n",
      "|2022-04-20T11:19:...|   depressy20| #xqcow|             lulw 💦|  0.0|     6|\n",
      "|2022-04-20T11:19:...|      zynderz| #xqcow|omegalul  󠀀 󠀀 ?...|  0.0|    19|\n",
      "|2022-04-20T11:19:...|     matthulm| #xqcow|                lulw|  0.0|     4|\n",
      "|2022-04-20T11:19:...|      sez_you| #xqcow|lulw farm em x:xv...|  0.0|    76|\n",
      "|2022-04-20T11:19:...|    nulle_dud| #xqcow|lulw 💦 farm it x...|  0.0|    78|\n",
      "|2022-04-20T11:19:...| foxy_winters| #xqcow|                lulw|  0.0|     4|\n",
      "|2022-04-20T11:19:...|       xuuaa_| #xqcow|                lulw|  0.0|     4|\n",
      "|2022-04-20T11:19:...|      nakazzy| #xqcow|    what are u doing|  0.0|    16|\n",
      "|2022-04-20T11:19:...|       reyoen| #xqcow|lul nice r:dexter...|  0.0|   167|\n",
      "|2022-04-20T11:19:...|      svk_ron| #xqcow|      farm em x lulw|  0.0|    14|\n",
      "|2022-04-20T11:19:...|   george_laz| #xqcow|peepoglad yep, wh...|  0.0|   131|\n",
      "|2022-04-20T11:19:...|   iznogoodmk| #xqcow|s omegalul bad:mi...|  0.0|   232|\n",
      "|2022-04-20T11:19:...|  ultrazomega| #xqcow|???????:werfet!we...|  0.0|    68|\n",
      "|2022-04-20T11:19:...|      glowzus| #xqcow|baba ceee omegalu...|  0.0|   104|\n",
      "|2022-04-20T11:19:...|  funkstar001| #xqcow|               dance|  0.0|     5|\n",
      "|2022-04-20T11:19:...|hongkonggdoll| #xqcow|            omegalul|  0.0|     8|\n",
      "|2022-04-20T11:19:...|  gaymen69420| #xqcow|                lulw|  0.0|     4|\n",
      "|2022-04-20T11:19:...|      mrkullu| #xqcow|          missed lul|  0.0|    10|\n",
      "|2022-04-20T11:19:...|  delinquennt| #xqcow|lulw wtf am i wat...|  0.0|    22|\n",
      "|2022-04-20T11:19:...|  summersgon3| #xqcow|       ?????????????|  0.0|    13|\n",
      "+--------------------+-------------+-------+--------------------+-----+------+\n",
      "only showing top 20 rows\n",
      "\n"
     ]
    }
   ],
   "source": [
    "chat_length=chat.withColumn('length', length('message'))\n",
    "chat_length.show()"
   ]
  },
  {
   "cell_type": "code",
   "execution_count": 59,
   "metadata": {},
   "outputs": [],
   "source": [
    "\n",
    "tokenizer= Tokenizer(inputCol=\"message\",outputCol=\"words\")\n",
    "stopwords_remover= StopWordsRemover(inputCol='words',outputCol='filtered_words')\n",
    "vectorizer= CountVectorizer(inputCol='filtered_words',outputCol='rawfeatures')\n",
    "idf=IDF(inputCol='rawfeatures',outputCol=\"vectorisedFeatures\")\n",
    "\n",
    "\n",
    "\n"
   ]
  },
  {
   "cell_type": "code",
   "execution_count": 60,
   "metadata": {},
   "outputs": [],
   "source": [
    "#Visualise The different transformations \n",
    "\n",
    "# chat_tokenized=tokenizer.transform(chat_vis)\n",
    "# chat_tokenized[['message','words',]].show(5,truncate=100,vertical=True)\n",
    "# chat_stopwords=stopwords_remover.transform(chat_tokenized)\n",
    "# chat_stopwords[['message','words','filtered_words']].show(5,truncate=100,vertical=True)\n",
    "\n",
    "# model=vectorizer.fit(chat_stopwords)\n",
    "# chat_vector=vectorizer.fit(chat_stopwords).transform(chat_stopwords)\n",
    "# chat_vector[['filtered_words','rawfeatures']].show(5, truncate=100,vertical=True)\n",
    "# chat_idf=idf.fit(chat_vector).transform(chat_vector)\n",
    "# chat_idf[['filtered_words','vectorisedFeatures']].show(5, truncate=100,vertical=True)\n",
    "\n",
    "\n"
   ]
  },
  {
   "cell_type": "code",
   "execution_count": null,
   "metadata": {},
   "outputs": [],
   "source": []
  },
  {
   "cell_type": "code",
   "execution_count": 61,
   "metadata": {},
   "outputs": [
    {
     "name": "stdout",
     "output_type": "stream",
     "text": [
      "+--------------------+--------------------+----------+-------+-----+\n",
      "|       rawPrediction|         probability|prediction|channel|label|\n",
      "+--------------------+--------------------+----------+-------+-----+\n",
      "|[9.78685079321644...|[0.99994381759774...|       0.0| #xqcow|  0.0|\n",
      "|[2.74411663590631...|[0.93958021827579...|       0.0| #xqcow|  0.0|\n",
      "|[12.2804073398411...|[0.99999535821692...|       0.0| #xqcow|  0.0|\n",
      "|[12.1389301130886...|[0.99999465278910...|       0.0| #xqcow|  0.0|\n",
      "|[12.7328471630578...|[0.99999704747586...|       0.0| #xqcow|  0.0|\n",
      "|[10.8843224052302...|[0.99998125045654...|       0.0| #xqcow|  0.0|\n",
      "|[3.51771098321722...|[0.97118752111062...|       0.0| #xqcow|  0.0|\n",
      "|[8.83471243492502...|[0.99985443065906...|       0.0| #xqcow|  0.0|\n",
      "|[30.6140542694567...|[0.99999999999994...|       0.0| #xqcow|  0.0|\n",
      "|[4.45364532387266...|[0.98849776848577...|       0.0| #xqcow|  0.0|\n",
      "+--------------------+--------------------+----------+-------+-----+\n",
      "only showing top 10 rows\n",
      "\n"
     ]
    }
   ],
   "source": [
    "logistic=LogisticRegression(featuresCol='vectorisedFeatures',labelCol='label')\n",
    "lr=Pipeline(stages=[tokenizer,stopwords_remover,vectorizer,idf,logistic])\n",
    "lr_model=lr.fit(logs)\n",
    "predictions_lr=lr_model.transform(test_logs)\n",
    "predictions_lr.select('rawPrediction','probability','prediction','channel','label').show(10)\n"
   ]
  },
  {
   "cell_type": "code",
   "execution_count": 62,
   "metadata": {},
   "outputs": [],
   "source": [
    "evaluator_accuracy=MulticlassClassificationEvaluator(labelCol='label',predictionCol='prediction',metricName='accuracy')\n",
    "evaluator_precision=MulticlassClassificationEvaluator(labelCol='label',predictionCol='prediction',metricName='precisionByLabel')\n",
    "evaluator_recall=MulticlassClassificationEvaluator(labelCol='label',predictionCol='prediction',metricName='recallByLabel')"
   ]
  },
  {
   "cell_type": "code",
   "execution_count": 63,
   "metadata": {},
   "outputs": [],
   "source": [
    "accuracy_lr=evaluator_accuracy.evaluate(predictions_lr)\n",
    "precision_lr=evaluator_precision.evaluate(predictions_lr)\n",
    "recall_lr=evaluator_recall.evaluate(predictions_lr)"
   ]
  },
  {
   "cell_type": "code",
   "execution_count": 64,
   "metadata": {},
   "outputs": [],
   "source": [
    "random=RandomForestClassifier(featuresCol='vectorisedFeatures',labelCol='label',numTrees=10)\n",
    "rdf=Pipeline(stages=[tokenizer,stopwords_remover,vectorizer,idf,random])\n",
    "rdf_model=rdf.fit(logs)\n",
    "predictions_rdf=rdf_model.transform(test_logs)\n",
    "\n"
   ]
  },
  {
   "cell_type": "code",
   "execution_count": 65,
   "metadata": {},
   "outputs": [],
   "source": [
    "LSVM=LinearSVC(featuresCol='vectorisedFeatures',labelCol='label',predictionCol='prediction',maxIter=50,regParam=0.0)\n",
    "lsvc=Pipeline(stages=[tokenizer,stopwords_remover,vectorizer,idf,LSVM])\n",
    "svm_model= lsvc.fit(logs)\n",
    "predictions_svm=(svm_model.transform(test_logs))\n"
   ]
  },
  {
   "cell_type": "code",
   "execution_count": 66,
   "metadata": {},
   "outputs": [],
   "source": [
    "evaluator_accuracy=MulticlassClassificationEvaluator(labelCol='label',predictionCol='prediction',metricName='accuracy')\n",
    "accuracy_lr=evaluator_accuracy.evaluate(predictions_lr)\n",
    "accuracy_rdf=evaluator_accuracy.evaluate(predictions_rdf)\n",
    "accuracy_svm=evaluator_accuracy.evaluate(predictions_svm)\n",
    "\n",
    "\n",
    "evaluator_precision=MulticlassClassificationEvaluator(labelCol='label',predictionCol='prediction',metricName='precisionByLabel')\n",
    "precision_lr=evaluator_precision.evaluate(predictions_lr)\n",
    "precision_rdf=evaluator_precision.evaluate(predictions_rdf)\n",
    "precision_svm=evaluator_precision.evaluate(predictions_svm)\n",
    "\n",
    "\n",
    "evaluator_recall=MulticlassClassificationEvaluator(labelCol='label',predictionCol='prediction',metricName='recallByLabel')\n",
    "recall_lr=evaluator_recall.evaluate(predictions_lr)\n",
    "recall_rdf=evaluator_recall.evaluate(predictions_rdf)\n",
    "recall_svm=evaluator_recall.evaluate(predictions_svm)\n",
    "\n",
    "\n",
    "evaluator_f1=MulticlassClassificationEvaluator(labelCol='label',predictionCol='prediction',metricName='f1')\n",
    "f1_lr=evaluator_f1.evaluate(predictions_lr)\n",
    "f1_rdf=evaluator_f1.evaluate(predictions_rdf)\n",
    "f1_svm=evaluator_f1.evaluate(predictions_svm)\n"
   ]
  },
  {
   "cell_type": "code",
   "execution_count": null,
   "metadata": {},
   "outputs": [],
   "source": []
  },
  {
   "cell_type": "code",
   "execution_count": 67,
   "metadata": {},
   "outputs": [
    {
     "name": "stdout",
     "output_type": "stream",
     "text": [
      "Logistic regression model\n",
      "Accuracy: 0.9231001157484009\n",
      "Precsion: 0.9272392782456294\n",
      "Recall: 0.9877044464252898\n",
      "f1: 0.9150388295087861\n"
     ]
    }
   ],
   "source": [
    "print('Logistic regression model')\n",
    "print('Accuracy:',accuracy_lr)\n",
    "print('Precsion:',precision_lr)\n",
    "print('Recall:',recall_lr)\n",
    "print('f1:',f1_lr)\n"
   ]
  },
  {
   "cell_type": "code",
   "execution_count": 68,
   "metadata": {},
   "outputs": [
    {
     "name": "stdout",
     "output_type": "stream",
     "text": [
      "Random forest model\n",
      "Accuracy: 0.8563366734174311\n",
      "Precsion: 0.8563366734174311\n",
      "Recall: 1.0\n",
      "f1: 0.7900641179378708\n"
     ]
    }
   ],
   "source": [
    "print('Random forest model')\n",
    "print('Accuracy:',accuracy_rdf)\n",
    "print('Precsion:',precision_rdf)\n",
    "print('Recall:',recall_rdf)\n",
    "print('f1:',f1_rdf)\n"
   ]
  },
  {
   "cell_type": "code",
   "execution_count": 69,
   "metadata": {},
   "outputs": [
    {
     "name": "stdout",
     "output_type": "stream",
     "text": [
      "SVM model\n",
      "Accuracy: 0.9205204118701676\n",
      "Precsion: 0.9213159788082935\n",
      "Recall: 0.9918985715586104\n",
      "f1: 0.9102280489788097\n"
     ]
    }
   ],
   "source": [
    "print('SVM model')\n",
    "print('Accuracy:',accuracy_svm)\n",
    "print('Precsion:',precision_svm)\n",
    "print('Recall:',recall_svm)\n",
    "print('f1:',f1_svm)"
   ]
  },
  {
   "cell_type": "code",
   "execution_count": 70,
   "metadata": {},
   "outputs": [],
   "source": [
    "predictions_lr_val=lr_model.transform(val_logs)\n",
    "f1_lr_val=evaluator_f1.evaluate(predictions_lr_val)\n",
    "# accuracy_lr_val=evaluator_accuracy.evaluate(predictions_lr_val)\n",
    "# recall_lr_val=evaluator_recall.evaluate(predictions_lr_val)\n",
    "# precision_lr_val=evaluator_precision.evaluate(predictions_lr_val)"
   ]
  },
  {
   "cell_type": "code",
   "execution_count": 71,
   "metadata": {},
   "outputs": [
    {
     "name": "stdout",
     "output_type": "stream",
     "text": [
      "Lr model_val\n",
      "f1: 0.9149483879114753\n"
     ]
    }
   ],
   "source": [
    "print('Lr model_val')\n",
    "print('f1:',f1_lr_val)"
   ]
  }
 ],
 "metadata": {
  "interpreter": {
   "hash": "50230a86ee2d4854570caf8d2d7b715dbecd7b929547bfcd767c62f625901299"
  },
  "kernelspec": {
   "display_name": "Python 3.10.2 ('Twitchchat': venv)",
   "language": "python",
   "name": "python3"
  },
  "language_info": {
   "codemirror_mode": {
    "name": "ipython",
    "version": 3
   },
   "file_extension": ".py",
   "mimetype": "text/x-python",
   "name": "python",
   "nbconvert_exporter": "python",
   "pygments_lexer": "ipython3",
   "version": "3.10.2"
  },
  "orig_nbformat": 4
 },
 "nbformat": 4,
 "nbformat_minor": 2
}
