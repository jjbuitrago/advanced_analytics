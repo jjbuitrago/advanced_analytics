{
 "cells": [
  {
   "cell_type": "code",
   "execution_count": 2,
   "metadata": {},
   "outputs": [],
   "source": [
    "import os\n",
    "import json\n",
    "import pandas as pd\n",
    "from datetime import date"
   ]
  },
  {
   "cell_type": "code",
   "execution_count": 4,
   "metadata": {},
   "outputs": [],
   "source": [
    "today = date.today().strftime(\"%d_%m_%Y\")\n",
    "file_name = f\"twitch_messages_{today}.csv\"\n",
    "\n",
    "try:\n",
    "    df = pd.read_csv(file_name)\n",
    "except FileNotFoundError:\n",
    "    df = pd.DataFrame()\n",
    "\n",
    "for folder in os.listdir(\"stream\"):\n",
    "    for _file in  os.listdir(f\"stream/{folder}\"):\n",
    "        if \".crc\" not in _file and \"_SUCCESS\" not in _file:\n",
    "            filepath = f\"stream/{folder}/{_file}\"\n",
    "            with open(filepath) as f:\n",
    "                content = f.readlines()\n",
    "\n",
    "            df = df.append(pd.DataFrame.from_records([json.loads(x) for x in content]))\n",
    "        os.remove(f\"stream/{folder}/{_file}\")\n",
    "    os.rmdir(f\"stream/{folder}\")\n",
    "\n",
    "df = df.replace(r'\\r+|\\n+|\\t+','', regex=True)\n",
    "df.to_csv(file_name, index=None)"
   ]
  }
 ],
 "metadata": {
  "interpreter": {
   "hash": "916dbcbb3f70747c44a77c7bcd40155683ae19c65e1c03b4aa3499c5328201f1"
  },
  "kernelspec": {
   "display_name": "Python 3.9.7 64-bit",
   "language": "python",
   "name": "python3"
  },
  "language_info": {
   "codemirror_mode": {
    "name": "ipython",
    "version": 3
   },
   "file_extension": ".py",
   "mimetype": "text/x-python",
   "name": "python",
   "nbconvert_exporter": "python",
   "pygments_lexer": "ipython3",
   "version": "3.9.7"
  },
  "orig_nbformat": 4
 },
 "nbformat": 4,
 "nbformat_minor": 2
}
