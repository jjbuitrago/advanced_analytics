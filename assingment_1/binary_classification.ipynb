{
 "cells": [
  {
   "cell_type": "code",
   "execution_count": 264,
   "metadata": {},
   "outputs": [],
   "source": [
    "import pandas as pd\n",
    "from sklearn.model_selection import train_test_split\n",
    "from sklearn.ensemble import RandomForestClassifier, AdaBoostClassifier\n",
    "from sklearn.tree import DecisionTreeClassifier\n",
    "from sklearn.metrics import confusion_matrix, RocCurveDisplay\n",
    "\n",
    "import xgboost as xgb\n",
    "\n",
    "import matplotlib.pyplot as plt\n",
    "import seaborn as sn\n",
    "from matplotlib.patches import Patch\n",
    "import numpy as np\n",
    "\n",
    "from datetime import datetime\n",
    "\n",
    "timestamp = datetime.now().strftime('%Y%m%d_%H%M%S')\n"
   ]
  },
  {
   "cell_type": "code",
   "execution_count": 231,
   "metadata": {},
   "outputs": [],
   "source": [
    "def load_data(file_path):\n",
    "    # Read the csv and dummify the categorical variables\n",
    "    df = pd.read_csv(file_path)\n",
    "    df[\"customer_gender\"] = df[\"customer_gender\"].replace(1, 0).replace(2, 1)\n",
    "    df[\"customer_education\"] = df[\"customer_education\"].fillna(0)\n",
    "    df = pd.get_dummies(df, columns=[\"customer_relationship\"], drop_first=True)\n",
    "    return df\n",
    "    "
   ]
  },
  {
   "cell_type": "markdown",
   "metadata": {},
   "source": [
    "Function to process DFs"
   ]
  },
  {
   "cell_type": "code",
   "execution_count": 242,
   "metadata": {},
   "outputs": [],
   "source": [
    "def process_df(df, cols=[]):\n",
    "    df = pd.get_dummies(df, columns=[\"customer_children\"], drop_first=True)\n",
    "    df = pd.get_dummies(df, columns=[\"customer_education\"], drop_first=True)\n",
    "\n",
    "    # Dropping irrelevant variables\n",
    "    df = df.drop([\"customer_postal_code\", \"customer_since_all\", \"customer_since_bank\", \"customer_occupation_code\",\n",
    "                  \"customer_birth_date\", \"bal_savings_account_starter\", \"bal_current_account_starter\", \"has_life_insurance_decreasing_cap\",\n",
    "                  \"has_mortgage_loan\"], axis=1)\n",
    "\n",
    "    df = df.drop(cols, axis=1)\n",
    "    return df\n"
   ]
  },
  {
   "cell_type": "markdown",
   "metadata": {},
   "source": [
    "Lets do some EDA and feature selection"
   ]
  },
  {
   "cell_type": "code",
   "execution_count": 232,
   "metadata": {},
   "outputs": [],
   "source": [
    "# Read the csv and dummify the categorical variables\n",
    "df = load_data(\"data/train_month_3_with_target.csv\")"
   ]
  },
  {
   "cell_type": "markdown",
   "metadata": {},
   "source": [
    "Figure out which variables are useful"
   ]
  },
  {
   "cell_type": "code",
   "execution_count": 245,
   "metadata": {},
   "outputs": [],
   "source": [
    "dummy_variables = [\"homebanking_active\", \"has_homebanking\", \"has_insurance_21\", \"has_insurance_23\",\n",
    "                   \"has_life_insurance_fixed_cap\", \"has_life_insurance_decreasing_cap\", \"has_fire_car_other_insurance\",\n",
    "                   \"has_personal_loan\", \"has_mortgage_loan\", \"has_current_account\", \"has_pension_saving\", \"has_savings_account\",\n",
    "                   \"has_savings_account_starter\", \"has_current_account_starter\", \"customer_self_employed\", \"customer_gender\", \"customer_relationship_single\"]\n",
    "\n",
    "num_variables = [\"bal_insurance_21\", \"bal_insurance_23\", \"cap_life_insurance_fixed_cap\", \"cap_life_insurance_decreasing_cap\", \"prem_fire_car_other_insurance\",\n",
    "                 \"bal_personal_loan\", \"bal_mortgage_loan\", \"bal_current_account\", \"bal_pension_saving\", \"bal_savings_account\", \"bal_savings_account_starter\", \"bal_current_account_starter\"]\n",
    "\n",
    "drop_columns = []"
   ]
  },
  {
   "cell_type": "code",
   "execution_count": 246,
   "metadata": {},
   "outputs": [],
   "source": [
    "y = df[[\"target\"]]\n",
    "n_cases = np.sum(y[\"target\"])\n",
    "\n",
    "df_booleans = pd.DataFrame(columns=[\"columns\", \"cases\", \"proportion\"])\n",
    "\n",
    "for ix, col in enumerate(dummy_variables):\n",
    "    positives = confusion_matrix(df[\"target\"], df[col])[1, 1]\n",
    "    df_booleans = df_booleans.append(pd.DataFrame({\"columns\": [col], \"cases\": [positives],\n",
    "                                                   \"proportion\": [positives/n_cases]}))\n",
    "    if positives/n_cases < .2:\n",
    "        drop_columns.append(col)\n"
   ]
  },
  {
   "cell_type": "code",
   "execution_count": 165,
   "metadata": {},
   "outputs": [
    {
     "data": {
      "text/plain": [
       "<matplotlib.legend.Legend at 0x7fd4bd8d5d90>"
      ]
     },
     "execution_count": 165,
     "metadata": {},
     "output_type": "execute_result"
    },
    {
     "data": {
      "image/png": "[encoded data removed]",
      "text/plain": [
       "<Figure size 432x288 with 1 Axes>"
      ]
     },
     "metadata": {
      "needs_background": "light"
     },
     "output_type": "display_data"
    }
   ],
   "source": [
    "# Boxplot of the balance in savings account\n",
    "fig, ax = plt.subplots()\n",
    "\n",
    "sn.boxplot(x=\"cap_life_insurance_decreasing_cap\", y=\"target\",\n",
    "           data=df, orient=\"h\", palette={1: \"blue\", 0: \"green\"}, ax=ax)\n",
    "\n",
    "ax.get_yaxis().set_visible(False)\n",
    "\n",
    "fig.suptitle(\"bal_mortgcap_life_insurance_decreasing_capage_loan vs. Target\")\n",
    "\n",
    "color_patches = [\n",
    "    Patch(facecolor=\"blue\", label=\"default\"),\n",
    "    Patch(facecolor=\"green\", label=\"no default\")\n",
    "]\n",
    "ax.legend(handles=color_patches)\n"
   ]
  },
  {
   "cell_type": "markdown",
   "metadata": {},
   "source": [
    "Load data from the previous months"
   ]
  },
  {
   "cell_type": "code",
   "execution_count": 166,
   "metadata": {},
   "outputs": [],
   "source": [
    "df_2 = pd.read_csv(\"data/train_month_2.csv\")\n",
    "df_1 = pd.read_csv(\"data/train_month_1.csv\")\n",
    "\n",
    "df_1[\"target\"] = df[\"target\"]\n",
    "df_2[\"target\"] = df[\"target\"]\n",
    "\n",
    "df[\"bal_diff_2\"] = df[\"bal_savings_account\"] - df_2[\"bal_savings_account\"]\n",
    "# df[\"bal_diff_1\"] = df[\"bal_savings_account\"] - df_1[\"bal_savings_account\"]\n"
   ]
  },
  {
   "cell_type": "code",
   "execution_count": 168,
   "metadata": {},
   "outputs": [
    {
     "data": {
      "text/plain": [
       "<matplotlib.legend.Legend at 0x7fd4bdff0490>"
      ]
     },
     "execution_count": 168,
     "metadata": {},
     "output_type": "execute_result"
    },
    {
     "data": {
      "image/png": "[encoded data removed]",
      "text/plain": [
       "<Figure size 432x288 with 1 Axes>"
      ]
     },
     "metadata": {
      "needs_background": "light"
     },
     "output_type": "display_data"
    }
   ],
   "source": [
    "fig, ax = plt.subplots()\n",
    "\n",
    "sn.boxplot(x=\"bal_diff_2\", y=\"target\", data=df, orient=\"h\",\n",
    "           palette={1: \"blue\", 0: \"green\"}, ax=ax)\n",
    "\n",
    "ax.get_yaxis().set_visible(False)\n",
    "\n",
    "fig.suptitle(\"balance difference vs. Target\")\n",
    "\n",
    "color_patches = [\n",
    "    Patch(facecolor=\"blue\", label=\"default\"),\n",
    "    Patch(facecolor=\"green\", label=\"no default\")\n",
    "]\n",
    "ax.legend(handles=color_patches)\n"
   ]
  },
  {
   "cell_type": "markdown",
   "metadata": {},
   "source": [
    "load, process and split the DF"
   ]
  },
  {
   "cell_type": "code",
   "execution_count": 247,
   "metadata": {},
   "outputs": [],
   "source": [
    "best_cols = []\n",
    "\n",
    "y = df[[\"target\"]]\n",
    "\n",
    "# for col in df.columns:\n",
    "#     # print(col)\n",
    "#     try:\n",
    "#         corr = np.corrcoef(df[col], df[\"target\"])[1, 0]\n",
    "#         # print(col, np.abs(corr))\n",
    "#         if np.abs(corr) > 0.08:\n",
    "#             best_cols.append(col)\n",
    "#     except:\n",
    "#         pass\n",
    "\n",
    "# # best_cols = []\n",
    "df = process_df(df, drop_columns)\n",
    "\n",
    "X = df.drop([\"target\", \"client_id\"], axis = 1)\n",
    "\n",
    "X_train, X_test, y_train, y_test = train_test_split(X, y, test_size=0.33)\n",
    "\n",
    "churn_cases = np.sum(y[\"target\"])\n",
    "n_cases = len(y)\n"
   ]
  },
  {
   "cell_type": "code",
   "execution_count": 248,
   "metadata": {},
   "outputs": [
    {
     "name": "stdout",
     "output_type": "stream",
     "text": [
      "There are 1913 churn cases in 63697. This means that 0.03003 are positive cases\n"
     ]
    }
   ],
   "source": [
    "print(f\"There are {churn_cases} churn cases in {n_cases}. This means that {round(churn_cases/n_cases,5)} are positive cases\")\n"
   ]
  },
  {
   "cell_type": "markdown",
   "metadata": {},
   "source": [
    "Youtube tutorial classifier"
   ]
  },
  {
   "cell_type": "code",
   "execution_count": 265,
   "metadata": {},
   "outputs": [
    {
     "name": "stderr",
     "output_type": "stream",
     "text": [
      "/home/juanjosebuitrago/.local/lib/python3.9/site-packages/sklearn/utils/validation.py:993: DataConversionWarning: A column-vector y was passed when a 1d array was expected. Please change the shape of y to (n_samples, ), for example using ravel().\n",
      "  y = column_or_1d(y, warn=True)\n"
     ]
    }
   ],
   "source": [
    "model = DecisionTreeClassifier(criterion=\"entropy\", max_depth=1)\n",
    "AdaBoost = AdaBoostClassifier(base_estimator=model, n_estimators=400, learning_rate=1)\n",
    "boostmodel = AdaBoost.fit(X_train, y_train)"
   ]
  },
  {
   "cell_type": "markdown",
   "metadata": {},
   "source": [
    "Train XGB classifier"
   ]
  },
  {
   "cell_type": "code",
   "execution_count": 252,
   "metadata": {},
   "outputs": [
    {
     "name": "stderr",
     "output_type": "stream",
     "text": [
      "/home/juanjosebuitrago/.local/lib/python3.9/site-packages/xgboost/sklearn.py:1224: UserWarning: The use of label encoder in XGBClassifier is deprecated and will be removed in a future release. To remove this warning, do the following: 1) Pass option use_label_encoder=False when constructing XGBClassifier object; and 2) Encode your labels (y) as integers starting with 0, i.e. 0, 1, 2, ..., [num_class - 1].\n",
      "  warnings.warn(label_encoder_deprecation_msg, UserWarning)\n",
      "/home/juanjosebuitrago/.local/lib/python3.9/site-packages/sklearn/preprocessing/_label.py:98: DataConversionWarning: A column-vector y was passed when a 1d array was expected. Please change the shape of y to (n_samples, ), for example using ravel().\n",
      "  y = column_or_1d(y, warn=True)\n",
      "/home/juanjosebuitrago/.local/lib/python3.9/site-packages/sklearn/preprocessing/_label.py:133: DataConversionWarning: A column-vector y was passed when a 1d array was expected. Please change the shape of y to (n_samples, ), for example using ravel().\n",
      "  y = column_or_1d(y, warn=True)\n"
     ]
    },
    {
     "name": "stdout",
     "output_type": "stream",
     "text": [
      "[17:05:26] WARNING: ../src/learner.cc:1115: Starting in XGBoost 1.3.0, the default evaluation metric used with the objective 'binary:logistic' was changed from 'error' to 'logloss'. Explicitly set eval_metric if you'd like to restore the old behavior.\n"
     ]
    },
    {
     "data": {
      "text/plain": [
       "XGBClassifier(base_score=0.5, booster='gbtree', colsample_bylevel=1,\n",
       "              colsample_bynode=1, colsample_bytree=1, enable_categorical=False,\n",
       "              gamma=0, gpu_id=-1, importance_type=None,\n",
       "              interaction_constraints='', learning_rate=0.300000012,\n",
       "              max_delta_step=0, max_depth=6, min_child_weight=1, missing=nan,\n",
       "              monotone_constraints='()', n_estimators=100, n_jobs=12,\n",
       "              num_parallel_tree=1, predictor='auto', random_state=42,\n",
       "              reg_alpha=0, reg_lambda=1, scale_pos_weight=1, subsample=1,\n",
       "              tree_method='exact', validate_parameters=1, verbosity=None)"
      ]
     },
     "execution_count": 252,
     "metadata": {},
     "output_type": "execute_result"
    }
   ],
   "source": [
    "xgbc = xgb.XGBClassifier(random_state=42)\n",
    "xgbc.fit(X_train, y_train)\n"
   ]
  },
  {
   "cell_type": "markdown",
   "metadata": {},
   "source": [
    "Train a Random Forest Classifier"
   ]
  },
  {
   "cell_type": "code",
   "execution_count": 254,
   "metadata": {},
   "outputs": [
    {
     "name": "stderr",
     "output_type": "stream",
     "text": [
      "/tmp/ipykernel_4331/3368703514.py:2: DataConversionWarning: A column-vector y was passed when a 1d array was expected. Please change the shape of y to (n_samples,), for example using ravel().\n",
      "  rfc.fit(X_train, y_train)\n"
     ]
    },
    {
     "data": {
      "text/plain": [
       "RandomForestClassifier(n_estimators=10, random_state=42)"
      ]
     },
     "execution_count": 254,
     "metadata": {},
     "output_type": "execute_result"
    }
   ],
   "source": [
    "rfc = RandomForestClassifier(n_estimators=10, random_state=42)\n",
    "rfc.fit(X_train, y_train)\n"
   ]
  },
  {
   "cell_type": "markdown",
   "metadata": {},
   "source": [
    "Compare ROC curves for train set"
   ]
  },
  {
   "cell_type": "code",
   "execution_count": 266,
   "metadata": {},
   "outputs": [
    {
     "data": {
      "image/png": "[encoded data removed]",
      "text/plain": [
       "<Figure size 432x288 with 1 Axes>"
      ]
     },
     "metadata": {
      "needs_background": "light"
     },
     "output_type": "display_data"
    }
   ],
   "source": [
    "ax = plt.gca()\n",
    "rfc_disp = RocCurveDisplay.from_estimator(\n",
    "    rfc, X_train, y_train, ax=ax, alpha=0.8)\n",
    "boost_disp = RocCurveDisplay.from_estimator(\n",
    "    boostmodel, X_train, y_train, ax=ax, alpha=0.8)\n",
    "xgbc_disp = RocCurveDisplay.from_estimator(\n",
    "    xgbc, X_train, y_train, ax=ax, alpha=0.8)\n",
    "plt.show()\n"
   ]
  },
  {
   "cell_type": "markdown",
   "metadata": {},
   "source": [
    "Compare ROC curves for test set"
   ]
  },
  {
   "cell_type": "code",
   "execution_count": 267,
   "metadata": {},
   "outputs": [
    {
     "data": {
      "image/png": "[encoded data removed]",
      "text/plain": [
       "<Figure size 432x288 with 1 Axes>"
      ]
     },
     "metadata": {
      "needs_background": "light"
     },
     "output_type": "display_data"
    }
   ],
   "source": [
    "ax = plt.gca()\n",
    "rfc_disp = RocCurveDisplay.from_estimator(\n",
    "    rfc, X_test, y_test, ax=ax, alpha=0.8)\n",
    "boost_disp = RocCurveDisplay.from_estimator(\n",
    "    boostmodel, X_test, y_test, ax=ax, alpha=0.8)\n",
    "xgbc_disp = RocCurveDisplay.from_estimator(\n",
    "    xgbc, X_test, y_test, ax=ax, alpha=0.8)\n",
    "plt.show()\n"
   ]
  },
  {
   "cell_type": "code",
   "execution_count": 269,
   "metadata": {},
   "outputs": [
    {
     "data": {
      "text/plain": [
       "(array([[41391,     3],\n",
       "        [ 1269,    13]]),\n",
       " array([[41381,    13],\n",
       "        [  382,   900]]),\n",
       " array([[41394,     0],\n",
       "        [ 1106,   176]]))"
      ]
     },
     "execution_count": 269,
     "metadata": {},
     "output_type": "execute_result"
    }
   ],
   "source": [
    "cm_boost = confusion_matrix(y_train, boostmodel.predict(X_train))\n",
    "cm_rfc = confusion_matrix(y_train, rfc.predict(X_train))\n",
    "cm_xgbc = confusion_matrix(y_train, xgbc.predict(X_train))\n",
    "cm_boost, cm_rfc, cm_xgbc\n"
   ]
  },
  {
   "cell_type": "markdown",
   "metadata": {},
   "source": [
    "Confussion matrices for test DFs"
   ]
  },
  {
   "cell_type": "code",
   "execution_count": 258,
   "metadata": {},
   "outputs": [
    {
     "data": {
      "text/plain": [
       "(array([[20390,     0],\n",
       "        [  631,     0]]),\n",
       " array([[20350,    40],\n",
       "        [  630,     1]]),\n",
       " array([[20385,     5],\n",
       "        [  629,     2]]))"
      ]
     },
     "execution_count": 258,
     "metadata": {},
     "output_type": "execute_result"
    }
   ],
   "source": [
    "cm_boost = confusion_matrix(y_test, boostmodel.predict(X_test))\n",
    "cm_rfc = confusion_matrix(y_test, rfc.predict(X_test))\n",
    "cm_xgbc = confusion_matrix(y_test, xgbc.predict(X_test))\n",
    "cm_boost, cm_rfc, cm_xgbc\n"
   ]
  },
  {
   "cell_type": "markdown",
   "metadata": {},
   "source": [
    "Predict a probability and export the result"
   ]
  },
  {
   "cell_type": "code",
   "execution_count": 271,
   "metadata": {},
   "outputs": [
    {
     "data": {
      "text/plain": [
       "27300.002"
      ]
     },
     "execution_count": 271,
     "metadata": {},
     "output_type": "execute_result"
    }
   ],
   "source": [
    "new_df = load_data(\"data/test_month_3.csv\")\n",
    "\n",
    "df_pred = pd.DataFrame()\n",
    "df_pred[\"ID\"] = new_df[\"client_id\"]\n",
    "\n",
    "new_df_2 = pd.read_csv(\"data/test_month_2.csv\")\n",
    "# new_df[\"bal_diff_2\"] = new_df[\"bal_savings_account\"] - \\\n",
    "#     new_df_2[\"bal_savings_account\"]\n",
    "\n",
    "new_df = process_df(new_df, drop_columns)\n",
    "\n",
    "try:\n",
    "    x_val = new_df.drop([\"client_id\"], axis=1)\n",
    "except:\n",
    "    pass\n",
    "\n",
    "predict_proba = xgbc.predict_proba(x_val)\n",
    "df_pred[\"PROB\"] = predict_proba[:, 1]\n",
    "\n",
    "df_pred.to_csv(f\"{timestamp}_attempt.csv\", index=None)\n"
   ]
  },
  {
   "cell_type": "code",
   "execution_count": 179,
   "metadata": {},
   "outputs": [],
   "source": [
    "# tyyrhgfg\n"
   ]
  }
 ],
 "metadata": {
  "interpreter": {
   "hash": "916dbcbb3f70747c44a77c7bcd40155683ae19c65e1c03b4aa3499c5328201f1"
  },
  "kernelspec": {
   "display_name": "Python 3.9.7 64-bit",
   "language": "python",
   "name": "python3"
  },
  "language_info": {
   "codemirror_mode": {
    "name": "ipython",
    "version": 3
   },
   "file_extension": ".py",
   "mimetype": "text/x-python",
   "name": "python",
   "nbconvert_exporter": "python",
   "pygments_lexer": "ipython3",
   "version": "3.9.7"
  },
  "orig_nbformat": 4
 },
 "nbformat": 4,
 "nbformat_minor": 2
}
