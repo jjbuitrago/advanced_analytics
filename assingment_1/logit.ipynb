{
 "cells": [
  {
   "cell_type": "code",
   "execution_count": 2,
   "metadata": {},
   "outputs": [],
   "source": [
    "## tyyrhgfg\n",
    "\n",
    "import torch\n",
    "import torch.nn as nn\n",
    "import torch.nn.functional as F\n",
    "import pandas as pd\n",
    "import numpy as np\n",
    "from datetime import datetime\n",
    "\n",
    "from sklearn.model_selection import train_test_split\n",
    "\n",
    "import torch.multiprocessing\n",
    "torch.multiprocessing.set_sharing_strategy('file_system')\n",
    "\n",
    "import matplotlib.pyplot as plt\n",
    "import seaborn as sns\n",
    "from matplotlib.patches import Patch\n",
    "\n",
    "from sklearn.ensemble import RandomForestClassifier \n",
    "from imblearn.under_sampling import RandomUnderSampler"
   ]
  },
  {
   "cell_type": "markdown",
   "metadata": {},
   "source": [
    "Create a class for the loader"
   ]
  },
  {
   "cell_type": "code",
   "execution_count": 58,
   "metadata": {},
   "outputs": [],
   "source": [
    "class MyDataset(torch.utils.data.Dataset):\n",
    "\n",
    "  def __init__(self,df_x, df_y):\n",
    "    self.x_train=torch.tensor(df_x,dtype=torch.float32)\n",
    "    self.y_train=torch.tensor(df_y,dtype=torch.float32)\n",
    "\n",
    "  def __len__(self):\n",
    "    return len(self.y_train)\n",
    "  \n",
    "  def __getitem__(self,idx):\n",
    "    return self.x_train[idx],self.y_train[idx] "
   ]
  },
  {
   "cell_type": "markdown",
   "metadata": {},
   "source": [
    "A function to process the DF. This will be useful to process the test set in the same way"
   ]
  },
  {
   "cell_type": "code",
   "execution_count": 4,
   "metadata": {},
   "outputs": [],
   "source": [
    "def process_df(df):\n",
    "    df = pd.get_dummies(df, columns = [\"customer_children\"], drop_first=True)\n",
    "    df = pd.get_dummies(df, columns = [\"customer_relationship\"], drop_first=True)\n",
    "    df[\"customer_gender\"] = df[\"customer_gender\"].replace(1,0).replace(2,1)\n",
    "\n",
    "    # Dropping irrelevant variables\n",
    "    df = df.drop([\"customer_postal_code\", \"customer_since_all\",\"customer_since_bank\", \"customer_occupation_code\", \"customer_education\", \"customer_birth_date\"], axis = 1)\n",
    "    return df"
   ]
  },
  {
   "cell_type": "markdown",
   "metadata": {},
   "source": [
    "Process the DF"
   ]
  },
  {
   "cell_type": "code",
   "execution_count": 5,
   "metadata": {},
   "outputs": [
    {
     "name": "stdout",
     "output_type": "stream",
     "text": [
      "There are target    1913\n",
      "dtype: int64 churn cases in 63697\n"
     ]
    }
   ],
   "source": [
    "train_df = pd.read_csv(\"data/train_month_3_with_target.csv\")\n",
    "\n",
    "# Dummifying some variables\n",
    "train_df = process_df(train_df)\n",
    "\n",
    "y=train_df\n",
    "y = y[[\"target\"]]\n",
    "X = train_df.drop([\"target\", \"client_id\"], axis = 1)\n",
    "\n",
    "print(f\"There are {np.sum(y)} churn cases in {len(y)}\")"
   ]
  },
  {
   "cell_type": "markdown",
   "metadata": {},
   "source": [
    "Some EDA using **bal_savings_account**"
   ]
  },
  {
   "cell_type": "code",
   "execution_count": 45,
   "metadata": {},
   "outputs": [
    {
     "data": {
      "text/plain": [
       "<matplotlib.legend.Legend at 0x7f13d90092b0>"
      ]
     },
     "execution_count": 45,
     "metadata": {},
     "output_type": "execute_result"
    },
    {
     "data": {
      "image/png": "[encoded data removed]",
      "text/plain": [
       "<Figure size 432x288 with 1 Axes>"
      ]
     },
     "metadata": {
      "needs_background": "light"
     },
     "output_type": "display_data"
    }
   ],
   "source": [
    "fig, ax = plt.subplots()\n",
    "\n",
    "sns.boxplot(x=\"bal_savings_account\", y=\"target\", data=train_df, orient=\"h\", palette={1:\"blue\", 0:\"green\"}, ax=ax)\n",
    "\n",
    "ax.get_yaxis().set_visible(False)\n",
    "\n",
    "fig.suptitle(\"bal_savings_account vs. Target\")\n",
    "\n",
    "color_patches = [\n",
    "    Patch(facecolor=\"blue\", label=\"default\"),\n",
    "    Patch(facecolor=\"green\", label=\"no default\")\n",
    "]\n",
    "ax.legend(handles=color_patches)"
   ]
  },
  {
   "cell_type": "markdown",
   "metadata": {},
   "source": [
    "Get the correlation between the output and all the variables"
   ]
  },
  {
   "cell_type": "code",
   "execution_count": 34,
   "metadata": {},
   "outputs": [
    {
     "name": "stdout",
     "output_type": "stream",
     "text": [
      "customer_birth_date\n"
     ]
    }
   ],
   "source": [
    "import json\n",
    "correlations = {}\n",
    "best_cols = []\n",
    "\n",
    "for col in X.columns:\n",
    "    try:\n",
    "        corr = np.corrcoef(X[col], y[\"target\"])[1,0]\n",
    "        if np.abs(corr) > 0.08:\n",
    "            correlations[col] = corr\n",
    "            best_cols.append(col)\n",
    "    except:\n",
    "        print(col)\n",
    "\n",
    "with open('json_data.json', 'w') as outfile:\n",
    "    json.dump(correlations, outfile)\n"
   ]
  },
  {
   "cell_type": "markdown",
   "metadata": {},
   "source": [
    "This is how I used to to id before"
   ]
  },
  {
   "cell_type": "markdown",
   "metadata": {},
   "source": [
    "Put it in the loaders"
   ]
  },
  {
   "cell_type": "code",
   "execution_count": 61,
   "metadata": {},
   "outputs": [],
   "source": [
    "X_train, X_val, y_train, y_val = train_test_split( X, y, test_size=0.33, random_state=42)\n",
    "\n",
    "training_set=MyDataset(X_train.values, y_train.values)\n",
    "validation_set=MyDataset(X_val.values, y_val.values)\n",
    "\n",
    "training_loader = torch.utils.data.DataLoader(training_set, batch_size=4, shuffle=True, num_workers=2)\n",
    "validation_loader = torch.utils.data.DataLoader(validation_set, batch_size=4, shuffle=False, num_workers=2)"
   ]
  },
  {
   "cell_type": "markdown",
   "metadata": {},
   "source": [
    "Define the model and the hyperparameters"
   ]
  },
  {
   "cell_type": "code",
   "execution_count": 72,
   "metadata": {},
   "outputs": [],
   "source": [
    "class Net(nn.Module):\n",
    "\n",
    "    def __init__(self, input_size):\n",
    "        super(Net, self).__init__()\n",
    "        # # Define sigmoid activation and first layer\n",
    "        self.linear = torch.nn.Linear(input_size, 1)\n",
    "        self.Function = nn.LogSigmoid()\n",
    "\n",
    "    # def forward(self, inputs):\n",
    "    #     return self.Function(inputs)\n",
    "\n",
    "    def forward(self, inputs):\n",
    "        return self.Function(self.linear(inputs))\n",
    "\n",
    "\n",
    "model = Net(X_train.shape[1])\n",
    "criterion = nn.MSELoss()\n",
    "optimizer = torch.optim.SGD(model.parameters(), lr=0.001)"
   ]
  },
  {
   "cell_type": "markdown",
   "metadata": {},
   "source": [
    "This piece of code is useful to test the training"
   ]
  },
  {
   "cell_type": "code",
   "execution_count": 39,
   "metadata": {},
   "outputs": [
    {
     "name": "stdout",
     "output_type": "stream",
     "text": [
      "0.3187493681907654\n",
      "0.22621630132198334\n"
     ]
    }
   ],
   "source": [
    "## Testing the loss\n",
    "f = 1\n",
    "for i, data in enumerate(training_loader):\n",
    "    # Every data instance is an input + label pair\n",
    "    inputs, labels = data\n",
    "    outputs = model(inputs)\n",
    "    # print(outputs.view(5), labels)\n",
    "    loss = criterion(outputs, labels)\n",
    "    print(loss.item())\n",
    "    f += 1\n",
    "    if f == 3:\n",
    "        break\n",
    "\n",
    "    \n"
   ]
  },
  {
   "cell_type": "markdown",
   "metadata": {},
   "source": [
    "This is the training and the prediction part"
   ]
  },
  {
   "cell_type": "code",
   "execution_count": 73,
   "metadata": {},
   "outputs": [
    {
     "name": "stdout",
     "output_type": "stream",
     "text": [
      "EPOCH 1:\n",
      "  batch 1000 loss: 382.70996875\n",
      "  batch 2000 loss: 0.03\n",
      "  batch 3000 loss: 0.02475\n",
      "  batch 4000 loss: 0.0295\n",
      "  batch 5000 loss: 0.035\n",
      "  batch 6000 loss: 0.02925\n",
      "  batch 7000 loss: 0.02875\n",
      "  batch 8000 loss: 0.03475\n",
      "  batch 9000 loss: 0.03025\n",
      "  batch 10000 loss: 0.03125\n",
      "LOSS train 0.03125 valid 0.0298230592161417\n",
      "model_20220404_175704_0\n",
      "EPOCH 2:\n",
      "  batch 1000 loss: 0.031\n",
      "  batch 2000 loss: 0.0285\n",
      "  batch 3000 loss: 0.02775\n",
      "  batch 4000 loss: 0.03175\n",
      "  batch 5000 loss: 0.03075\n",
      "  batch 6000 loss: 0.0305\n",
      "  batch 7000 loss: 0.02825\n",
      "  batch 8000 loss: 0.0275\n",
      "  batch 9000 loss: 0.03175\n",
      "  batch 10000 loss: 0.03425\n",
      "LOSS train 0.03425 valid 0.0298230592161417\n",
      "EPOCH 3:\n",
      "  batch 1000 loss: 0.0305\n",
      "  batch 2000 loss: 0.0315\n",
      "  batch 3000 loss: 0.02975\n",
      "  batch 4000 loss: 0.0285\n",
      "  batch 5000 loss: 0.02825\n",
      "  batch 6000 loss: 0.03475\n",
      "  batch 7000 loss: 0.03125\n",
      "  batch 8000 loss: 0.02825\n",
      "  batch 9000 loss: 0.02725\n",
      "  batch 10000 loss: 0.031\n",
      "LOSS train 0.031 valid 0.0298230592161417\n",
      "EPOCH 4:\n",
      "  batch 1000 loss: 0.034\n",
      "  batch 2000 loss: 0.02925\n",
      "  batch 3000 loss: 0.03175\n",
      "  batch 4000 loss: 0.02925\n",
      "  batch 5000 loss: 0.03275\n",
      "  batch 6000 loss: 0.029\n",
      "  batch 7000 loss: 0.02725\n",
      "  batch 8000 loss: 0.03025\n",
      "  batch 9000 loss: 0.0315\n",
      "  batch 10000 loss: 0.02775\n",
      "LOSS train 0.02775 valid 0.0298230592161417\n",
      "EPOCH 5:\n",
      "  batch 1000 loss: 0.0315\n",
      "  batch 2000 loss: 0.02875\n",
      "  batch 3000 loss: 0.033\n",
      "  batch 4000 loss: 0.03075\n",
      "  batch 5000 loss: 0.03075\n",
      "  batch 6000 loss: 0.03275\n",
      "  batch 7000 loss: 0.02325\n",
      "  batch 8000 loss: 0.03025\n",
      "  batch 9000 loss: 0.0315\n",
      "  batch 10000 loss: 0.0305\n",
      "LOSS train 0.0305 valid 0.0298230592161417\n",
      "EPOCH 6:\n",
      "  batch 1000 loss: 0.0315\n",
      "  batch 2000 loss: 0.03425\n",
      "  batch 3000 loss: 0.027\n",
      "  batch 4000 loss: 0.03225\n",
      "  batch 5000 loss: 0.0325\n",
      "  batch 6000 loss: 0.03075\n",
      "  batch 7000 loss: 0.02825\n",
      "  batch 8000 loss: 0.02625\n",
      "  batch 9000 loss: 0.03025\n",
      "  batch 10000 loss: 0.029\n",
      "LOSS train 0.029 valid 0.0298230592161417\n",
      "EPOCH 7:\n",
      "  batch 1000 loss: 0.031\n",
      "  batch 2000 loss: 0.034\n",
      "  batch 3000 loss: 0.02675\n",
      "  batch 4000 loss: 0.03325\n",
      "  batch 5000 loss: 0.03\n",
      "  batch 6000 loss: 0.032\n",
      "  batch 7000 loss: 0.0255\n",
      "  batch 8000 loss: 0.0285\n",
      "  batch 9000 loss: 0.028\n",
      "  batch 10000 loss: 0.03\n",
      "LOSS train 0.03 valid 0.0298230592161417\n",
      "EPOCH 8:\n",
      "  batch 1000 loss: 0.03075\n",
      "  batch 2000 loss: 0.031\n",
      "  batch 3000 loss: 0.03\n",
      "  batch 4000 loss: 0.02975\n",
      "  batch 5000 loss: 0.03125\n",
      "  batch 6000 loss: 0.03225\n",
      "  batch 7000 loss: 0.03\n",
      "  batch 8000 loss: 0.03025\n",
      "  batch 9000 loss: 0.0245\n",
      "  batch 10000 loss: 0.03325\n",
      "LOSS train 0.03325 valid 0.0298230592161417\n",
      "EPOCH 9:\n",
      "  batch 1000 loss: 0.03175\n",
      "  batch 2000 loss: 0.0305\n",
      "  batch 3000 loss: 0.02875\n",
      "  batch 4000 loss: 0.03125\n",
      "  batch 5000 loss: 0.02925\n",
      "  batch 6000 loss: 0.03525\n",
      "  batch 7000 loss: 0.02625\n",
      "  batch 8000 loss: 0.03025\n",
      "  batch 9000 loss: 0.02725\n",
      "  batch 10000 loss: 0.03125\n",
      "LOSS train 0.03125 valid 0.0298230592161417\n",
      "EPOCH 10:\n",
      "  batch 1000 loss: 0.03175\n",
      "  batch 2000 loss: 0.03325\n",
      "  batch 3000 loss: 0.0315\n",
      "  batch 4000 loss: 0.03075\n",
      "  batch 5000 loss: 0.03225\n",
      "  batch 6000 loss: 0.03125\n",
      "  batch 7000 loss: 0.0235\n",
      "  batch 8000 loss: 0.02775\n",
      "  batch 9000 loss: 0.032\n",
      "  batch 10000 loss: 0.0285\n",
      "LOSS train 0.0285 valid 0.0298230592161417\n"
     ]
    }
   ],
   "source": [
    "\n",
    "def train_one_epoch(epoch_index): #, tb_writer):\n",
    "    running_loss = 0.\n",
    "    last_loss = 0.\n",
    "\n",
    "    # Here, we use enumerate(training_loader) instead of\n",
    "    # iter(training_loader) so that we can track the batch\n",
    "    # index and do some intra-epoch reporting\n",
    "    for i, data in enumerate(training_loader):\n",
    "        # Every data instance is an input + label pair\n",
    "        inputs, labels = data\n",
    "\n",
    "        # Zero your gradients for every batch!\n",
    "        optimizer.zero_grad()\n",
    "\n",
    "        # Make predictions for this batch\n",
    "        outputs = model(inputs)\n",
    "\n",
    "        # Compute the loss and its gradients\n",
    "        loss = criterion(outputs, labels)\n",
    "        \n",
    "        loss.backward()\n",
    "\n",
    "        # Adjust learning weights\n",
    "        optimizer.step()\n",
    "\n",
    "        # Gather data and report\n",
    "        running_loss += loss.item()\n",
    "        if i % 1000 == 999:\n",
    "            last_loss = running_loss / 1000 # loss per batch\n",
    "            print('  batch {} loss: {}'.format(i + 1, last_loss))\n",
    "            tb_x = epoch_index * len(training_loader) + i + 1\n",
    "            # tb_writer.add_scalar('Loss/train', last_loss, tb_x)\n",
    "            running_loss = 0.\n",
    "\n",
    "    return last_loss\n",
    "\n",
    "# Initializing in a separate cell so we can easily add more epochs to the same run\n",
    "timestamp = datetime.now().strftime('%Y%m%d_%H%M%S')\n",
    "# writer = SummaryWriter('runs/fashion_trainer_{}'.format(timestamp))\n",
    "epoch_number = 0\n",
    "\n",
    "EPOCHS = 10\n",
    "\n",
    "best_vloss = 1_000_000.\n",
    "\n",
    "for epoch in range(EPOCHS):\n",
    "    print('EPOCH {}:'.format(epoch_number + 1))\n",
    "\n",
    "    # Make sure gradient tracking is on, and do a pass over the data\n",
    "    model.train(True)\n",
    "    avg_loss = train_one_epoch(epoch_number) #, writer)\n",
    "\n",
    "    # We don't need gradients on to do reporting\n",
    "    model.train(False)\n",
    "\n",
    "    running_vloss = 0.0\n",
    "    for i, vdata in enumerate(validation_loader):\n",
    "        vinputs, vlabels = vdata\n",
    "        voutputs = model(vinputs)\n",
    "        vloss = criterion(voutputs, vlabels)\n",
    "        running_vloss += vloss\n",
    "\n",
    "    avg_vloss = running_vloss / (i + 1)\n",
    "    print('LOSS train {} valid {}'.format(avg_loss, avg_vloss))\n",
    "\n",
    "    # Track best performance, and save the model's state\n",
    "    if avg_vloss < best_vloss:\n",
    "        best_vloss = avg_vloss\n",
    "        print('model_{}_{}'.format(timestamp, epoch_number))\n",
    "\n",
    "    epoch_number += 1\n",
    "\n",
    "# y.to_csv(f\"{timestamp}_train.csv\", index = None)"
   ]
  },
  {
   "cell_type": "code",
   "execution_count": 75,
   "metadata": {},
   "outputs": [
    {
     "name": "stderr",
     "output_type": "stream",
     "text": [
      "/tmp/ipykernel_19368/1868732702.py:19: SettingWithCopyWarning: \n",
      "A value is trying to be set on a copy of a slice from a DataFrame.\n",
      "Try using .loc[row_indexer,col_indexer] = value instead\n",
      "\n",
      "See the caveats in the documentation: https://pandas.pydata.org/pandas-docs/stable/user_guide/indexing.html#returning-a-view-versus-a-copy\n",
      "  y[\"PROB\"] = train_data.squeeze().data.detach().numpy()\n"
     ]
    }
   ],
   "source": [
    "test_df = pd.read_csv(\"data/test_month_3.csv\")\n",
    "\n",
    "test_df = process_df(test_df)\n",
    "\n",
    "df_pred = pd.DataFrame()\n",
    "df_pred[\"ID\"] = test_df[\"client_id\"]\n",
    "\n",
    "X_test = test_df.drop([\"client_id\"], axis = 1)\n",
    "\n",
    "# X_test = X_test[best_cols]\n",
    "\n",
    "new_data = torch.tensor(X_test.values).type(torch.FloatTensor)\n",
    "old_data = torch.tensor(X.values).type(torch.FloatTensor)\n",
    "with torch.no_grad():\n",
    "    prediction = model(new_data)\n",
    "    train_data = model(old_data)\n",
    "\n",
    "df_pred[\"PROB\"] = prediction.squeeze().data.detach().numpy()\n",
    "y[\"PROB\"] = train_data.squeeze().data.detach().numpy()\n",
    "\n",
    "df_pred.to_csv(f\"{timestamp}_attempt.csv\", index = None)\n",
    "# y.to_csv(f\"{timestamp}_target.csv\", index = None)"
   ]
  },
  {
   "cell_type": "markdown",
   "metadata": {},
   "source": [
    "# Random Forest Classifier"
   ]
  },
  {
   "cell_type": "code",
   "execution_count": 76,
   "metadata": {},
   "outputs": [
    {
     "name": "stdout",
     "output_type": "stream",
     "text": [
      "(3858, 38)\n",
      "(3858, 1) target    1286\n",
      "dtype: int64\n"
     ]
    }
   ],
   "source": [
    "samplingstrat=0.5\n",
    "rus= RandomUnderSampler(sampling_strategy=samplingstrat,random_state=0)\n",
    "X_train_under, y_train_under=rus.fit_resample(X_train,y_train)\n",
    "\n",
    "print(X_train_under.shape)\n",
    "print(y_train_under.shape,y_train_under.sum())"
   ]
  },
  {
   "cell_type": "code",
   "execution_count": 77,
   "metadata": {},
   "outputs": [
    {
     "name": "stderr",
     "output_type": "stream",
     "text": [
      "/tmp/ipykernel_19368/3226531153.py:2: DataConversionWarning: A column-vector y was passed when a 1d array was expected. Please change the shape of y to (n_samples,), for example using ravel().\n",
      "  Rdfclf.fit(X_train_under,y_train_under)\n"
     ]
    }
   ],
   "source": [
    "Rdfclf= RandomForestClassifier(n_estimators=200,random_state=20)\n",
    "Rdfclf.fit(X_train_under,y_train_under)\n",
    "\n",
    "\n",
    "y_pred_under=Rdfclf.predict(X_test)\n",
    "\n",
    "# print(confusion_matrix(y_test,y_pred_under))\n",
    "# print(accuracy_score(y_test,y_pred_under))\n",
    "# print(classification_report(y_test,y_pred_under))"
   ]
  },
  {
   "cell_type": "code",
   "execution_count": 81,
   "metadata": {},
   "outputs": [
    {
     "data": {
      "text/plain": [
       "array([1, 0, 1, ..., 0, 0, 0])"
      ]
     },
     "execution_count": 81,
     "metadata": {},
     "output_type": "execute_result"
    }
   ],
   "source": [
    "y_pred_under"
   ]
  }
 ],
 "metadata": {
  "interpreter": {
   "hash": "916dbcbb3f70747c44a77c7bcd40155683ae19c65e1c03b4aa3499c5328201f1"
  },
  "kernelspec": {
   "display_name": "Python 3.9.7 64-bit",
   "language": "python",
   "name": "python3"
  },
  "language_info": {
   "codemirror_mode": {
    "name": "ipython",
    "version": 3
   },
   "file_extension": ".py",
   "mimetype": "text/x-python",
   "name": "python",
   "nbconvert_exporter": "python",
   "pygments_lexer": "ipython3",
   "version": "3.9.7"
  },
  "orig_nbformat": 4
 },
 "nbformat": 4,
 "nbformat_minor": 2
}
