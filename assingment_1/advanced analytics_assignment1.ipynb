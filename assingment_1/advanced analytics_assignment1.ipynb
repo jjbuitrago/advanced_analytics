{
 "cells": [
  {
   "cell_type": "markdown",
   "id": "176adb60",
   "metadata": {},
   "source": [
    "# Import packages"
   ]
  },
  {
   "cell_type": "code",
   "execution_count": 1,
   "id": "6882447f",
   "metadata": {},
   "outputs": [],
   "source": [
    "import pandas as pd\n",
    "import numpy as np\n",
    "import seaborn as sns\n",
    "import matplotlib.pyplot as plt\n",
    "from sklearn.model_selection import train_test_split\n",
    "from sklearn.tree import DecisionTreeClassifier\n",
    "from sklearn.ensemble  import RandomForestClassifier, AdaBoostClassifier\n",
    "from sklearn import tree\n",
    "from sklearn.model_selection import GridSearchCV\n",
    "from sklearn.metrics import make_scorer \n",
    "from sklearn.metrics import mean_absolute_error \n",
    "from sklearn.metrics import r2_score\n",
    "from sklearn.model_selection import cross_val_score\n",
    "from sklearn.model_selection import KFold\n",
    "from sklearn.model_selection import cross_validate\n",
    "from sklearn.metrics import explained_variance_score\n",
    "from sklearn.metrics import confusion_matrix\n",
    "from matplotlib import pyplot\n",
    "from datetime import datetime, date\n",
    "from sklearn.metrics import confusion_matrix, RocCurveDisplay\n",
    "import xgboost as xgb\n",
    "from matplotlib.patches import Patch\n",
    "from datetime import datetime\n",
    "from imblearn.over_sampling import SMOTE \n",
    "from imblearn.under_sampling import RandomUnderSampler \n",
    "from sklearn import ensemble,gaussian_process,linear_model,naive_bayes,neighbors,svm,tree\n",
    "from sklearn.model_selection import cross_val_score\n",
    "from sklearn.metrics import confusion_matrix, accuracy_score, roc_curve, roc_auc_score, precision_score, recall_score, auc, classification_report, precision_recall_curve"
   ]
  },
  {
   "cell_type": "markdown",
   "id": "c362f0e9",
   "metadata": {},
   "source": [
    "# Load the dataset"
   ]
  },
  {
   "cell_type": "code",
   "execution_count": 2,
   "id": "38f1bf67",
   "metadata": {},
   "outputs": [],
   "source": [
    "train1 = pd.read_csv(\"train_month_1.csv\") # for extra features\n",
    "train2 = pd.read_csv(\"train_month_2.csv\") # for extra features \n",
    "train3 = pd.read_csv(\"train_month_3_with_target.csv\")\n",
    "test1 = pd.read_csv(\"test_month_1.csv\") # for extra features\n",
    "test2 = pd.read_csv(\"test_month_2.csv\") # for extra features\n",
    "test3 = pd.read_csv(\"test_month_3.csv\")"
   ]
  },
  {
   "cell_type": "markdown",
   "id": "285bf01c",
   "metadata": {},
   "source": [
    "# Set current time"
   ]
  },
  {
   "cell_type": "code",
   "execution_count": 3,
   "id": "b1f1029d",
   "metadata": {},
   "outputs": [],
   "source": [
    "TT='2018-01'\n",
    "TT=pd.to_datetime(TT,yearfirst=True,format='%Y-%m')"
   ]
  },
  {
   "cell_type": "markdown",
   "id": "389d1ca3",
   "metadata": {},
   "source": [
    "# Create extra features and export to csv file for EDA part in PowerBI"
   ]
  },
  {
   "cell_type": "code",
   "execution_count": 4,
   "id": "78598ad9",
   "metadata": {},
   "outputs": [],
   "source": [
    "df = train3\n",
    "df[\"customer_gender\"] = df[\"customer_gender\"].replace(1, 0).replace(2, 1)\n",
    " # balance difference last 2 months\n",
    "df[\"bal_sav_diff_2\"] = df[\"bal_savings_account\"] - train2[\"bal_savings_account\"]\n",
    "df[\"bal_cur_diff_2\"] = df[\"bal_current_account\"] - train2[\"bal_current_account\"]\n",
    " # balance difference last 1 months\n",
    "df[\"bal_sav_diff_1\"] = df[\"bal_savings_account\"] - train1[\"bal_savings_account\"]\n",
    "df[\"bal_cur_diff_1\"] = df[\"bal_current_account\"] - train1[\"bal_current_account\"]\n",
    "# Age\n",
    "df['Age']=(((TT)-(pd.to_datetime(df.customer_birth_date, yearfirst=True,format='%Y-%m')))/365.25).dt.days\n",
    "# Time since when has the customer been a client for either bank or insurance products\n",
    "df['Years_Since_all']=(((TT)-(pd.to_datetime(df.customer_since_all, yearfirst=True,format='%Y-%m')))/365.25).dt.days\n",
    "# Time since when has the customer been a client for bank products\n",
    "df['Years_Since_bank']=(((TT)-(pd.to_datetime(df.customer_since_bank, yearfirst=True,format='%Y-%m')))/365.25).dt.days\n",
    "#df.to_csv(r'C:\\Users\\huudu\\OneDrive\\Desktop\\advance analytics\\full.csv',index=False)"
   ]
  },
  {
   "cell_type": "markdown",
   "id": "d18a2e3b",
   "metadata": {},
   "source": [
    "# Preprocessing data"
   ]
  },
  {
   "cell_type": "code",
   "execution_count": 5,
   "id": "83fead31",
   "metadata": {},
   "outputs": [],
   "source": [
    "def load_data(file_path):\n",
    "    # Read the csv \n",
    "    df = pd.read_csv(file_path)\n",
    "    # Replace variables to proper dummy values\n",
    "    df[\"customer_gender\"] = df[\"customer_gender\"].replace(1, 0).replace(2, 1)\n",
    "    # additional feature: balance difference last 2 months\n",
    "    df[\"bal_sav_diff_2\"] = df[\"bal_savings_account\"] - train1[\"bal_savings_account\"]\n",
    "    df[\"bal_cur_diff_2\"] = df[\"bal_current_account\"] - train1[\"bal_current_account\"]\n",
    "    # additional feature: balance difference last 1 months\n",
    "    df[\"bal_sav_diff_1\"] = df[\"bal_savings_account\"] - train2[\"bal_savings_account\"]\n",
    "    df[\"bal_cur_diff_1\"] = df[\"bal_current_account\"] - train2[\"bal_current_account\"]\n",
    "    # Change the birth date to Age\n",
    "    df['Age']=(((TT)-(pd.to_datetime(df.customer_birth_date, yearfirst=True,format='%Y-%m')))/365.25).dt.days\n",
    "    # Change the Time to Year since when has the customer been a client for either bank or insurance products \n",
    "    df['Years_Since_all']=(((TT)-(pd.to_datetime(df.customer_since_all, yearfirst=True,format='%Y-%m')))/365.25).dt.days\n",
    "    # Change the Time to Year since when has the customer been a client for bank products\n",
    "    df['Years_Since_bank']=(((TT)-(pd.to_datetime(df.customer_since_bank, yearfirst=True,format='%Y-%m')))/365.25).dt.days\n",
    "    # Fill value for columns having few missing values\n",
    "    df['customer_occupation_code']= df[\"customer_occupation_code\"].fillna(0)\n",
    "    # Get dummies\n",
    "    df[['customer_postal_code','customer_occupation_code'   ]]=df[['customer_postal_code','customer_occupation_code' ]].astype(int).astype(str)\n",
    "    df = pd.get_dummies(df, columns=[\"customer_relationship\",\"customer_children\",'customer_postal_code','customer_occupation_code'], drop_first=True)\n",
    "    # Drop unneccessary columns and columns having too much missing values (customer_education)\n",
    "    df = df.drop([\"client_id\", \"customer_education\",\"customer_birth_date\",\"customer_since_bank\",\"customer_since_all\"], axis=1)\n",
    "    # Split train and test set and fill columns having missing values with its mode in train set (all columns are categorical)\n",
    "    col_null = df.columns[df.isna().any()].tolist()\n",
    "    X = df.drop([\"target\"],axis = 1)\n",
    "    y = df[\"target\"]\n",
    "    X_train, X_test, y_train, y_test = train_test_split(X, y, test_size=0.33)\n",
    "    for col in col_null:\n",
    "        X_train[col]=X_train[col].fillna(X_train[col].mode()[0])\n",
    "        X_test[col]=X_test[col].fillna(X_train[col].mode()[0])\n",
    "    # Dealing with imbalance dataset\n",
    "    over = SMOTE(sampling_strategy=0.3, k_neighbors=3)\n",
    "    under = RandomUnderSampler(sampling_strategy=0.5)\n",
    "    X, y = over.fit_resample(X_train, y_train)\n",
    "    X_train, y_train = under.fit_resample(X, y)\n",
    "\n",
    "    return X_train, X_test, y_train, y_test"
   ]
  },
  {
   "cell_type": "code",
   "execution_count": 6,
   "id": "85cb1a6e",
   "metadata": {
    "scrolled": true
   },
   "outputs": [],
   "source": [
    "X_train, X_test, y_train, y_test = load_data(\"train_month_3_with_target.csv\")"
   ]
  },
  {
   "cell_type": "code",
   "execution_count": null,
   "id": "2ffb4a90",
   "metadata": {},
   "outputs": [],
   "source": []
  },
  {
   "cell_type": "markdown",
   "id": "002ca804",
   "metadata": {},
   "source": [
    "# Feature Importance "
   ]
  },
  {
   "cell_type": "code",
   "execution_count": 7,
   "id": "96ba3863",
   "metadata": {},
   "outputs": [],
   "source": [
    "from sklearn import ensemble\n",
    "from boruta import BorutaPy\n",
    "\n",
    "def feature_selection(x_train, y_train,columns_order):\n",
    "    '''\n",
    "    Feature selection using Boruta\n",
    "    '''\n",
    "    rfc = ensemble.RandomForestClassifier(random_state=1, n_estimators=1000, max_depth=10)\n",
    "    boruta_selector = BorutaPy(rfc, n_estimators=1, verbose=2, random_state=1)\n",
    "    boruta_selector.fit(np.array(x_train), np.array(y_train))  \n",
    "\n",
    "    ### print results\n",
    "    df= pd.DataFrame(columns_order,columns=['Features'])\n",
    "    df['Ranking']=boruta_selector.ranking_\n",
    "\n",
    "    print('Ranking: ',df.sort_values(by=['Ranking']))          \n",
    "    print('No. of significant features: ', boruta_selector.n_features_) \n",
    "\n",
    "    # We pass the selector such that we can deal with transformations later\n",
    "    return boruta_selector, df\n"
   ]
  },
  {
   "cell_type": "code",
   "execution_count": 8,
   "id": "de97f878",
   "metadata": {},
   "outputs": [],
   "source": [
    "columns_order=np.array(X_train.columns.tolist())"
   ]
  },
  {
   "cell_type": "code",
   "execution_count": 9,
   "id": "3c759118",
   "metadata": {},
   "outputs": [
    {
     "name": "stdout",
     "output_type": "stream",
     "text": [
      "Iteration: \t1 / 100\n",
      "Confirmed: \t0\n",
      "Tentative: \t1087\n",
      "Rejected: \t0\n",
      "Iteration: \t2 / 100\n",
      "Confirmed: \t0\n",
      "Tentative: \t1087\n",
      "Rejected: \t0\n",
      "Iteration: \t3 / 100\n",
      "Confirmed: \t0\n",
      "Tentative: \t1087\n",
      "Rejected: \t0\n",
      "Iteration: \t4 / 100\n",
      "Confirmed: \t0\n",
      "Tentative: \t1087\n",
      "Rejected: \t0\n",
      "Iteration: \t5 / 100\n",
      "Confirmed: \t0\n",
      "Tentative: \t1087\n",
      "Rejected: \t0\n",
      "Iteration: \t6 / 100\n",
      "Confirmed: \t0\n",
      "Tentative: \t1087\n",
      "Rejected: \t0\n",
      "Iteration: \t7 / 100\n",
      "Confirmed: \t0\n",
      "Tentative: \t1087\n",
      "Rejected: \t0\n",
      "Iteration: \t8 / 100\n",
      "Confirmed: \t0\n",
      "Tentative: \t59\n",
      "Rejected: \t1028\n",
      "Iteration: \t9 / 100\n",
      "Confirmed: \t0\n",
      "Tentative: \t59\n",
      "Rejected: \t1028\n",
      "Iteration: \t10 / 100\n",
      "Confirmed: \t0\n",
      "Tentative: \t59\n",
      "Rejected: \t1028\n",
      "Iteration: \t11 / 100\n",
      "Confirmed: \t0\n",
      "Tentative: \t59\n",
      "Rejected: \t1028\n",
      "Iteration: \t12 / 100\n",
      "Confirmed: \t0\n",
      "Tentative: \t36\n",
      "Rejected: \t1051\n",
      "Iteration: \t13 / 100\n",
      "Confirmed: \t0\n",
      "Tentative: \t36\n",
      "Rejected: \t1051\n",
      "Iteration: \t14 / 100\n",
      "Confirmed: \t1\n",
      "Tentative: \t35\n",
      "Rejected: \t1051\n",
      "Iteration: \t15 / 100\n",
      "Confirmed: \t1\n",
      "Tentative: \t35\n",
      "Rejected: \t1051\n",
      "Iteration: \t16 / 100\n",
      "Confirmed: \t1\n",
      "Tentative: \t33\n",
      "Rejected: \t1053\n",
      "Iteration: \t17 / 100\n",
      "Confirmed: \t1\n",
      "Tentative: \t33\n",
      "Rejected: \t1053\n",
      "Iteration: \t18 / 100\n",
      "Confirmed: \t1\n",
      "Tentative: \t33\n",
      "Rejected: \t1053\n",
      "Iteration: \t19 / 100\n",
      "Confirmed: \t4\n",
      "Tentative: \t30\n",
      "Rejected: \t1053\n",
      "Iteration: \t20 / 100\n",
      "Confirmed: \t4\n",
      "Tentative: \t30\n",
      "Rejected: \t1053\n",
      "Iteration: \t21 / 100\n",
      "Confirmed: \t4\n",
      "Tentative: \t30\n",
      "Rejected: \t1053\n",
      "Iteration: \t22 / 100\n",
      "Confirmed: \t10\n",
      "Tentative: \t22\n",
      "Rejected: \t1055\n",
      "Iteration: \t23 / 100\n",
      "Confirmed: \t10\n",
      "Tentative: \t22\n",
      "Rejected: \t1055\n",
      "Iteration: \t24 / 100\n",
      "Confirmed: \t10\n",
      "Tentative: \t22\n",
      "Rejected: \t1055\n",
      "Iteration: \t25 / 100\n",
      "Confirmed: \t10\n",
      "Tentative: \t22\n",
      "Rejected: \t1055\n",
      "Iteration: \t26 / 100\n",
      "Confirmed: \t12\n",
      "Tentative: \t19\n",
      "Rejected: \t1056\n",
      "Iteration: \t27 / 100\n",
      "Confirmed: \t12\n",
      "Tentative: \t19\n",
      "Rejected: \t1056\n",
      "Iteration: \t28 / 100\n",
      "Confirmed: \t12\n",
      "Tentative: \t19\n",
      "Rejected: \t1056\n",
      "Iteration: \t29 / 100\n",
      "Confirmed: \t15\n",
      "Tentative: \t16\n",
      "Rejected: \t1056\n",
      "Iteration: \t30 / 100\n",
      "Confirmed: \t15\n",
      "Tentative: \t16\n",
      "Rejected: \t1056\n",
      "Iteration: \t31 / 100\n",
      "Confirmed: \t15\n",
      "Tentative: \t16\n",
      "Rejected: \t1056\n",
      "Iteration: \t32 / 100\n",
      "Confirmed: \t16\n",
      "Tentative: \t15\n",
      "Rejected: \t1056\n",
      "Iteration: \t33 / 100\n",
      "Confirmed: \t16\n",
      "Tentative: \t15\n",
      "Rejected: \t1056\n",
      "Iteration: \t34 / 100\n",
      "Confirmed: \t16\n",
      "Tentative: \t15\n",
      "Rejected: \t1056\n",
      "Iteration: \t35 / 100\n",
      "Confirmed: \t16\n",
      "Tentative: \t15\n",
      "Rejected: \t1056\n",
      "Iteration: \t36 / 100\n",
      "Confirmed: \t16\n",
      "Tentative: \t15\n",
      "Rejected: \t1056\n",
      "Iteration: \t37 / 100\n",
      "Confirmed: \t16\n",
      "Tentative: \t14\n",
      "Rejected: \t1057\n",
      "Iteration: \t38 / 100\n",
      "Confirmed: \t16\n",
      "Tentative: \t14\n",
      "Rejected: \t1057\n",
      "Iteration: \t39 / 100\n",
      "Confirmed: \t16\n",
      "Tentative: \t14\n",
      "Rejected: \t1057\n",
      "Iteration: \t40 / 100\n",
      "Confirmed: \t17\n",
      "Tentative: \t13\n",
      "Rejected: \t1057\n",
      "Iteration: \t41 / 100\n",
      "Confirmed: \t17\n",
      "Tentative: \t13\n",
      "Rejected: \t1057\n",
      "Iteration: \t42 / 100\n",
      "Confirmed: \t17\n",
      "Tentative: \t13\n",
      "Rejected: \t1057\n",
      "Iteration: \t43 / 100\n",
      "Confirmed: \t17\n",
      "Tentative: \t12\n",
      "Rejected: \t1058\n",
      "Iteration: \t44 / 100\n",
      "Confirmed: \t17\n",
      "Tentative: \t12\n",
      "Rejected: \t1058\n",
      "Iteration: \t45 / 100\n",
      "Confirmed: \t17\n",
      "Tentative: \t12\n",
      "Rejected: \t1058\n",
      "Iteration: \t46 / 100\n",
      "Confirmed: \t17\n",
      "Tentative: \t12\n",
      "Rejected: \t1058\n",
      "Iteration: \t47 / 100\n",
      "Confirmed: \t17\n",
      "Tentative: \t12\n",
      "Rejected: \t1058\n",
      "Iteration: \t48 / 100\n",
      "Confirmed: \t17\n",
      "Tentative: \t12\n",
      "Rejected: \t1058\n",
      "Iteration: \t49 / 100\n",
      "Confirmed: \t17\n",
      "Tentative: \t12\n",
      "Rejected: \t1058\n",
      "Iteration: \t50 / 100\n",
      "Confirmed: \t17\n",
      "Tentative: \t12\n",
      "Rejected: \t1058\n",
      "Iteration: \t51 / 100\n",
      "Confirmed: \t17\n",
      "Tentative: \t12\n",
      "Rejected: \t1058\n",
      "Iteration: \t52 / 100\n",
      "Confirmed: \t17\n",
      "Tentative: \t12\n",
      "Rejected: \t1058\n",
      "Iteration: \t53 / 100\n",
      "Confirmed: \t17\n",
      "Tentative: \t12\n",
      "Rejected: \t1058\n",
      "Iteration: \t54 / 100\n",
      "Confirmed: \t17\n",
      "Tentative: \t12\n",
      "Rejected: \t1058\n",
      "Iteration: \t55 / 100\n",
      "Confirmed: \t17\n",
      "Tentative: \t12\n",
      "Rejected: \t1058\n",
      "Iteration: \t56 / 100\n",
      "Confirmed: \t17\n",
      "Tentative: \t12\n",
      "Rejected: \t1058\n",
      "Iteration: \t57 / 100\n",
      "Confirmed: \t17\n",
      "Tentative: \t12\n",
      "Rejected: \t1058\n",
      "Iteration: \t58 / 100\n",
      "Confirmed: \t17\n",
      "Tentative: \t12\n",
      "Rejected: \t1058\n",
      "Iteration: \t59 / 100\n",
      "Confirmed: \t17\n",
      "Tentative: \t12\n",
      "Rejected: \t1058\n",
      "Iteration: \t60 / 100\n",
      "Confirmed: \t17\n",
      "Tentative: \t12\n",
      "Rejected: \t1058\n",
      "Iteration: \t61 / 100\n",
      "Confirmed: \t17\n",
      "Tentative: \t12\n",
      "Rejected: \t1058\n",
      "Iteration: \t62 / 100\n",
      "Confirmed: \t17\n",
      "Tentative: \t12\n",
      "Rejected: \t1058\n",
      "Iteration: \t63 / 100\n",
      "Confirmed: \t17\n",
      "Tentative: \t12\n",
      "Rejected: \t1058\n",
      "Iteration: \t64 / 100\n",
      "Confirmed: \t17\n",
      "Tentative: \t12\n",
      "Rejected: \t1058\n",
      "Iteration: \t65 / 100\n",
      "Confirmed: \t17\n",
      "Tentative: \t12\n",
      "Rejected: \t1058\n",
      "Iteration: \t66 / 100\n",
      "Confirmed: \t17\n",
      "Tentative: \t12\n",
      "Rejected: \t1058\n",
      "Iteration: \t67 / 100\n",
      "Confirmed: \t17\n",
      "Tentative: \t12\n",
      "Rejected: \t1058\n",
      "Iteration: \t68 / 100\n",
      "Confirmed: \t17\n",
      "Tentative: \t12\n",
      "Rejected: \t1058\n",
      "Iteration: \t69 / 100\n",
      "Confirmed: \t17\n",
      "Tentative: \t12\n",
      "Rejected: \t1058\n",
      "Iteration: \t70 / 100\n",
      "Confirmed: \t17\n",
      "Tentative: \t12\n",
      "Rejected: \t1058\n",
      "Iteration: \t71 / 100\n",
      "Confirmed: \t17\n",
      "Tentative: \t12\n",
      "Rejected: \t1058\n",
      "Iteration: \t72 / 100\n",
      "Confirmed: \t17\n",
      "Tentative: \t12\n",
      "Rejected: \t1058\n",
      "Iteration: \t73 / 100\n",
      "Confirmed: \t17\n",
      "Tentative: \t12\n",
      "Rejected: \t1058\n",
      "Iteration: \t74 / 100\n",
      "Confirmed: \t17\n",
      "Tentative: \t12\n",
      "Rejected: \t1058\n",
      "Iteration: \t75 / 100\n",
      "Confirmed: \t18\n",
      "Tentative: \t10\n",
      "Rejected: \t1059\n",
      "Iteration: \t76 / 100\n",
      "Confirmed: \t18\n",
      "Tentative: \t10\n",
      "Rejected: \t1059\n",
      "Iteration: \t77 / 100\n",
      "Confirmed: \t18\n",
      "Tentative: \t10\n",
      "Rejected: \t1059\n",
      "Iteration: \t78 / 100\n",
      "Confirmed: \t18\n",
      "Tentative: \t10\n",
      "Rejected: \t1059\n",
      "Iteration: \t79 / 100\n",
      "Confirmed: \t18\n",
      "Tentative: \t10\n",
      "Rejected: \t1059\n",
      "Iteration: \t80 / 100\n",
      "Confirmed: \t18\n",
      "Tentative: \t10\n",
      "Rejected: \t1059\n",
      "Iteration: \t81 / 100\n",
      "Confirmed: \t18\n",
      "Tentative: \t10\n",
      "Rejected: \t1059\n",
      "Iteration: \t82 / 100\n",
      "Confirmed: \t18\n",
      "Tentative: \t10\n",
      "Rejected: \t1059\n",
      "Iteration: \t83 / 100\n",
      "Confirmed: \t18\n",
      "Tentative: \t10\n",
      "Rejected: \t1059\n",
      "Iteration: \t84 / 100\n",
      "Confirmed: \t18\n",
      "Tentative: \t10\n",
      "Rejected: \t1059\n",
      "Iteration: \t85 / 100\n",
      "Confirmed: \t18\n",
      "Tentative: \t10\n",
      "Rejected: \t1059\n",
      "Iteration: \t86 / 100\n",
      "Confirmed: \t18\n",
      "Tentative: \t10\n",
      "Rejected: \t1059\n",
      "Iteration: \t87 / 100\n",
      "Confirmed: \t18\n",
      "Tentative: \t10\n",
      "Rejected: \t1059\n",
      "Iteration: \t88 / 100\n",
      "Confirmed: \t18\n",
      "Tentative: \t10\n",
      "Rejected: \t1059\n",
      "Iteration: \t89 / 100\n",
      "Confirmed: \t18\n",
      "Tentative: \t10\n",
      "Rejected: \t1059\n",
      "Iteration: \t90 / 100\n",
      "Confirmed: \t19\n",
      "Tentative: \t9\n",
      "Rejected: \t1059\n",
      "Iteration: \t91 / 100\n",
      "Confirmed: \t19\n",
      "Tentative: \t9\n",
      "Rejected: \t1059\n",
      "Iteration: \t92 / 100\n",
      "Confirmed: \t19\n",
      "Tentative: \t9\n",
      "Rejected: \t1059\n",
      "Iteration: \t93 / 100\n",
      "Confirmed: \t20\n",
      "Tentative: \t8\n",
      "Rejected: \t1059\n",
      "Iteration: \t94 / 100\n",
      "Confirmed: \t20\n",
      "Tentative: \t8\n",
      "Rejected: \t1059\n",
      "Iteration: \t95 / 100\n",
      "Confirmed: \t20\n",
      "Tentative: \t8\n",
      "Rejected: \t1059\n",
      "Iteration: \t96 / 100\n",
      "Confirmed: \t20\n",
      "Tentative: \t8\n",
      "Rejected: \t1059\n",
      "Iteration: \t97 / 100\n",
      "Confirmed: \t20\n",
      "Tentative: \t8\n",
      "Rejected: \t1059\n",
      "Iteration: \t98 / 100\n",
      "Confirmed: \t20\n",
      "Tentative: \t8\n",
      "Rejected: \t1059\n",
      "Iteration: \t99 / 100\n",
      "Confirmed: \t20\n",
      "Tentative: \t8\n",
      "Rejected: \t1059\n",
      "\n",
      "\n",
      "BorutaPy finished running.\n",
      "\n",
      "Iteration: \t100 / 100\n",
      "Confirmed: \t20\n",
      "Tentative: \t3\n",
      "Rejected: \t1059\n",
      "Ranking:                        Features  Ranking\n",
      "36            Years_Since_bank        1\n",
      "31              bal_cur_diff_2        1\n",
      "30              bal_sav_diff_2        1\n",
      "29      customer_self_employed        1\n",
      "28             customer_gender        1\n",
      "..                         ...      ...\n",
      "423  customer_postal_code_4217      594\n",
      "424  customer_postal_code_4218      594\n",
      "425  customer_postal_code_4219      594\n",
      "427  customer_postal_code_4252      594\n",
      "543  customer_postal_code_5004      594\n",
      "\n",
      "[1087 rows x 2 columns]\n",
      "No. of significant features:  20\n"
     ]
    }
   ],
   "source": [
    "# Select features using Boruta\n",
    "feature_selector, selected_features = feature_selection(X_train, y_train, columns_order)\n",
    "\n",
    "# Apply feature selection\n",
    "X_boruta= feature_selector.transform(np.array(X_train))\n",
    "X_test_boruta = feature_selector.transform(np.array(X_test)) "
   ]
  },
  {
   "cell_type": "markdown",
   "id": "d085aa9b",
   "metadata": {},
   "source": [
    "## Top 20 important features"
   ]
  },
  {
   "cell_type": "code",
   "execution_count": 10,
   "id": "032e55b0",
   "metadata": {
    "scrolled": true
   },
   "outputs": [
    {
     "data": {
      "text/html": [
       "<div>\n",
       "<style scoped>\n",
       "    .dataframe tbody tr th:only-of-type {\n",
       "        vertical-align: middle;\n",
       "    }\n",
       "\n",
       "    .dataframe tbody tr th {\n",
       "        vertical-align: top;\n",
       "    }\n",
       "\n",
       "    .dataframe thead th {\n",
       "        text-align: right;\n",
       "    }\n",
       "</style>\n",
       "<table border=\"1\" class=\"dataframe\">\n",
       "  <thead>\n",
       "    <tr style=\"text-align: right;\">\n",
       "      <th></th>\n",
       "      <th>Features</th>\n",
       "      <th>Ranking</th>\n",
       "    </tr>\n",
       "  </thead>\n",
       "  <tbody>\n",
       "    <tr>\n",
       "      <th>36</th>\n",
       "      <td>Years_Since_bank</td>\n",
       "      <td>1</td>\n",
       "    </tr>\n",
       "    <tr>\n",
       "      <th>31</th>\n",
       "      <td>bal_cur_diff_2</td>\n",
       "      <td>1</td>\n",
       "    </tr>\n",
       "    <tr>\n",
       "      <th>30</th>\n",
       "      <td>bal_sav_diff_2</td>\n",
       "      <td>1</td>\n",
       "    </tr>\n",
       "    <tr>\n",
       "      <th>29</th>\n",
       "      <td>customer_self_employed</td>\n",
       "      <td>1</td>\n",
       "    </tr>\n",
       "    <tr>\n",
       "      <th>28</th>\n",
       "      <td>customer_gender</td>\n",
       "      <td>1</td>\n",
       "    </tr>\n",
       "    <tr>\n",
       "      <th>26</th>\n",
       "      <td>visits_distinct_so</td>\n",
       "      <td>1</td>\n",
       "    </tr>\n",
       "    <tr>\n",
       "      <th>34</th>\n",
       "      <td>Age</td>\n",
       "      <td>1</td>\n",
       "    </tr>\n",
       "    <tr>\n",
       "      <th>23</th>\n",
       "      <td>bal_savings_account</td>\n",
       "      <td>1</td>\n",
       "    </tr>\n",
       "    <tr>\n",
       "      <th>35</th>\n",
       "      <td>Years_Since_all</td>\n",
       "      <td>1</td>\n",
       "    </tr>\n",
       "    <tr>\n",
       "      <th>21</th>\n",
       "      <td>bal_current_account</td>\n",
       "      <td>1</td>\n",
       "    </tr>\n",
       "    <tr>\n",
       "      <th>20</th>\n",
       "      <td>bal_mortgage_loan</td>\n",
       "      <td>1</td>\n",
       "    </tr>\n",
       "    <tr>\n",
       "      <th>18</th>\n",
       "      <td>prem_fire_car_other_insurance</td>\n",
       "      <td>1</td>\n",
       "    </tr>\n",
       "    <tr>\n",
       "      <th>17</th>\n",
       "      <td>cap_life_insurance_decreasing_cap</td>\n",
       "      <td>1</td>\n",
       "    </tr>\n",
       "    <tr>\n",
       "      <th>32</th>\n",
       "      <td>bal_sav_diff_1</td>\n",
       "      <td>1</td>\n",
       "    </tr>\n",
       "    <tr>\n",
       "      <th>37</th>\n",
       "      <td>customer_relationship_single</td>\n",
       "      <td>1</td>\n",
       "    </tr>\n",
       "    <tr>\n",
       "      <th>33</th>\n",
       "      <td>bal_cur_diff_1</td>\n",
       "      <td>1</td>\n",
       "    </tr>\n",
       "    <tr>\n",
       "      <th>6</th>\n",
       "      <td>has_fire_car_other_insurance</td>\n",
       "      <td>1</td>\n",
       "    </tr>\n",
       "    <tr>\n",
       "      <th>40</th>\n",
       "      <td>customer_children_no</td>\n",
       "      <td>1</td>\n",
       "    </tr>\n",
       "    <tr>\n",
       "      <th>39</th>\n",
       "      <td>customer_children_mature</td>\n",
       "      <td>1</td>\n",
       "    </tr>\n",
       "    <tr>\n",
       "      <th>9</th>\n",
       "      <td>has_current_account</td>\n",
       "      <td>1</td>\n",
       "    </tr>\n",
       "  </tbody>\n",
       "</table>\n",
       "</div>"
      ],
      "text/plain": [
       "                             Features  Ranking\n",
       "36                   Years_Since_bank        1\n",
       "31                     bal_cur_diff_2        1\n",
       "30                     bal_sav_diff_2        1\n",
       "29             customer_self_employed        1\n",
       "28                    customer_gender        1\n",
       "26                 visits_distinct_so        1\n",
       "34                                Age        1\n",
       "23                bal_savings_account        1\n",
       "35                    Years_Since_all        1\n",
       "21                bal_current_account        1\n",
       "20                  bal_mortgage_loan        1\n",
       "18      prem_fire_car_other_insurance        1\n",
       "17  cap_life_insurance_decreasing_cap        1\n",
       "32                     bal_sav_diff_1        1\n",
       "37       customer_relationship_single        1\n",
       "33                     bal_cur_diff_1        1\n",
       "6        has_fire_car_other_insurance        1\n",
       "40               customer_children_no        1\n",
       "39           customer_children_mature        1\n",
       "9                 has_current_account        1"
      ]
     },
     "execution_count": 10,
     "metadata": {},
     "output_type": "execute_result"
    }
   ],
   "source": [
    "selected_features.sort_values(by=['Ranking']).head(20)"
   ]
  },
  {
   "cell_type": "markdown",
   "id": "8e9ab99a",
   "metadata": {},
   "source": [
    "# Try number of models with selected important features"
   ]
  },
  {
   "cell_type": "code",
   "execution_count": 13,
   "id": "9fe65274",
   "metadata": {},
   "outputs": [
    {
     "name": "stdout",
     "output_type": "stream",
     "text": [
      "model: AdaBoostClassifier(random_state=11)  Train F1 Score:  0.8726\n",
      "model:  AdaBoostClassifier(random_state=11)  Test F1 Score:  0.9127\n",
      "model: BaggingClassifier(random_state=11)  Train F1 Score:  0.9943\n",
      "model:  BaggingClassifier(random_state=11)  Test F1 Score:  0.9434\n",
      "model: GradientBoostingClassifier(random_state=11)  Train F1 Score:  0.8927\n",
      "model:  GradientBoostingClassifier(random_state=11)  Test F1 Score:  0.9411\n",
      "model: RandomForestClassifier(n_jobs=-1, random_state=11)  Train F1 Score:  1.0\n",
      "model:  RandomForestClassifier(n_jobs=-1, random_state=11)  Test F1 Score:  0.9515\n"
     ]
    },
    {
     "name": "stderr",
     "output_type": "stream",
     "text": [
      "C:\\Users\\huudu\\anaconda3\\lib\\site-packages\\xgboost\\sklearn.py:1224: UserWarning: The use of label encoder in XGBClassifier is deprecated and will be removed in a future release. To remove this warning, do the following: 1) Pass option use_label_encoder=False when constructing XGBClassifier object; and 2) Encode your labels (y) as integers starting with 0, i.e. 0, 1, 2, ..., [num_class - 1].\n",
      "  warnings.warn(label_encoder_deprecation_msg, UserWarning)\n"
     ]
    },
    {
     "name": "stdout",
     "output_type": "stream",
     "text": [
      "[13:12:54] WARNING: ..\\src\\learner.cc:1115: Starting in XGBoost 1.3.0, the default evaluation metric used with the objective 'binary:logistic' was changed from 'error' to 'logloss'. Explicitly set eval_metric if you'd like to restore the old behavior.\n"
     ]
    },
    {
     "name": "stderr",
     "output_type": "stream",
     "text": [
      "C:\\Users\\huudu\\anaconda3\\lib\\site-packages\\xgboost\\sklearn.py:1224: UserWarning: The use of label encoder in XGBClassifier is deprecated and will be removed in a future release. To remove this warning, do the following: 1) Pass option use_label_encoder=False when constructing XGBClassifier object; and 2) Encode your labels (y) as integers starting with 0, i.e. 0, 1, 2, ..., [num_class - 1].\n",
      "  warnings.warn(label_encoder_deprecation_msg, UserWarning)\n"
     ]
    },
    {
     "name": "stdout",
     "output_type": "stream",
     "text": [
      "[13:12:55] WARNING: ..\\src\\learner.cc:1115: Starting in XGBoost 1.3.0, the default evaluation metric used with the objective 'binary:logistic' was changed from 'error' to 'logloss'. Explicitly set eval_metric if you'd like to restore the old behavior.\n"
     ]
    },
    {
     "name": "stderr",
     "output_type": "stream",
     "text": [
      "C:\\Users\\huudu\\anaconda3\\lib\\site-packages\\xgboost\\sklearn.py:1224: UserWarning: The use of label encoder in XGBClassifier is deprecated and will be removed in a future release. To remove this warning, do the following: 1) Pass option use_label_encoder=False when constructing XGBClassifier object; and 2) Encode your labels (y) as integers starting with 0, i.e. 0, 1, 2, ..., [num_class - 1].\n",
      "  warnings.warn(label_encoder_deprecation_msg, UserWarning)\n"
     ]
    },
    {
     "name": "stdout",
     "output_type": "stream",
     "text": [
      "[13:12:56] WARNING: ..\\src\\learner.cc:1115: Starting in XGBoost 1.3.0, the default evaluation metric used with the objective 'binary:logistic' was changed from 'error' to 'logloss'. Explicitly set eval_metric if you'd like to restore the old behavior.\n"
     ]
    },
    {
     "name": "stderr",
     "output_type": "stream",
     "text": [
      "C:\\Users\\huudu\\anaconda3\\lib\\site-packages\\xgboost\\sklearn.py:1224: UserWarning: The use of label encoder in XGBClassifier is deprecated and will be removed in a future release. To remove this warning, do the following: 1) Pass option use_label_encoder=False when constructing XGBClassifier object; and 2) Encode your labels (y) as integers starting with 0, i.e. 0, 1, 2, ..., [num_class - 1].\n",
      "  warnings.warn(label_encoder_deprecation_msg, UserWarning)\n"
     ]
    },
    {
     "name": "stdout",
     "output_type": "stream",
     "text": [
      "[13:12:57] WARNING: ..\\src\\learner.cc:1115: Starting in XGBoost 1.3.0, the default evaluation metric used with the objective 'binary:logistic' was changed from 'error' to 'logloss'. Explicitly set eval_metric if you'd like to restore the old behavior.\n"
     ]
    },
    {
     "name": "stderr",
     "output_type": "stream",
     "text": [
      "C:\\Users\\huudu\\anaconda3\\lib\\site-packages\\xgboost\\sklearn.py:1224: UserWarning: The use of label encoder in XGBClassifier is deprecated and will be removed in a future release. To remove this warning, do the following: 1) Pass option use_label_encoder=False when constructing XGBClassifier object; and 2) Encode your labels (y) as integers starting with 0, i.e. 0, 1, 2, ..., [num_class - 1].\n",
      "  warnings.warn(label_encoder_deprecation_msg, UserWarning)\n"
     ]
    },
    {
     "name": "stdout",
     "output_type": "stream",
     "text": [
      "[13:12:58] WARNING: ..\\src\\learner.cc:1115: Starting in XGBoost 1.3.0, the default evaluation metric used with the objective 'binary:logistic' was changed from 'error' to 'logloss'. Explicitly set eval_metric if you'd like to restore the old behavior.\n"
     ]
    },
    {
     "name": "stderr",
     "output_type": "stream",
     "text": [
      "C:\\Users\\huudu\\anaconda3\\lib\\site-packages\\xgboost\\sklearn.py:1224: UserWarning: The use of label encoder in XGBClassifier is deprecated and will be removed in a future release. To remove this warning, do the following: 1) Pass option use_label_encoder=False when constructing XGBClassifier object; and 2) Encode your labels (y) as integers starting with 0, i.e. 0, 1, 2, ..., [num_class - 1].\n",
      "  warnings.warn(label_encoder_deprecation_msg, UserWarning)\n"
     ]
    },
    {
     "name": "stdout",
     "output_type": "stream",
     "text": [
      "[13:12:59] WARNING: ..\\src\\learner.cc:1115: Starting in XGBoost 1.3.0, the default evaluation metric used with the objective 'binary:logistic' was changed from 'error' to 'logloss'. Explicitly set eval_metric if you'd like to restore the old behavior.\n",
      "[13:13:00] WARNING: ..\\src\\learner.cc:1115: Starting in XGBoost 1.3.0, the default evaluation metric used with the objective 'binary:logistic' was changed from 'error' to 'logloss'. Explicitly set eval_metric if you'd like to restore the old behavior.\n",
      "model: XGBClassifier(base_score=0.5, booster='gbtree', colsample_bylevel=1,\n",
      "              colsample_bynode=1, colsample_bytree=1, enable_categorical=False,\n",
      "              gamma=0, gpu_id=-1, importance_type=None,\n",
      "              interaction_constraints='', learning_rate=0.300000012,\n",
      "              max_delta_step=0, max_depth=6, min_child_weight=1, missing=nan,\n",
      "              monotone_constraints='()', n_estimators=100, n_jobs=8,\n",
      "              num_parallel_tree=1, predictor='auto', random_state=42,\n",
      "              reg_alpha=0, reg_lambda=1, scale_pos_weight=1, subsample=1,\n",
      "              tree_method='exact', validate_parameters=1, verbosity=None)  Train F1 Score:  0.9748\n",
      "model:  XGBClassifier(base_score=0.5, booster='gbtree', colsample_bylevel=1,\n",
      "              colsample_bynode=1, colsample_bytree=1, enable_categorical=False,\n",
      "              gamma=0, gpu_id=-1, importance_type=None,\n",
      "              interaction_constraints='', learning_rate=0.300000012,\n",
      "              max_delta_step=0, max_depth=6, min_child_weight=1, missing=nan,\n",
      "              monotone_constraints='()', n_estimators=100, n_jobs=8,\n",
      "              num_parallel_tree=1, predictor='auto', random_state=42,\n",
      "              reg_alpha=0, reg_lambda=1, scale_pos_weight=1, subsample=1,\n",
      "              tree_method='exact', validate_parameters=1, verbosity=None)  Test F1 Score:  0.9652\n"
     ]
    },
    {
     "data": {
      "text/html": [
       "<div>\n",
       "<style scoped>\n",
       "    .dataframe tbody tr th:only-of-type {\n",
       "        vertical-align: middle;\n",
       "    }\n",
       "\n",
       "    .dataframe tbody tr th {\n",
       "        vertical-align: top;\n",
       "    }\n",
       "\n",
       "    .dataframe thead th {\n",
       "        text-align: right;\n",
       "    }\n",
       "</style>\n",
       "<table border=\"1\" class=\"dataframe\">\n",
       "  <thead>\n",
       "    <tr style=\"text-align: right;\">\n",
       "      <th></th>\n",
       "      <th>Name</th>\n",
       "      <th>Train F1 Score</th>\n",
       "      <th>Test F1 Score</th>\n",
       "    </tr>\n",
       "  </thead>\n",
       "  <tbody>\n",
       "    <tr>\n",
       "      <th>4</th>\n",
       "      <td>XGBClassifier</td>\n",
       "      <td>0.9748</td>\n",
       "      <td>0.9652</td>\n",
       "    </tr>\n",
       "    <tr>\n",
       "      <th>3</th>\n",
       "      <td>RandomForestClassifier</td>\n",
       "      <td>1.0000</td>\n",
       "      <td>0.9515</td>\n",
       "    </tr>\n",
       "    <tr>\n",
       "      <th>1</th>\n",
       "      <td>BaggingClassifier</td>\n",
       "      <td>0.9943</td>\n",
       "      <td>0.9434</td>\n",
       "    </tr>\n",
       "    <tr>\n",
       "      <th>2</th>\n",
       "      <td>GradientBoostingClassifier</td>\n",
       "      <td>0.8927</td>\n",
       "      <td>0.9411</td>\n",
       "    </tr>\n",
       "    <tr>\n",
       "      <th>0</th>\n",
       "      <td>AdaBoostClassifier</td>\n",
       "      <td>0.8726</td>\n",
       "      <td>0.9127</td>\n",
       "    </tr>\n",
       "  </tbody>\n",
       "</table>\n",
       "</div>"
      ],
      "text/plain": [
       "                         Name  Train F1 Score  Test F1 Score\n",
       "4               XGBClassifier          0.9748         0.9652\n",
       "3      RandomForestClassifier          1.0000         0.9515\n",
       "1           BaggingClassifier          0.9943         0.9434\n",
       "2  GradientBoostingClassifier          0.8927         0.9411\n",
       "0          AdaBoostClassifier          0.8726         0.9127"
      ]
     },
     "execution_count": 13,
     "metadata": {},
     "output_type": "execute_result"
    }
   ],
   "source": [
    "\n",
    "\n",
    "MLA = [\n",
    "\n",
    "    #Ensemble Methods\n",
    "    ensemble.AdaBoostClassifier(random_state=11),\n",
    "    ensemble.BaggingClassifier(random_state=11),\n",
    "    ensemble.GradientBoostingClassifier(random_state=11),\n",
    "    ensemble.RandomForestClassifier(n_jobs = -1,random_state=11),\n",
    "    xgb.XGBClassifier(random_state=42)\n",
    "]\n",
    "\n",
    "MLA_columns_boruta = []\n",
    "MLA_compare_boruta = pd.DataFrame(columns = MLA_columns_boruta)\n",
    "results_boruta=[]\n",
    "row_index = 0\n",
    "fitted_model_boruta = []\n",
    "for alg in MLA:\n",
    "\n",
    "    cv_results = cross_val_score(alg, X_boruta, y_train, cv=5, scoring='f1')\n",
    "    results_boruta.append(cv_results)\n",
    "    predicted = alg.fit(X_boruta, y_train).predict(X_test_boruta)\n",
    "    #fp, tp, th = roc_curve(y_test, predicted)\n",
    "    model = alg.fit(X_boruta, y_train)\n",
    "    fitted_model_boruta.append(model)\n",
    "    MLA_name = alg.__class__.__name__\n",
    "    MLA_compare_boruta.loc[row_index, 'Name'] = MLA_name\n",
    "    MLA_compare_boruta.loc[row_index, 'Train F1 Score'] = round(alg.score(X_boruta, y_train), 4)\n",
    "    print(\"model:\", alg,  \" Train F1 Score: \", round(alg.score(X_boruta, y_train), 4))\n",
    "    MLA_compare_boruta.loc[row_index, 'Test F1 Score'] = round(alg.score(X_test_boruta , y_test), 4)\n",
    "    print(\"model: \",alg,  \" Test F1 Score: \", round(alg.score(X_test_boruta , y_test), 4))\n",
    "    #MLA_compare_boruta.loc[row_index, 'AUC'] = auc(fp, tp)  \n",
    "    row_index+=1\n",
    "    \n",
    "MLA_compare_boruta.sort_values(by = ['Test F1 Score'], ascending = False, inplace = True)    \n",
    "MLA_compare_boruta"
   ]
  },
  {
   "cell_type": "markdown",
   "id": "babf6984",
   "metadata": {},
   "source": [
    "## AUC Comparision"
   ]
  },
  {
   "cell_type": "code",
   "execution_count": 14,
   "id": "3af436b5",
   "metadata": {
    "scrolled": true
   },
   "outputs": [
    {
     "data": {
      "image/png": "[encoded data removed]",
      "text/plain": [
       "<Figure size 432x288 with 1 Axes>"
      ]
     },
     "metadata": {
      "needs_background": "light"
     },
     "output_type": "display_data"
    }
   ],
   "source": [
    "ax = plt.gca()\n",
    "for mo in fitted_model_boruta:\n",
    "    mo_disp = RocCurveDisplay.from_estimator(\n",
    "    mo, X_boruta, y_train, ax=ax, alpha=0.8)\n",
    "plt.show()"
   ]
  },
  {
   "cell_type": "code",
   "execution_count": 15,
   "id": "10322deb",
   "metadata": {},
   "outputs": [
    {
     "data": {
      "image/png": "[encoded data removed]",
      "text/plain": [
       "<Figure size 432x288 with 1 Axes>"
      ]
     },
     "metadata": {
      "needs_background": "light"
     },
     "output_type": "display_data"
    }
   ],
   "source": [
    "ax = plt.gca()\n",
    "for mo in fitted_model_boruta:\n",
    "    mo_disp = RocCurveDisplay.from_estimator(\n",
    "    mo, X_test_boruta, y_test, ax=ax, alpha=0.8)\n",
    "plt.show()"
   ]
  },
  {
   "cell_type": "markdown",
   "id": "c99fdec4",
   "metadata": {},
   "source": [
    "# Try the models with all features"
   ]
  },
  {
   "cell_type": "code",
   "execution_count": 16,
   "id": "948612e9",
   "metadata": {
    "scrolled": true
   },
   "outputs": [
    {
     "name": "stdout",
     "output_type": "stream",
     "text": [
      "model: AdaBoostClassifier(random_state=11)  Train F1 Score:  0.891\n",
      "model:  AdaBoostClassifier(random_state=11)  Test F1 Score:  0.9131\n",
      "model: BaggingClassifier(random_state=11)  Train F1 Score:  0.9934\n",
      "model:  BaggingClassifier(random_state=11)  Test F1 Score:  0.9372\n",
      "model: GradientBoostingClassifier(random_state=11)  Train F1 Score:  0.8991\n",
      "model:  GradientBoostingClassifier(random_state=11)  Test F1 Score:  0.9445\n",
      "model: RandomForestClassifier(n_jobs=-1, random_state=11)  Train F1 Score:  1.0\n",
      "model:  RandomForestClassifier(n_jobs=-1, random_state=11)  Test F1 Score:  0.9515\n"
     ]
    },
    {
     "name": "stderr",
     "output_type": "stream",
     "text": [
      "C:\\Users\\huudu\\anaconda3\\lib\\site-packages\\xgboost\\sklearn.py:1224: UserWarning: The use of label encoder in XGBClassifier is deprecated and will be removed in a future release. To remove this warning, do the following: 1) Pass option use_label_encoder=False when constructing XGBClassifier object; and 2) Encode your labels (y) as integers starting with 0, i.e. 0, 1, 2, ..., [num_class - 1].\n",
      "  warnings.warn(label_encoder_deprecation_msg, UserWarning)\n"
     ]
    },
    {
     "name": "stdout",
     "output_type": "stream",
     "text": [
      "[13:22:44] WARNING: ..\\src\\learner.cc:1115: Starting in XGBoost 1.3.0, the default evaluation metric used with the objective 'binary:logistic' was changed from 'error' to 'logloss'. Explicitly set eval_metric if you'd like to restore the old behavior.\n"
     ]
    },
    {
     "name": "stderr",
     "output_type": "stream",
     "text": [
      "C:\\Users\\huudu\\anaconda3\\lib\\site-packages\\xgboost\\sklearn.py:1224: UserWarning: The use of label encoder in XGBClassifier is deprecated and will be removed in a future release. To remove this warning, do the following: 1) Pass option use_label_encoder=False when constructing XGBClassifier object; and 2) Encode your labels (y) as integers starting with 0, i.e. 0, 1, 2, ..., [num_class - 1].\n",
      "  warnings.warn(label_encoder_deprecation_msg, UserWarning)\n"
     ]
    },
    {
     "name": "stdout",
     "output_type": "stream",
     "text": [
      "[13:23:00] WARNING: ..\\src\\learner.cc:1115: Starting in XGBoost 1.3.0, the default evaluation metric used with the objective 'binary:logistic' was changed from 'error' to 'logloss'. Explicitly set eval_metric if you'd like to restore the old behavior.\n"
     ]
    },
    {
     "name": "stderr",
     "output_type": "stream",
     "text": [
      "C:\\Users\\huudu\\anaconda3\\lib\\site-packages\\xgboost\\sklearn.py:1224: UserWarning: The use of label encoder in XGBClassifier is deprecated and will be removed in a future release. To remove this warning, do the following: 1) Pass option use_label_encoder=False when constructing XGBClassifier object; and 2) Encode your labels (y) as integers starting with 0, i.e. 0, 1, 2, ..., [num_class - 1].\n",
      "  warnings.warn(label_encoder_deprecation_msg, UserWarning)\n"
     ]
    },
    {
     "name": "stdout",
     "output_type": "stream",
     "text": [
      "[13:23:19] WARNING: ..\\src\\learner.cc:1115: Starting in XGBoost 1.3.0, the default evaluation metric used with the objective 'binary:logistic' was changed from 'error' to 'logloss'. Explicitly set eval_metric if you'd like to restore the old behavior.\n"
     ]
    },
    {
     "name": "stderr",
     "output_type": "stream",
     "text": [
      "C:\\Users\\huudu\\anaconda3\\lib\\site-packages\\xgboost\\sklearn.py:1224: UserWarning: The use of label encoder in XGBClassifier is deprecated and will be removed in a future release. To remove this warning, do the following: 1) Pass option use_label_encoder=False when constructing XGBClassifier object; and 2) Encode your labels (y) as integers starting with 0, i.e. 0, 1, 2, ..., [num_class - 1].\n",
      "  warnings.warn(label_encoder_deprecation_msg, UserWarning)\n"
     ]
    },
    {
     "name": "stdout",
     "output_type": "stream",
     "text": [
      "[13:23:38] WARNING: ..\\src\\learner.cc:1115: Starting in XGBoost 1.3.0, the default evaluation metric used with the objective 'binary:logistic' was changed from 'error' to 'logloss'. Explicitly set eval_metric if you'd like to restore the old behavior.\n"
     ]
    },
    {
     "name": "stderr",
     "output_type": "stream",
     "text": [
      "C:\\Users\\huudu\\anaconda3\\lib\\site-packages\\xgboost\\sklearn.py:1224: UserWarning: The use of label encoder in XGBClassifier is deprecated and will be removed in a future release. To remove this warning, do the following: 1) Pass option use_label_encoder=False when constructing XGBClassifier object; and 2) Encode your labels (y) as integers starting with 0, i.e. 0, 1, 2, ..., [num_class - 1].\n",
      "  warnings.warn(label_encoder_deprecation_msg, UserWarning)\n"
     ]
    },
    {
     "name": "stdout",
     "output_type": "stream",
     "text": [
      "[13:23:57] WARNING: ..\\src\\learner.cc:1115: Starting in XGBoost 1.3.0, the default evaluation metric used with the objective 'binary:logistic' was changed from 'error' to 'logloss'. Explicitly set eval_metric if you'd like to restore the old behavior.\n"
     ]
    },
    {
     "name": "stderr",
     "output_type": "stream",
     "text": [
      "C:\\Users\\huudu\\anaconda3\\lib\\site-packages\\xgboost\\sklearn.py:1224: UserWarning: The use of label encoder in XGBClassifier is deprecated and will be removed in a future release. To remove this warning, do the following: 1) Pass option use_label_encoder=False when constructing XGBClassifier object; and 2) Encode your labels (y) as integers starting with 0, i.e. 0, 1, 2, ..., [num_class - 1].\n",
      "  warnings.warn(label_encoder_deprecation_msg, UserWarning)\n"
     ]
    },
    {
     "name": "stdout",
     "output_type": "stream",
     "text": [
      "[13:24:16] WARNING: ..\\src\\learner.cc:1115: Starting in XGBoost 1.3.0, the default evaluation metric used with the objective 'binary:logistic' was changed from 'error' to 'logloss'. Explicitly set eval_metric if you'd like to restore the old behavior.\n",
      "[13:24:40] WARNING: ..\\src\\learner.cc:1115: Starting in XGBoost 1.3.0, the default evaluation metric used with the objective 'binary:logistic' was changed from 'error' to 'logloss'. Explicitly set eval_metric if you'd like to restore the old behavior.\n",
      "model: XGBClassifier(base_score=0.5, booster='gbtree', colsample_bylevel=1,\n",
      "              colsample_bynode=1, colsample_bytree=1, enable_categorical=False,\n",
      "              gamma=0, gpu_id=-1, importance_type=None,\n",
      "              interaction_constraints='', learning_rate=0.300000012,\n",
      "              max_delta_step=0, max_depth=6, min_child_weight=1, missing=nan,\n",
      "              monotone_constraints='()', n_estimators=100, n_jobs=8,\n",
      "              num_parallel_tree=1, predictor='auto', random_state=42,\n",
      "              reg_alpha=0, reg_lambda=1, scale_pos_weight=1, subsample=1,\n",
      "              tree_method='exact', validate_parameters=1, verbosity=None)  Train F1 Score:  0.9627\n",
      "model:  XGBClassifier(base_score=0.5, booster='gbtree', colsample_bylevel=1,\n",
      "              colsample_bynode=1, colsample_bytree=1, enable_categorical=False,\n",
      "              gamma=0, gpu_id=-1, importance_type=None,\n",
      "              interaction_constraints='', learning_rate=0.300000012,\n",
      "              max_delta_step=0, max_depth=6, min_child_weight=1, missing=nan,\n",
      "              monotone_constraints='()', n_estimators=100, n_jobs=8,\n",
      "              num_parallel_tree=1, predictor='auto', random_state=42,\n",
      "              reg_alpha=0, reg_lambda=1, scale_pos_weight=1, subsample=1,\n",
      "              tree_method='exact', validate_parameters=1, verbosity=None)  Test F1 Score:  0.9596\n"
     ]
    },
    {
     "data": {
      "text/html": [
       "<div>\n",
       "<style scoped>\n",
       "    .dataframe tbody tr th:only-of-type {\n",
       "        vertical-align: middle;\n",
       "    }\n",
       "\n",
       "    .dataframe tbody tr th {\n",
       "        vertical-align: top;\n",
       "    }\n",
       "\n",
       "    .dataframe thead th {\n",
       "        text-align: right;\n",
       "    }\n",
       "</style>\n",
       "<table border=\"1\" class=\"dataframe\">\n",
       "  <thead>\n",
       "    <tr style=\"text-align: right;\">\n",
       "      <th></th>\n",
       "      <th>Name</th>\n",
       "      <th>Train F1 Score</th>\n",
       "      <th>Test F1 Score</th>\n",
       "    </tr>\n",
       "  </thead>\n",
       "  <tbody>\n",
       "    <tr>\n",
       "      <th>4</th>\n",
       "      <td>XGBClassifier</td>\n",
       "      <td>0.9627</td>\n",
       "      <td>0.9596</td>\n",
       "    </tr>\n",
       "    <tr>\n",
       "      <th>3</th>\n",
       "      <td>RandomForestClassifier</td>\n",
       "      <td>1.0000</td>\n",
       "      <td>0.9515</td>\n",
       "    </tr>\n",
       "    <tr>\n",
       "      <th>2</th>\n",
       "      <td>GradientBoostingClassifier</td>\n",
       "      <td>0.8991</td>\n",
       "      <td>0.9445</td>\n",
       "    </tr>\n",
       "    <tr>\n",
       "      <th>1</th>\n",
       "      <td>BaggingClassifier</td>\n",
       "      <td>0.9934</td>\n",
       "      <td>0.9372</td>\n",
       "    </tr>\n",
       "    <tr>\n",
       "      <th>0</th>\n",
       "      <td>AdaBoostClassifier</td>\n",
       "      <td>0.8910</td>\n",
       "      <td>0.9131</td>\n",
       "    </tr>\n",
       "  </tbody>\n",
       "</table>\n",
       "</div>"
      ],
      "text/plain": [
       "                         Name  Train F1 Score  Test F1 Score\n",
       "4               XGBClassifier          0.9627         0.9596\n",
       "3      RandomForestClassifier          1.0000         0.9515\n",
       "2  GradientBoostingClassifier          0.8991         0.9445\n",
       "1           BaggingClassifier          0.9934         0.9372\n",
       "0          AdaBoostClassifier          0.8910         0.9131"
      ]
     },
     "execution_count": 16,
     "metadata": {},
     "output_type": "execute_result"
    }
   ],
   "source": [
    "MLA = [\n",
    "    #Ensemble Methods\n",
    "    ensemble.AdaBoostClassifier(random_state=11),\n",
    "    ensemble.BaggingClassifier(random_state=11),\n",
    "    ensemble.GradientBoostingClassifier(random_state=11),\n",
    "    ensemble.RandomForestClassifier(n_jobs = -1,random_state=11),\n",
    "    xgb.XGBClassifier(random_state=42)\n",
    "]\n",
    "\n",
    "MLA_columns = []\n",
    "MLA_compare = pd.DataFrame(columns = MLA_columns)\n",
    "results=[]\n",
    "row_index = 0\n",
    "fitted_model = []\n",
    "for alg in MLA:\n",
    "    cv_results = cross_val_score(alg, X_train, y_train, cv=5, scoring='f1')\n",
    "    results.append(cv_results)\n",
    "    predicted = alg.fit(X_train, y_train).predict(X_test)\n",
    "    model = alg.fit(X_train, y_train)\n",
    "    fitted_model.append(model)\n",
    "    #fp, tp, th = roc_curve(y_test, predicted)\n",
    "    MLA_name = alg.__class__.__name__\n",
    "    MLA_compare.loc[row_index, 'Name'] = MLA_name\n",
    "    MLA_compare.loc[row_index, 'Train F1 Score'] = round(alg.score(X_train, y_train), 4)\n",
    "    print(\"model:\", alg,  \" Train F1 Score: \", round(alg.score(X_train, y_train), 4))\n",
    "    MLA_compare.loc[row_index, 'Test F1 Score'] = round(alg.score(X_test , y_test), 4)\n",
    "    print(\"model: \",alg,  \" Test F1 Score: \", round(alg.score(X_test , y_test), 4))\n",
    "    #MLA_compare.loc[row_index, 'AUC'] = auc(fp, tp)  \n",
    "    row_index+=1\n",
    "    \n",
    "MLA_compare.sort_values(by = ['Test F1 Score'], ascending = False, inplace = True)    \n",
    "MLA_compare"
   ]
  },
  {
   "cell_type": "markdown",
   "id": "19182a84",
   "metadata": {},
   "source": [
    "## AUC Comparision "
   ]
  },
  {
   "cell_type": "code",
   "execution_count": 17,
   "id": "eb71c09b",
   "metadata": {},
   "outputs": [
    {
     "data": {
      "image/png": "[encoded data removed]",
      "text/plain": [
       "<Figure size 432x288 with 1 Axes>"
      ]
     },
     "metadata": {
      "needs_background": "light"
     },
     "output_type": "display_data"
    }
   ],
   "source": [
    "ax = plt.gca()\n",
    "for mo in fitted_model:\n",
    "    mo_disp = RocCurveDisplay.from_estimator(\n",
    "    mo, X_train, y_train, ax=ax, alpha=0.8)\n",
    "plt.show()"
   ]
  },
  {
   "cell_type": "code",
   "execution_count": 18,
   "id": "079295fb",
   "metadata": {},
   "outputs": [
    {
     "data": {
      "image/png": "[encoded data removed]",
      "text/plain": [
       "<Figure size 432x288 with 1 Axes>"
      ]
     },
     "metadata": {
      "needs_background": "light"
     },
     "output_type": "display_data"
    }
   ],
   "source": [
    "ax = plt.gca()\n",
    "for mo in fitted_model:\n",
    "    mo_disp = RocCurveDisplay.from_estimator(\n",
    "    mo, X_test, y_test, ax=ax, alpha=0.8)\n",
    "plt.show()"
   ]
  },
  {
   "cell_type": "code",
   "execution_count": null,
   "id": "580edeff",
   "metadata": {},
   "outputs": [],
   "source": []
  },
  {
   "cell_type": "code",
   "execution_count": null,
   "id": "c071f580",
   "metadata": {},
   "outputs": [],
   "source": []
  },
  {
   "cell_type": "code",
   "execution_count": null,
   "id": "678347df",
   "metadata": {},
   "outputs": [],
   "source": []
  },
  {
   "cell_type": "code",
   "execution_count": null,
   "id": "0a9b032c",
   "metadata": {},
   "outputs": [],
   "source": []
  },
  {
   "cell_type": "code",
   "execution_count": null,
   "id": "e672297e",
   "metadata": {},
   "outputs": [],
   "source": []
  },
  {
   "cell_type": "code",
   "execution_count": null,
   "id": "2f14bb0c",
   "metadata": {},
   "outputs": [],
   "source": []
  },
  {
   "cell_type": "code",
   "execution_count": null,
   "id": "5b050a21",
   "metadata": {},
   "outputs": [],
   "source": []
  },
  {
   "cell_type": "code",
   "execution_count": null,
   "id": "9c353119",
   "metadata": {},
   "outputs": [],
   "source": []
  },
  {
   "cell_type": "code",
   "execution_count": null,
   "id": "44b88a66",
   "metadata": {},
   "outputs": [],
   "source": []
  },
  {
   "cell_type": "code",
   "execution_count": null,
   "id": "9cf0a508",
   "metadata": {},
   "outputs": [],
   "source": []
  }
 ],
 "metadata": {
  "kernelspec": {
   "display_name": "Python 3 (ipykernel)",
   "language": "python",
   "name": "python3"
  },
  "language_info": {
   "codemirror_mode": {
    "name": "ipython",
    "version": 3
   },
   "file_extension": ".py",
   "mimetype": "text/x-python",
   "name": "python",
   "nbconvert_exporter": "python",
   "pygments_lexer": "ipython3",
   "version": "3.9.7"
  }
 },
 "nbformat": 4,
 "nbformat_minor": 5
}
